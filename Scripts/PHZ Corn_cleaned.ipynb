{
 "cells": [
  {
   "cell_type": "markdown",
   "id": "f371222e-c152-41dd-8308-7ebbead1bfbe",
   "metadata": {},
   "source": [
    "# FIRST CLEANING OF CORN DATA\n",
    "## cleaned in excel, now to Python\n",
    "### This script includes the following:\n",
    "#### 1 Importing and Cleaning Data\n",
    "#### 2 Addressing Null Values\n",
    "#### 3 Dropping Columns\n",
    "#### 4 Addressing Duplicates\n",
    "#### 5. Exporting Cleaned Data Set"
   ]
  },
  {
   "cell_type": "markdown",
   "id": "3e7a0cf7-788e-47af-b727-7615b364362a",
   "metadata": {
    "jp-MarkdownHeadingCollapsed": true
   },
   "source": [
    "## 1 Importing and Cleaning Data"
   ]
  },
  {
   "cell_type": "code",
   "execution_count": 3,
   "id": "1f958e57-924d-4c61-9188-0101888a340e",
   "metadata": {},
   "outputs": [],
   "source": [
    "import pandas as pd\n",
    "import numpy as np\n",
    "import os\n",
    "import seaborn as sns\n",
    "import matplotlib.pyplot as plt"
   ]
  },
  {
   "cell_type": "code",
   "execution_count": 4,
   "id": "00683759-93eb-47f0-b597-8d0e9ae281dc",
   "metadata": {},
   "outputs": [],
   "source": [
    "path = r\"C:\\Users\\Noah\\Achievement 6\""
   ]
  },
  {
   "cell_type": "code",
   "execution_count": 5,
   "id": "6eff5699-ab95-423a-9c2f-4d021515b92b",
   "metadata": {},
   "outputs": [],
   "source": [
    "# importing corn data\n",
    "df = pd.read_csv(os.path.join(path, '02 Data', 'Cleaned', 'Corn Cleaned.csv'), index_col=False)"
   ]
  },
  {
   "cell_type": "code",
   "execution_count": 6,
   "id": "c057c714-f58f-4ff0-bc6e-74e7916253a9",
   "metadata": {},
   "outputs": [
    {
     "data": {
      "text/plain": [
       "(5298, 16)"
      ]
     },
     "execution_count": 6,
     "metadata": {},
     "output_type": "execute_result"
    }
   ],
   "source": [
    "df.shape"
   ]
  },
  {
   "cell_type": "markdown",
   "id": "bb260ea2-14e2-4d0e-a74f-38552d5bce3e",
   "metadata": {},
   "source": [
    "### consistency checks"
   ]
  },
  {
   "cell_type": "code",
   "execution_count": 8,
   "id": "236c1913-9478-47c0-9b19-bf6e31337ed5",
   "metadata": {
    "scrolled": true
   },
   "outputs": [
    {
     "data": {
      "text/html": [
       "<div>\n",
       "<style scoped>\n",
       "    .dataframe tbody tr th:only-of-type {\n",
       "        vertical-align: middle;\n",
       "    }\n",
       "\n",
       "    .dataframe tbody tr th {\n",
       "        vertical-align: top;\n",
       "    }\n",
       "\n",
       "    .dataframe thead th {\n",
       "        text-align: right;\n",
       "    }\n",
       "</style>\n",
       "<table border=\"1\" class=\"dataframe\">\n",
       "  <thead>\n",
       "    <tr style=\"text-align: right;\">\n",
       "      <th></th>\n",
       "      <th>Year</th>\n",
       "      <th>Zip code</th>\n",
       "      <th>latitude</th>\n",
       "      <th>longitude</th>\n",
       "      <th>Sales ($)</th>\n",
       "      <th>State ANSI</th>\n",
       "      <th>Ag District Code</th>\n",
       "    </tr>\n",
       "  </thead>\n",
       "  <tbody>\n",
       "    <tr>\n",
       "      <th>count</th>\n",
       "      <td>5298.000000</td>\n",
       "      <td>5298.000000</td>\n",
       "      <td>5169.000000</td>\n",
       "      <td>5169.000000</td>\n",
       "      <td>5.298000e+03</td>\n",
       "      <td>5298.000000</td>\n",
       "      <td>5298.000000</td>\n",
       "    </tr>\n",
       "    <tr>\n",
       "      <th>mean</th>\n",
       "      <td>2017.564364</td>\n",
       "      <td>50493.010004</td>\n",
       "      <td>38.376429</td>\n",
       "      <td>-90.915740</td>\n",
       "      <td>2.924222e+07</td>\n",
       "      <td>30.486976</td>\n",
       "      <td>48.299358</td>\n",
       "    </tr>\n",
       "    <tr>\n",
       "      <th>std</th>\n",
       "      <td>4.968516</td>\n",
       "      <td>21550.142365</td>\n",
       "      <td>4.652816</td>\n",
       "      <td>10.183299</td>\n",
       "      <td>5.146335e+07</td>\n",
       "      <td>14.507038</td>\n",
       "      <td>25.511498</td>\n",
       "    </tr>\n",
       "    <tr>\n",
       "      <th>min</th>\n",
       "      <td>2012.000000</td>\n",
       "      <td>501.000000</td>\n",
       "      <td>24.820000</td>\n",
       "      <td>-124.150000</td>\n",
       "      <td>0.000000e+00</td>\n",
       "      <td>1.000000</td>\n",
       "      <td>10.000000</td>\n",
       "    </tr>\n",
       "    <tr>\n",
       "      <th>25%</th>\n",
       "      <td>2012.000000</td>\n",
       "      <td>32601.000000</td>\n",
       "      <td>35.030000</td>\n",
       "      <td>-96.850000</td>\n",
       "      <td>3.647500e+05</td>\n",
       "      <td>19.000000</td>\n",
       "      <td>30.000000</td>\n",
       "    </tr>\n",
       "    <tr>\n",
       "      <th>50%</th>\n",
       "      <td>2022.000000</td>\n",
       "      <td>50046.500000</td>\n",
       "      <td>38.460000</td>\n",
       "      <td>-89.460000</td>\n",
       "      <td>5.685500e+06</td>\n",
       "      <td>29.000000</td>\n",
       "      <td>50.000000</td>\n",
       "    </tr>\n",
       "    <tr>\n",
       "      <th>75%</th>\n",
       "      <td>2022.000000</td>\n",
       "      <td>67438.500000</td>\n",
       "      <td>41.660000</td>\n",
       "      <td>-83.570000</td>\n",
       "      <td>3.254300e+07</td>\n",
       "      <td>44.000000</td>\n",
       "      <td>70.000000</td>\n",
       "    </tr>\n",
       "    <tr>\n",
       "      <th>max</th>\n",
       "      <td>2022.000000</td>\n",
       "      <td>99328.000000</td>\n",
       "      <td>48.990000</td>\n",
       "      <td>-67.760000</td>\n",
       "      <td>3.937870e+08</td>\n",
       "      <td>56.000000</td>\n",
       "      <td>97.000000</td>\n",
       "    </tr>\n",
       "  </tbody>\n",
       "</table>\n",
       "</div>"
      ],
      "text/plain": [
       "              Year      Zip code     latitude    longitude     Sales ($)  \\\n",
       "count  5298.000000   5298.000000  5169.000000  5169.000000  5.298000e+03   \n",
       "mean   2017.564364  50493.010004    38.376429   -90.915740  2.924222e+07   \n",
       "std       4.968516  21550.142365     4.652816    10.183299  5.146335e+07   \n",
       "min    2012.000000    501.000000    24.820000  -124.150000  0.000000e+00   \n",
       "25%    2012.000000  32601.000000    35.030000   -96.850000  3.647500e+05   \n",
       "50%    2022.000000  50046.500000    38.460000   -89.460000  5.685500e+06   \n",
       "75%    2022.000000  67438.500000    41.660000   -83.570000  3.254300e+07   \n",
       "max    2022.000000  99328.000000    48.990000   -67.760000  3.937870e+08   \n",
       "\n",
       "        State ANSI  Ag District Code  \n",
       "count  5298.000000       5298.000000  \n",
       "mean     30.486976         48.299358  \n",
       "std      14.507038         25.511498  \n",
       "min       1.000000         10.000000  \n",
       "25%      19.000000         30.000000  \n",
       "50%      29.000000         50.000000  \n",
       "75%      44.000000         70.000000  \n",
       "max      56.000000         97.000000  "
      ]
     },
     "execution_count": 8,
     "metadata": {},
     "output_type": "execute_result"
    }
   ],
   "source": [
    "df.describe()\n"
   ]
  },
  {
   "cell_type": "markdown",
   "id": "eb162ebc-d277-4033-8d7c-8aa1f1bba6e3",
   "metadata": {},
   "source": [
    "### checking for mixed type colummns"
   ]
  },
  {
   "cell_type": "code",
   "execution_count": 10,
   "id": "b5b4a166-9b7e-44a0-8adf-36d09055d2b3",
   "metadata": {},
   "outputs": [],
   "source": [
    "for col in df.columns:\n",
    "    if df[col].map(type).nunique() > 1:\n",
    "        print(col)\n",
    "        # no output means no mixed type"
   ]
  },
  {
   "cell_type": "markdown",
   "id": "934c2d07-6037-4e0f-9879-ef6333ec5d31",
   "metadata": {},
   "source": [
    "### column types"
   ]
  },
  {
   "cell_type": "code",
   "execution_count": 12,
   "id": "d5032f0c-53fa-4f16-8791-2bec99262b2f",
   "metadata": {},
   "outputs": [
    {
     "data": {
      "text/plain": [
       "Year                                  int64\n",
       "County                               object\n",
       "State                                object\n",
       "Zip code                              int64\n",
       "latitude                            float64\n",
       "longitude                           float64\n",
       "Plant Hardiness Zone                 object\n",
       "Corn Acres Harvested                 object\n",
       "Sales ($)                             int64\n",
       "Coefficient of Variation (%)         object\n",
       "State ANSI                            int64\n",
       "Ag District                          object\n",
       "Ag District Code                      int64\n",
       "Commodity                            object\n",
       "Data Item                            object\n",
       "Concatenated County, State, Year     object\n",
       "dtype: object"
      ]
     },
     "execution_count": 12,
     "metadata": {},
     "output_type": "execute_result"
    }
   ],
   "source": [
    "df.dtypes"
   ]
  },
  {
   "cell_type": "markdown",
   "id": "bf60de9c-3bdd-40e0-b8c4-398832a370de",
   "metadata": {},
   "source": [
    "### changing Zip to string type"
   ]
  },
  {
   "cell_type": "code",
   "execution_count": 14,
   "id": "e625b97c-ecfe-4fb4-818c-924dcab13eff",
   "metadata": {},
   "outputs": [],
   "source": [
    "df['Zip code'] = df['Zip code'].astype('str')"
   ]
  },
  {
   "cell_type": "markdown",
   "id": "f9bcae2e-d619-44a7-947e-210b39d7c897",
   "metadata": {},
   "source": [
    "### renaming columns"
   ]
  },
  {
   "cell_type": "code",
   "execution_count": 16,
   "id": "933c047b-6f81-464d-8ca1-7d9b54e2db59",
   "metadata": {},
   "outputs": [
    {
     "data": {
      "text/html": [
       "<div>\n",
       "<style scoped>\n",
       "    .dataframe tbody tr th:only-of-type {\n",
       "        vertical-align: middle;\n",
       "    }\n",
       "\n",
       "    .dataframe tbody tr th {\n",
       "        vertical-align: top;\n",
       "    }\n",
       "\n",
       "    .dataframe thead th {\n",
       "        text-align: right;\n",
       "    }\n",
       "</style>\n",
       "<table border=\"1\" class=\"dataframe\">\n",
       "  <thead>\n",
       "    <tr style=\"text-align: right;\">\n",
       "      <th></th>\n",
       "      <th>Year</th>\n",
       "      <th>County</th>\n",
       "      <th>State</th>\n",
       "      <th>Zip code</th>\n",
       "      <th>Latitude</th>\n",
       "      <th>Longitude</th>\n",
       "      <th>PHZ</th>\n",
       "      <th>Corn Acres Harvested</th>\n",
       "      <th>Sales</th>\n",
       "      <th>CV</th>\n",
       "      <th>ANSI</th>\n",
       "      <th>Ag District</th>\n",
       "      <th>Ag District Code</th>\n",
       "      <th>Commodity</th>\n",
       "      <th>Data Item</th>\n",
       "      <th>Concatenated County, State, Year</th>\n",
       "    </tr>\n",
       "  </thead>\n",
       "  <tbody>\n",
       "    <tr>\n",
       "      <th>0</th>\n",
       "      <td>2022</td>\n",
       "      <td>CREEK</td>\n",
       "      <td>OKLAHOMA</td>\n",
       "      <td>74010</td>\n",
       "      <td>35.83</td>\n",
       "      <td>-96.39</td>\n",
       "      <td>7b</td>\n",
       "      <td>244</td>\n",
       "      <td>71000</td>\n",
       "      <td>0.3</td>\n",
       "      <td>40</td>\n",
       "      <td>CENTRAL</td>\n",
       "      <td>50</td>\n",
       "      <td>CORN</td>\n",
       "      <td>CORN, GRAIN - ACRES HARVESTED TOTAL</td>\n",
       "      <td>CREEKOKLAHOMA2022</td>\n",
       "    </tr>\n",
       "    <tr>\n",
       "      <th>1</th>\n",
       "      <td>2022</td>\n",
       "      <td>GRADY</td>\n",
       "      <td>OKLAHOMA</td>\n",
       "      <td>73002</td>\n",
       "      <td>34.92</td>\n",
       "      <td>-97.77</td>\n",
       "      <td>7b</td>\n",
       "      <td>3063</td>\n",
       "      <td>2834000</td>\n",
       "      <td>0.3</td>\n",
       "      <td>40</td>\n",
       "      <td>CENTRAL</td>\n",
       "      <td>50</td>\n",
       "      <td>CORN</td>\n",
       "      <td>CORN, GRAIN - ACRES HARVESTED TOTAL</td>\n",
       "      <td>GRADYOKLAHOMA2022</td>\n",
       "    </tr>\n",
       "    <tr>\n",
       "      <th>2</th>\n",
       "      <td>2022</td>\n",
       "      <td>MCCLAIN</td>\n",
       "      <td>OKLAHOMA</td>\n",
       "      <td>73010</td>\n",
       "      <td>35.14</td>\n",
       "      <td>-97.65</td>\n",
       "      <td>7b</td>\n",
       "      <td>3167</td>\n",
       "      <td>1941000</td>\n",
       "      <td>0.3</td>\n",
       "      <td>40</td>\n",
       "      <td>CENTRAL</td>\n",
       "      <td>50</td>\n",
       "      <td>CORN</td>\n",
       "      <td>CORN, GRAIN - ACRES HARVESTED TOTAL</td>\n",
       "      <td>MCCLAINOKLAHOMA2022</td>\n",
       "    </tr>\n",
       "    <tr>\n",
       "      <th>3</th>\n",
       "      <td>2022</td>\n",
       "      <td>PAYNE</td>\n",
       "      <td>OKLAHOMA</td>\n",
       "      <td>74023</td>\n",
       "      <td>35.97</td>\n",
       "      <td>-96.76</td>\n",
       "      <td>7b</td>\n",
       "      <td>401</td>\n",
       "      <td>237000</td>\n",
       "      <td>0.3</td>\n",
       "      <td>40</td>\n",
       "      <td>CENTRAL</td>\n",
       "      <td>50</td>\n",
       "      <td>CORN</td>\n",
       "      <td>CORN, GRAIN - ACRES HARVESTED TOTAL</td>\n",
       "      <td>PAYNEOKLAHOMA2022</td>\n",
       "    </tr>\n",
       "    <tr>\n",
       "      <th>4</th>\n",
       "      <td>2022</td>\n",
       "      <td>MAJOR</td>\n",
       "      <td>OKLAHOMA</td>\n",
       "      <td>73718</td>\n",
       "      <td>36.24</td>\n",
       "      <td>-98.18</td>\n",
       "      <td>7a</td>\n",
       "      <td>4449</td>\n",
       "      <td>7794000</td>\n",
       "      <td>0.3</td>\n",
       "      <td>40</td>\n",
       "      <td>NORTH CENTRAL</td>\n",
       "      <td>40</td>\n",
       "      <td>CORN</td>\n",
       "      <td>CORN, GRAIN - ACRES HARVESTED TOTAL</td>\n",
       "      <td>MAJOROKLAHOMA2022</td>\n",
       "    </tr>\n",
       "  </tbody>\n",
       "</table>\n",
       "</div>"
      ],
      "text/plain": [
       "   Year   County     State Zip code  Latitude  Longitude PHZ  \\\n",
       "0  2022    CREEK  OKLAHOMA    74010     35.83     -96.39  7b   \n",
       "1  2022    GRADY  OKLAHOMA    73002     34.92     -97.77  7b   \n",
       "2  2022  MCCLAIN  OKLAHOMA    73010     35.14     -97.65  7b   \n",
       "3  2022    PAYNE  OKLAHOMA    74023     35.97     -96.76  7b   \n",
       "4  2022    MAJOR  OKLAHOMA    73718     36.24     -98.18  7a   \n",
       "\n",
       "  Corn Acres Harvested    Sales   CV  ANSI    Ag District  Ag District Code  \\\n",
       "0                  244    71000  0.3    40        CENTRAL                50   \n",
       "1                 3063  2834000  0.3    40        CENTRAL                50   \n",
       "2                 3167  1941000  0.3    40        CENTRAL                50   \n",
       "3                  401   237000  0.3    40        CENTRAL                50   \n",
       "4                 4449  7794000  0.3    40  NORTH CENTRAL                40   \n",
       "\n",
       "  Commodity                            Data Item  \\\n",
       "0      CORN  CORN, GRAIN - ACRES HARVESTED TOTAL   \n",
       "1      CORN  CORN, GRAIN - ACRES HARVESTED TOTAL   \n",
       "2      CORN  CORN, GRAIN - ACRES HARVESTED TOTAL   \n",
       "3      CORN  CORN, GRAIN - ACRES HARVESTED TOTAL   \n",
       "4      CORN  CORN, GRAIN - ACRES HARVESTED TOTAL   \n",
       "\n",
       "  Concatenated County, State, Year  \n",
       "0                CREEKOKLAHOMA2022  \n",
       "1                GRADYOKLAHOMA2022  \n",
       "2              MCCLAINOKLAHOMA2022  \n",
       "3                PAYNEOKLAHOMA2022  \n",
       "4                MAJOROKLAHOMA2022  "
      ]
     },
     "execution_count": 16,
     "metadata": {},
     "output_type": "execute_result"
    }
   ],
   "source": [
    "df.rename(columns={'Plant Hardiness Zone':'PHZ','Coefficient of Variation (%)': 'CV', 'Sales ($)': 'Sales', 'State ANSI':'ANSI', 'latitude':'Latitude', 'longitude':'Longitude'}, inplace=True)\n",
    "df.head()"
   ]
  },
  {
   "cell_type": "code",
   "execution_count": 17,
   "id": "f94c630d-97a7-41d3-9bf2-7fa70834c985",
   "metadata": {},
   "outputs": [
    {
     "data": {
      "text/html": [
       "<div>\n",
       "<style scoped>\n",
       "    .dataframe tbody tr th:only-of-type {\n",
       "        vertical-align: middle;\n",
       "    }\n",
       "\n",
       "    .dataframe tbody tr th {\n",
       "        vertical-align: top;\n",
       "    }\n",
       "\n",
       "    .dataframe thead th {\n",
       "        text-align: right;\n",
       "    }\n",
       "</style>\n",
       "<table border=\"1\" class=\"dataframe\">\n",
       "  <thead>\n",
       "    <tr style=\"text-align: right;\">\n",
       "      <th></th>\n",
       "      <th>Year</th>\n",
       "      <th>Latitude</th>\n",
       "      <th>Longitude</th>\n",
       "      <th>Sales</th>\n",
       "      <th>ANSI</th>\n",
       "      <th>Ag District Code</th>\n",
       "    </tr>\n",
       "  </thead>\n",
       "  <tbody>\n",
       "    <tr>\n",
       "      <th>count</th>\n",
       "      <td>5298.000000</td>\n",
       "      <td>5169.000000</td>\n",
       "      <td>5169.000000</td>\n",
       "      <td>5.298000e+03</td>\n",
       "      <td>5298.000000</td>\n",
       "      <td>5298.000000</td>\n",
       "    </tr>\n",
       "    <tr>\n",
       "      <th>mean</th>\n",
       "      <td>2017.564364</td>\n",
       "      <td>38.376429</td>\n",
       "      <td>-90.915740</td>\n",
       "      <td>2.924222e+07</td>\n",
       "      <td>30.486976</td>\n",
       "      <td>48.299358</td>\n",
       "    </tr>\n",
       "    <tr>\n",
       "      <th>std</th>\n",
       "      <td>4.968516</td>\n",
       "      <td>4.652816</td>\n",
       "      <td>10.183299</td>\n",
       "      <td>5.146335e+07</td>\n",
       "      <td>14.507038</td>\n",
       "      <td>25.511498</td>\n",
       "    </tr>\n",
       "    <tr>\n",
       "      <th>min</th>\n",
       "      <td>2012.000000</td>\n",
       "      <td>24.820000</td>\n",
       "      <td>-124.150000</td>\n",
       "      <td>0.000000e+00</td>\n",
       "      <td>1.000000</td>\n",
       "      <td>10.000000</td>\n",
       "    </tr>\n",
       "    <tr>\n",
       "      <th>25%</th>\n",
       "      <td>2012.000000</td>\n",
       "      <td>35.030000</td>\n",
       "      <td>-96.850000</td>\n",
       "      <td>3.647500e+05</td>\n",
       "      <td>19.000000</td>\n",
       "      <td>30.000000</td>\n",
       "    </tr>\n",
       "    <tr>\n",
       "      <th>50%</th>\n",
       "      <td>2022.000000</td>\n",
       "      <td>38.460000</td>\n",
       "      <td>-89.460000</td>\n",
       "      <td>5.685500e+06</td>\n",
       "      <td>29.000000</td>\n",
       "      <td>50.000000</td>\n",
       "    </tr>\n",
       "    <tr>\n",
       "      <th>75%</th>\n",
       "      <td>2022.000000</td>\n",
       "      <td>41.660000</td>\n",
       "      <td>-83.570000</td>\n",
       "      <td>3.254300e+07</td>\n",
       "      <td>44.000000</td>\n",
       "      <td>70.000000</td>\n",
       "    </tr>\n",
       "    <tr>\n",
       "      <th>max</th>\n",
       "      <td>2022.000000</td>\n",
       "      <td>48.990000</td>\n",
       "      <td>-67.760000</td>\n",
       "      <td>3.937870e+08</td>\n",
       "      <td>56.000000</td>\n",
       "      <td>97.000000</td>\n",
       "    </tr>\n",
       "  </tbody>\n",
       "</table>\n",
       "</div>"
      ],
      "text/plain": [
       "              Year     Latitude    Longitude         Sales         ANSI  \\\n",
       "count  5298.000000  5169.000000  5169.000000  5.298000e+03  5298.000000   \n",
       "mean   2017.564364    38.376429   -90.915740  2.924222e+07    30.486976   \n",
       "std       4.968516     4.652816    10.183299  5.146335e+07    14.507038   \n",
       "min    2012.000000    24.820000  -124.150000  0.000000e+00     1.000000   \n",
       "25%    2012.000000    35.030000   -96.850000  3.647500e+05    19.000000   \n",
       "50%    2022.000000    38.460000   -89.460000  5.685500e+06    29.000000   \n",
       "75%    2022.000000    41.660000   -83.570000  3.254300e+07    44.000000   \n",
       "max    2022.000000    48.990000   -67.760000  3.937870e+08    56.000000   \n",
       "\n",
       "       Ag District Code  \n",
       "count       5298.000000  \n",
       "mean          48.299358  \n",
       "std           25.511498  \n",
       "min           10.000000  \n",
       "25%           30.000000  \n",
       "50%           50.000000  \n",
       "75%           70.000000  \n",
       "max           97.000000  "
      ]
     },
     "execution_count": 17,
     "metadata": {},
     "output_type": "execute_result"
    }
   ],
   "source": [
    "df.describe()"
   ]
  },
  {
   "cell_type": "markdown",
   "id": "2a4bef10-2360-4048-86d8-20171290750f",
   "metadata": {},
   "source": [
    "### checking for null and duplicates"
   ]
  },
  {
   "cell_type": "code",
   "execution_count": 19,
   "id": "7d6b5b2e-dd23-426b-ab14-52460303ab98",
   "metadata": {},
   "outputs": [
    {
     "data": {
      "text/plain": [
       "Year                                  0\n",
       "County                                0\n",
       "State                                 0\n",
       "Zip code                              0\n",
       "Latitude                            129\n",
       "Longitude                           129\n",
       "PHZ                                   0\n",
       "Corn Acres Harvested                  0\n",
       "Sales                                 0\n",
       "CV                                    0\n",
       "ANSI                                  0\n",
       "Ag District                           0\n",
       "Ag District Code                      0\n",
       "Commodity                             0\n",
       "Data Item                             0\n",
       "Concatenated County, State, Year      0\n",
       "dtype: int64"
      ]
     },
     "execution_count": 19,
     "metadata": {},
     "output_type": "execute_result"
    }
   ],
   "source": [
    "df.isnull().sum()"
   ]
  },
  {
   "cell_type": "code",
   "execution_count": 20,
   "id": "b4cfd00d-928d-445d-897f-d30fbc66e358",
   "metadata": {},
   "outputs": [],
   "source": [
    "df_dups = df[df.duplicated()]"
   ]
  },
  {
   "cell_type": "code",
   "execution_count": 21,
   "id": "3db0fdca-eba9-425b-b905-7c49cdd38085",
   "metadata": {},
   "outputs": [
    {
     "data": {
      "text/plain": [
       "(109, 16)"
      ]
     },
     "execution_count": 21,
     "metadata": {},
     "output_type": "execute_result"
    }
   ],
   "source": [
    "df_dups.shape"
   ]
  },
  {
   "cell_type": "markdown",
   "id": "8f9327c0-dd5f-4dce-9399-867181401233",
   "metadata": {
    "jp-MarkdownHeadingCollapsed": true
   },
   "source": [
    "## 2 Addressing Null Values"
   ]
  },
  {
   "cell_type": "markdown",
   "id": "1fef4e52-36e4-4ab5-b5ab-bc1cd51ccfae",
   "metadata": {},
   "source": [
    "### CV and Corn Acres Harvested not integer values- need to change "
   ]
  },
  {
   "cell_type": "code",
   "execution_count": 24,
   "id": "d848b085-db2e-4aa0-bba6-d8e5123e92b1",
   "metadata": {},
   "outputs": [],
   "source": [
    "# first, must remove null values (D)\n",
    "df['Corn Acres Harvested'] = df['Corn Acres Harvested'].replace(' (D)', np.nan)"
   ]
  },
  {
   "cell_type": "code",
   "execution_count": 25,
   "id": "6075da0d-b611-4404-876a-656c3a481144",
   "metadata": {},
   "outputs": [
    {
     "name": "stdout",
     "output_type": "stream",
     "text": [
      "625\n"
     ]
    }
   ],
   "source": [
    "null_counts = df['Corn Acres Harvested'].isnull().sum()\n",
    "print(null_counts)"
   ]
  },
  {
   "cell_type": "code",
   "execution_count": 26,
   "id": "3cfe6ee2-8f3d-45ab-b6c4-191ff545c447",
   "metadata": {},
   "outputs": [
    {
     "data": {
      "text/plain": [
       "0.12091313600309538"
      ]
     },
     "execution_count": 26,
     "metadata": {},
     "output_type": "execute_result"
    }
   ],
   "source": [
    "625/5169"
   ]
  },
  {
   "cell_type": "markdown",
   "id": "9eb9d5b9-0baa-4579-94f0-298e2eba198b",
   "metadata": {},
   "source": [
    "### missing values greater than 5% of total data. Need to find workaround"
   ]
  },
  {
   "cell_type": "markdown",
   "id": "a7330b04-2920-4a2d-9440-0185e66ab1a1",
   "metadata": {},
   "source": [
    "### replace null value with average for corresponding Ag District"
   ]
  },
  {
   "cell_type": "code",
   "execution_count": 29,
   "id": "af707a50-c9eb-4aa8-ad12-b16ee21a7df6",
   "metadata": {},
   "outputs": [
    {
     "name": "stdout",
     "output_type": "stream",
     "text": [
      "Year                                  int64\n",
      "County                               object\n",
      "State                                object\n",
      "Zip code                             object\n",
      "Latitude                            float64\n",
      "Longitude                           float64\n",
      "PHZ                                  object\n",
      "Corn Acres Harvested                float64\n",
      "Sales                                 int64\n",
      "CV                                   object\n",
      "ANSI                                  int64\n",
      "Ag District                          object\n",
      "Ag District Code                      int64\n",
      "Commodity                            object\n",
      "Data Item                            object\n",
      "Concatenated County, State, Year     object\n",
      "dtype: object\n"
     ]
    }
   ],
   "source": [
    "# converting column to numeric for aggregations\n",
    "df['Corn Acres Harvested'] = pd.to_numeric(df['Corn Acres Harvested'], errors='coerce')\n",
    "print(df.dtypes)"
   ]
  },
  {
   "cell_type": "code",
   "execution_count": 30,
   "id": "61addf1b-804c-4879-829e-63bc4af8dca3",
   "metadata": {},
   "outputs": [],
   "source": [
    "# Calculate the mean value for each district, ignoring NaNs\n",
    "mean_values = df.groupby('Ag District')['Corn Acres Harvested'].transform('mean')"
   ]
  },
  {
   "cell_type": "code",
   "execution_count": 31,
   "id": "dca32b1d-9edb-494d-b1b9-ac641e0406a9",
   "metadata": {},
   "outputs": [],
   "source": [
    "#filling in (D) values with averages of the Ag Region\n",
    "# Replace NaN values in 'Corn Acres Harvested' with the mean value for their district\n",
    "df['Corn Acres Harvested'] = df['Corn Acres Harvested'].fillna(mean_values)"
   ]
  },
  {
   "cell_type": "code",
   "execution_count": 32,
   "id": "ef62906e-bd1d-4534-aed6-793f760f999c",
   "metadata": {},
   "outputs": [
    {
     "name": "stdout",
     "output_type": "stream",
     "text": [
      "4\n"
     ]
    }
   ],
   "source": [
    "null_counts = df['Corn Acres Harvested'].isnull().sum()\n",
    "print(null_counts)"
   ]
  },
  {
   "cell_type": "code",
   "execution_count": 33,
   "id": "1e1595b1-d81c-4dcd-9835-2199315459ca",
   "metadata": {},
   "outputs": [
    {
     "name": "stdout",
     "output_type": "stream",
     "text": [
      "      Year      County     State Zip code  Latitude  Longitude PHZ  \\\n",
      "4608  2022     JACKSON  COLORADO    80430     40.52    -106.42  4b   \n",
      "4609  2022        LAKE  COLORADO    80429     39.37    -106.18  5a   \n",
      "4610  2022      MOFFAT  COLORADO    81610     40.24    -109.00  6a   \n",
      "4611  2022  RIO GRANDE  COLORADO    81132     37.67    -106.35  5b   \n",
      "\n",
      "      Corn Acres Harvested  Sales   CV  ANSI             Ag District  \\\n",
      "4608                   NaN      0  (D)     8  NORTHWEST AND MOUNTAIN   \n",
      "4609                   NaN      0  (D)     8  NORTHWEST AND MOUNTAIN   \n",
      "4610                   NaN      0  (D)     8  NORTHWEST AND MOUNTAIN   \n",
      "4611                   NaN      0  (D)     8         SAN LUIS VALLEY   \n",
      "\n",
      "      Ag District Code Commodity                            Data Item  \\\n",
      "4608                10      CORN  CORN, GRAIN - ACRES HARVESTED TOTAL   \n",
      "4609                10      CORN  CORN, GRAIN - ACRES HARVESTED TOTAL   \n",
      "4610                10      CORN  CORN, GRAIN - ACRES HARVESTED TOTAL   \n",
      "4611                80      CORN  CORN, GRAIN - ACRES HARVESTED TOTAL   \n",
      "\n",
      "     Concatenated County, State, Year  \n",
      "4608              JACKSONCOLORADO2022  \n",
      "4609                 LAKECOLORADO2022  \n",
      "4610               MOFFATCOLORADO2022  \n",
      "4611            RIOGRANDECOLORADO2022  \n"
     ]
    }
   ],
   "source": [
    "null_rows = df[df['Corn Acres Harvested'].isna()]\n",
    "print(null_rows)\n"
   ]
  },
  {
   "cell_type": "markdown",
   "id": "4dc20aba-98fc-40f5-ab24-430de8e0ad31",
   "metadata": {},
   "source": [
    "### still 4 NaN rows. Small enough percentage of population to be ignored."
   ]
  },
  {
   "cell_type": "code",
   "execution_count": 35,
   "id": "196e3357-cadd-4086-952b-f6296a35d18a",
   "metadata": {},
   "outputs": [],
   "source": [
    "# Drop rows where 'Corn Acres Harvested' is NaN\n",
    "df_dropna = df.dropna(subset=['Corn Acres Harvested'])"
   ]
  },
  {
   "cell_type": "code",
   "execution_count": 36,
   "id": "29226bf9-1b21-4ad0-b091-612c962d8b4b",
   "metadata": {
    "scrolled": true
   },
   "outputs": [
    {
     "data": {
      "text/plain": [
       "(5294, 16)"
      ]
     },
     "execution_count": 36,
     "metadata": {},
     "output_type": "execute_result"
    }
   ],
   "source": [
    "df_dropna.shape"
   ]
  },
  {
   "cell_type": "markdown",
   "id": "b44b9bda-561d-42f1-9545-d393167c7756",
   "metadata": {},
   "source": [
    "### cleaning CV"
   ]
  },
  {
   "cell_type": "code",
   "execution_count": 39,
   "id": "69ecbd2e-0ec6-400b-81ca-c5e5143293da",
   "metadata": {
    "scrolled": true
   },
   "outputs": [
    {
     "name": "stdout",
     "output_type": "stream",
     "text": [
      "['0.3' '2.5' '2.8' '3.1' '3.9' '5.1' '5.4' '5.6' '6.2' '6.4' '6.5' '6.8'\n",
      " '7' '7.3' '7.4' '7.8' '8.1' '8.2' '8.3' '8.4' '8.5' '8.8' '9.1' '9.2'\n",
      " '9.7' '9.8' '9.9' '10.1' '11.4' '11.8' '12.1' '12.3' '12.5' '12.6' '13.1'\n",
      " '13.2' '13.4' '13.5' '13.7' '14.3' '14.4' '15.2' '15.4' '16.1' '16.8'\n",
      " '17' '17.4' '17.7' '17.8' '18.2' '18.6' '18.8' '19.1' '19.2' '19.6'\n",
      " '19.7' '20' '20.4' '21.7' '21.8' '22.3' '22.5' '22.8' '23' '24.6' '25.3'\n",
      " '28.2' '28.3' '29.7' '30.6' '31.5' '37.3' '40.6' '40.9' '42.8' '43.5'\n",
      " '45.5' '51.9' '55.7' '62.8' '64.7' '(D)' '(L)']\n"
     ]
    }
   ],
   "source": [
    "uniquevalues_CV = df['CV'].unique()\n",
    "print(uniquevalues_CV)"
   ]
  },
  {
   "cell_type": "markdown",
   "id": "b4e22f22-b642-4da7-be9a-f35a8481954a",
   "metadata": {},
   "source": [
    "#### L = Coefficient of variation or generalized coefficient of variation is less than 0.05 percent or the standard error is less than 0.05 percent of the mean. We can zero these values\n",
    "#### D = Did not report. Replacing with average of the Ag District"
   ]
  },
  {
   "cell_type": "markdown",
   "id": "169ab8aa-9a65-4670-a4f3-e8c631dc6381",
   "metadata": {},
   "source": [
    "### converting (L) values into 0. "
   ]
  },
  {
   "cell_type": "code",
   "execution_count": 43,
   "id": "4ca69bf4-b449-4f0c-b04c-bf7483d9602b",
   "metadata": {},
   "outputs": [
    {
     "name": "stdout",
     "output_type": "stream",
     "text": [
      "91\n"
     ]
    }
   ],
   "source": [
    "df['CV'] = df['CV'].replace('(L)', 0)\n",
    "zero_count = (df['CV'] == 0).sum()\n",
    "print(zero_count)"
   ]
  },
  {
   "cell_type": "markdown",
   "id": "8111bb35-086c-4429-8b72-17a455fece4b",
   "metadata": {},
   "source": [
    "### repeating process of removing (D) values, this time from Coefficient \n"
   ]
  },
  {
   "cell_type": "code",
   "execution_count": 46,
   "id": "ec30e303-b57c-4dd7-a082-c3376c573c8d",
   "metadata": {},
   "outputs": [
    {
     "name": "stdout",
     "output_type": "stream",
     "text": [
      "0\n"
     ]
    }
   ],
   "source": [
    "nullvalues_CV = df['CV'].isna()\n",
    "null_count=nullvalues_CV.sum()\n",
    "print(null_count)"
   ]
  },
  {
   "cell_type": "code",
   "execution_count": 50,
   "id": "b923d6b2-6b58-46a9-a955-3df15812245e",
   "metadata": {},
   "outputs": [
    {
     "name": "stdout",
     "output_type": "stream",
     "text": [
      "['0.3' '2.5' '2.8' '3.1' '3.9' '5.1' '5.4' '5.6' '6.2' '6.4' '6.5' '6.8'\n",
      " '7' '7.3' '7.4' '7.8' '8.1' '8.2' '8.3' '8.4' '8.5' '8.8' '9.1' '9.2'\n",
      " '9.7' '9.8' '9.9' '10.1' '11.4' '11.8' '12.1' '12.3' '12.5' '12.6' '13.1'\n",
      " '13.2' '13.4' '13.5' '13.7' '14.3' '14.4' '15.2' '15.4' '16.1' '16.8'\n",
      " '17' '17.4' '17.7' '17.8' '18.2' '18.6' '18.8' '19.1' '19.2' '19.6'\n",
      " '19.7' '20' '20.4' '21.7' '21.8' '22.3' '22.5' '22.8' '23' '24.6' '25.3'\n",
      " '28.2' '28.3' '29.7' '30.6' '31.5' '37.3' '40.6' '40.9' '42.8' '43.5'\n",
      " '45.5' '51.9' '55.7' '62.8' '64.7' '(D)' 0]\n"
     ]
    }
   ],
   "source": [
    "uniquevalues_CV = df['CV'].unique()\n",
    "print(uniquevalues_CV)"
   ]
  },
  {
   "cell_type": "code",
   "execution_count": 52,
   "id": "4d9e2c00-346c-426a-b4c5-aa352a13f0ea",
   "metadata": {},
   "outputs": [
    {
     "name": "stdout",
     "output_type": "stream",
     "text": [
      "0\n"
     ]
    }
   ],
   "source": [
    "null_counts = df['CV'].isnull().sum()\n",
    "print(null_counts)"
   ]
  },
  {
   "cell_type": "code",
   "execution_count": 54,
   "id": "43b7466c-9079-4388-bedc-e5d9dae861be",
   "metadata": {},
   "outputs": [
    {
     "name": "stdout",
     "output_type": "stream",
     "text": [
      "['0.3' '2.5' '2.8' '3.1' '3.9' '5.1' '5.4' '5.6' '6.2' '6.4' '6.5' '6.8'\n",
      " '7' '7.3' '7.4' '7.8' '8.1' '8.2' '8.3' '8.4' '8.5' '8.8' '9.1' '9.2'\n",
      " '9.7' '9.8' '9.9' '10.1' '11.4' '11.8' '12.1' '12.3' '12.5' '12.6' '13.1'\n",
      " '13.2' '13.4' '13.5' '13.7' '14.3' '14.4' '15.2' '15.4' '16.1' '16.8'\n",
      " '17' '17.4' '17.7' '17.8' '18.2' '18.6' '18.8' '19.1' '19.2' '19.6'\n",
      " '19.7' '20' '20.4' '21.7' '21.8' '22.3' '22.5' '22.8' '23' '24.6' '25.3'\n",
      " '28.2' '28.3' '29.7' '30.6' '31.5' '37.3' '40.6' '40.9' '42.8' '43.5'\n",
      " '45.5' '51.9' '55.7' '62.8' '64.7' '(D)' 0]\n"
     ]
    }
   ],
   "source": [
    "uniquevalues_CV = df['CV'].unique()\n",
    "print(uniquevalues_CV)"
   ]
  },
  {
   "cell_type": "code",
   "execution_count": 56,
   "id": "d37ad1c2-c29e-4fd3-867e-483ce648e848",
   "metadata": {},
   "outputs": [
    {
     "name": "stdout",
     "output_type": "stream",
     "text": [
      "Year                                  int64\n",
      "County                               object\n",
      "State                                object\n",
      "Zip code                             object\n",
      "Latitude                            float64\n",
      "Longitude                           float64\n",
      "PHZ                                  object\n",
      "Corn Acres Harvested                float64\n",
      "Sales                                 int64\n",
      "CV                                  float64\n",
      "ANSI                                  int64\n",
      "Ag District                          object\n",
      "Ag District Code                      int64\n",
      "Commodity                            object\n",
      "Data Item                            object\n",
      "Concatenated County, State, Year     object\n",
      "dtype: object\n"
     ]
    }
   ],
   "source": [
    "# converting column to numeric for aggregations\n",
    "df['CV'] = pd.to_numeric(df['CV'], errors='coerce')\n",
    "print(df.dtypes)"
   ]
  },
  {
   "cell_type": "code",
   "execution_count": 58,
   "id": "33ccac7a-5661-470e-8222-1c5ce7cbd252",
   "metadata": {},
   "outputs": [],
   "source": [
    "#calculating the mean ofeach district while ignoring nulls \n",
    "mean_values_coeff = df.groupby('Ag District')['CV'].transform('mean')"
   ]
  },
  {
   "cell_type": "code",
   "execution_count": 60,
   "id": "0989b16a-2edf-46c8-856c-8ddcd5610e73",
   "metadata": {},
   "outputs": [],
   "source": [
    "#Replace nulls in CV with mean\n",
    "df['CV'] = df['CV'].fillna(mean_values_coeff)"
   ]
  },
  {
   "cell_type": "code",
   "execution_count": 62,
   "id": "55216623-19d3-4ec2-bf9a-6f5b3e67ab29",
   "metadata": {},
   "outputs": [
    {
     "name": "stdout",
     "output_type": "stream",
     "text": [
      "Number of NaN values in 'CV' after replacement: 4\n"
     ]
    }
   ],
   "source": [
    "#checking...\n",
    "null_counts_coeff = df['CV'].isnull().sum()\n",
    "print(f\"Number of NaN values in 'CV' after replacement: {null_counts_coeff}\")"
   ]
  },
  {
   "cell_type": "code",
   "execution_count": 64,
   "id": "bb6b7312-9719-4a1d-8b2a-38f94d4e2610",
   "metadata": {},
   "outputs": [
    {
     "name": "stdout",
     "output_type": "stream",
     "text": [
      "      Year    County          State Zip code  Latitude  Longitude PHZ  \\\n",
      "0     2022     CREEK       OKLAHOMA    74010     35.83     -96.39  7b   \n",
      "1     2022     GRADY       OKLAHOMA    73002     34.92     -97.77  7b   \n",
      "2     2022   MCCLAIN       OKLAHOMA    73010     35.14     -97.65  7b   \n",
      "3     2022     PAYNE       OKLAHOMA    74023     35.97     -96.76  7b   \n",
      "4     2022     MAJOR       OKLAHOMA    73718     36.24     -98.18  7a   \n",
      "...    ...       ...            ...      ...       ...        ...  ..   \n",
      "5293  2022   KANAWHA  WEST VIRGINIA    25015     38.23     -81.53  7a   \n",
      "5294  2022   LINCOLN  WEST VIRGINIA    25003     38.28     -81.84  7a   \n",
      "5295  2022   ASHLAND      WISCONSIN    54514     46.01     -90.49  4a   \n",
      "5296  2022   NATRONA        WYOMING    82601     42.83    -106.32  5a   \n",
      "5297  2022  NIOBRARA        WYOMING    82222     43.20    -104.65  4b   \n",
      "\n",
      "      Corn Acres Harvested    Sales   CV  ANSI    Ag District  \\\n",
      "0                    244.0    71000  0.3    40        CENTRAL   \n",
      "1                   3063.0  2834000  0.3    40        CENTRAL   \n",
      "2                   3167.0  1941000  0.3    40        CENTRAL   \n",
      "3                    401.0   237000  0.3    40        CENTRAL   \n",
      "4                   4449.0  7794000  0.3    40  NORTH CENTRAL   \n",
      "...                    ...      ...  ...   ...            ...   \n",
      "5293                   5.0     2000  0.0    54      SOUTHWEST   \n",
      "5294                   6.0     2000  0.0    54      SOUTHWEST   \n",
      "5295                1796.0   918000  0.0    55  NORTH CENTRAL   \n",
      "5296                 638.0  1536000  0.0    56  SOUTH CENTRAL   \n",
      "5297                1064.0  1758000  0.0    56      SOUTHEAST   \n",
      "\n",
      "      Ag District Code Commodity                            Data Item  \\\n",
      "0                   50      CORN  CORN, GRAIN - ACRES HARVESTED TOTAL   \n",
      "1                   50      CORN  CORN, GRAIN - ACRES HARVESTED TOTAL   \n",
      "2                   50      CORN  CORN, GRAIN - ACRES HARVESTED TOTAL   \n",
      "3                   50      CORN  CORN, GRAIN - ACRES HARVESTED TOTAL   \n",
      "4                   40      CORN  CORN, GRAIN - ACRES HARVESTED TOTAL   \n",
      "...                ...       ...                                  ...   \n",
      "5293                40      CORN  CORN, GRAIN - ACRES HARVESTED TOTAL   \n",
      "5294                40      CORN  CORN, GRAIN - ACRES HARVESTED TOTAL   \n",
      "5295                20      CORN  CORN, GRAIN - ACRES HARVESTED TOTAL   \n",
      "5296                40      CORN  CORN, GRAIN - ACRES HARVESTED TOTAL   \n",
      "5297                50      CORN  CORN, GRAIN - ACRES HARVESTED TOTAL   \n",
      "\n",
      "     Concatenated County, State, Year  \n",
      "0                   CREEKOKLAHOMA2022  \n",
      "1                   GRADYOKLAHOMA2022  \n",
      "2                 MCCLAINOKLAHOMA2022  \n",
      "3                   PAYNEOKLAHOMA2022  \n",
      "4                   MAJOROKLAHOMA2022  \n",
      "...                               ...  \n",
      "5293          KANAWHAWESTVIRGINIA2022  \n",
      "5294          LINCOLNWESTVIRGINIA2022  \n",
      "5295             ASHLANDWISCONSIN2022  \n",
      "5296               NATRONAWYOMING2022  \n",
      "5297              NIOBRARAWYOMING2022  \n",
      "\n",
      "[5294 rows x 16 columns]\n"
     ]
    }
   ],
   "source": [
    "# Drop rows where 'CV' is null\n",
    "df_dropCV = df.dropna(subset=['CV'])\n",
    "print(df_dropCV)"
   ]
  },
  {
   "cell_type": "code",
   "execution_count": 66,
   "id": "9b0a1480-990b-48e6-8c4e-9920b27fb487",
   "metadata": {},
   "outputs": [
    {
     "name": "stdout",
     "output_type": "stream",
     "text": [
      "Year                                  0\n",
      "County                                0\n",
      "State                                 0\n",
      "Zip code                              0\n",
      "Latitude                            129\n",
      "Longitude                           129\n",
      "PHZ                                   0\n",
      "Corn Acres Harvested                  4\n",
      "Sales                                 0\n",
      "CV                                    4\n",
      "ANSI                                  0\n",
      "Ag District                           0\n",
      "Ag District Code                      0\n",
      "Commodity                             0\n",
      "Data Item                             0\n",
      "Concatenated County, State, Year      0\n",
      "dtype: int64\n"
     ]
    }
   ],
   "source": [
    "null_counts2 = df.isnull().sum()\n",
    "print(null_counts2)"
   ]
  },
  {
   "cell_type": "markdown",
   "id": "104765a9-8502-44eb-8c7c-2de1d8d3b0b1",
   "metadata": {},
   "source": [
    "### dropping null counts"
   ]
  },
  {
   "cell_type": "code",
   "execution_count": 69,
   "id": "63223205-d60c-405a-8f80-1313334e86ba",
   "metadata": {
    "scrolled": true
   },
   "outputs": [
    {
     "name": "stdout",
     "output_type": "stream",
     "text": [
      "      Year    County          State Zip code  Latitude  Longitude PHZ  \\\n",
      "0     2022     CREEK       OKLAHOMA    74010     35.83     -96.39  7b   \n",
      "1     2022     GRADY       OKLAHOMA    73002     34.92     -97.77  7b   \n",
      "2     2022   MCCLAIN       OKLAHOMA    73010     35.14     -97.65  7b   \n",
      "3     2022     PAYNE       OKLAHOMA    74023     35.97     -96.76  7b   \n",
      "4     2022     MAJOR       OKLAHOMA    73718     36.24     -98.18  7a   \n",
      "...    ...       ...            ...      ...       ...        ...  ..   \n",
      "5293  2022   KANAWHA  WEST VIRGINIA    25015     38.23     -81.53  7a   \n",
      "5294  2022   LINCOLN  WEST VIRGINIA    25003     38.28     -81.84  7a   \n",
      "5295  2022   ASHLAND      WISCONSIN    54514     46.01     -90.49  4a   \n",
      "5296  2022   NATRONA        WYOMING    82601     42.83    -106.32  5a   \n",
      "5297  2022  NIOBRARA        WYOMING    82222     43.20    -104.65  4b   \n",
      "\n",
      "      Corn Acres Harvested    Sales   CV  ANSI    Ag District  \\\n",
      "0                    244.0    71000  0.3    40        CENTRAL   \n",
      "1                   3063.0  2834000  0.3    40        CENTRAL   \n",
      "2                   3167.0  1941000  0.3    40        CENTRAL   \n",
      "3                    401.0   237000  0.3    40        CENTRAL   \n",
      "4                   4449.0  7794000  0.3    40  NORTH CENTRAL   \n",
      "...                    ...      ...  ...   ...            ...   \n",
      "5293                   5.0     2000  0.0    54      SOUTHWEST   \n",
      "5294                   6.0     2000  0.0    54      SOUTHWEST   \n",
      "5295                1796.0   918000  0.0    55  NORTH CENTRAL   \n",
      "5296                 638.0  1536000  0.0    56  SOUTH CENTRAL   \n",
      "5297                1064.0  1758000  0.0    56      SOUTHEAST   \n",
      "\n",
      "      Ag District Code Commodity                            Data Item  \\\n",
      "0                   50      CORN  CORN, GRAIN - ACRES HARVESTED TOTAL   \n",
      "1                   50      CORN  CORN, GRAIN - ACRES HARVESTED TOTAL   \n",
      "2                   50      CORN  CORN, GRAIN - ACRES HARVESTED TOTAL   \n",
      "3                   50      CORN  CORN, GRAIN - ACRES HARVESTED TOTAL   \n",
      "4                   40      CORN  CORN, GRAIN - ACRES HARVESTED TOTAL   \n",
      "...                ...       ...                                  ...   \n",
      "5293                40      CORN  CORN, GRAIN - ACRES HARVESTED TOTAL   \n",
      "5294                40      CORN  CORN, GRAIN - ACRES HARVESTED TOTAL   \n",
      "5295                20      CORN  CORN, GRAIN - ACRES HARVESTED TOTAL   \n",
      "5296                40      CORN  CORN, GRAIN - ACRES HARVESTED TOTAL   \n",
      "5297                50      CORN  CORN, GRAIN - ACRES HARVESTED TOTAL   \n",
      "\n",
      "     Concatenated County, State, Year  \n",
      "0                   CREEKOKLAHOMA2022  \n",
      "1                   GRADYOKLAHOMA2022  \n",
      "2                 MCCLAINOKLAHOMA2022  \n",
      "3                   PAYNEOKLAHOMA2022  \n",
      "4                   MAJOROKLAHOMA2022  \n",
      "...                               ...  \n",
      "5293          KANAWHAWESTVIRGINIA2022  \n",
      "5294          LINCOLNWESTVIRGINIA2022  \n",
      "5295             ASHLANDWISCONSIN2022  \n",
      "5296               NATRONAWYOMING2022  \n",
      "5297              NIOBRARAWYOMING2022  \n",
      "\n",
      "[5165 rows x 16 columns]\n"
     ]
    }
   ],
   "source": [
    "df_cleaned = df.dropna()\n",
    "print(df_cleaned)"
   ]
  },
  {
   "cell_type": "code",
   "execution_count": 71,
   "id": "e09c5004-a0fc-4735-81be-223de70aee3d",
   "metadata": {},
   "outputs": [
    {
     "data": {
      "text/plain": [
       "-133"
      ]
     },
     "execution_count": 71,
     "metadata": {},
     "output_type": "execute_result"
    }
   ],
   "source": [
    "# checking math to see if dropped values match to null values\n",
    "5165-5298"
   ]
  },
  {
   "cell_type": "code",
   "execution_count": 73,
   "id": "8ef98316-5cb9-44fd-ab58-8e0a48d9cdad",
   "metadata": {},
   "outputs": [
    {
     "data": {
      "text/plain": [
       "133"
      ]
     },
     "execution_count": 73,
     "metadata": {},
     "output_type": "execute_result"
    }
   ],
   "source": [
    "129+4"
   ]
  },
  {
   "cell_type": "markdown",
   "id": "31c661f0-fb14-4286-a7c1-7405cebe0bca",
   "metadata": {},
   "source": [
    "### dropped values and null values match, no nulls remain"
   ]
  },
  {
   "cell_type": "markdown",
   "id": "f7239e20-a0b2-471f-8ff4-88251defa071",
   "metadata": {
    "jp-MarkdownHeadingCollapsed": true
   },
   "source": [
    "## 3 Dropping Columns"
   ]
  },
  {
   "cell_type": "code",
   "execution_count": 78,
   "id": "12a675f5-2071-4032-97d0-640290c92620",
   "metadata": {},
   "outputs": [],
   "source": [
    "#droppping 'Data Item' and 'Commodity' column from new data set\n",
    "df_clean_dropdata = df_cleaned.drop(columns = ['Data Item'])"
   ]
  },
  {
   "cell_type": "code",
   "execution_count": 80,
   "id": "55951fd1-9bc4-4357-a0f0-c51728b60cb8",
   "metadata": {},
   "outputs": [],
   "source": [
    "df_dropdatacomm = df_clean_dropdata.drop(columns = ['Commodity'])"
   ]
  },
  {
   "cell_type": "code",
   "execution_count": 82,
   "id": "3ef959de-fdb8-4b28-9405-7a5d405d7450",
   "metadata": {},
   "outputs": [
    {
     "data": {
      "text/html": [
       "<div>\n",
       "<style scoped>\n",
       "    .dataframe tbody tr th:only-of-type {\n",
       "        vertical-align: middle;\n",
       "    }\n",
       "\n",
       "    .dataframe tbody tr th {\n",
       "        vertical-align: top;\n",
       "    }\n",
       "\n",
       "    .dataframe thead th {\n",
       "        text-align: right;\n",
       "    }\n",
       "</style>\n",
       "<table border=\"1\" class=\"dataframe\">\n",
       "  <thead>\n",
       "    <tr style=\"text-align: right;\">\n",
       "      <th></th>\n",
       "      <th>Year</th>\n",
       "      <th>County</th>\n",
       "      <th>State</th>\n",
       "      <th>Zip code</th>\n",
       "      <th>Latitude</th>\n",
       "      <th>Longitude</th>\n",
       "      <th>PHZ</th>\n",
       "      <th>Corn Acres Harvested</th>\n",
       "      <th>Sales</th>\n",
       "      <th>CV</th>\n",
       "      <th>ANSI</th>\n",
       "      <th>Ag District</th>\n",
       "      <th>Ag District Code</th>\n",
       "      <th>Concatenated County, State, Year</th>\n",
       "    </tr>\n",
       "  </thead>\n",
       "  <tbody>\n",
       "    <tr>\n",
       "      <th>0</th>\n",
       "      <td>2022</td>\n",
       "      <td>CREEK</td>\n",
       "      <td>OKLAHOMA</td>\n",
       "      <td>74010</td>\n",
       "      <td>35.83</td>\n",
       "      <td>-96.39</td>\n",
       "      <td>7b</td>\n",
       "      <td>244.0</td>\n",
       "      <td>71000</td>\n",
       "      <td>0.3</td>\n",
       "      <td>40</td>\n",
       "      <td>CENTRAL</td>\n",
       "      <td>50</td>\n",
       "      <td>CREEKOKLAHOMA2022</td>\n",
       "    </tr>\n",
       "    <tr>\n",
       "      <th>1</th>\n",
       "      <td>2022</td>\n",
       "      <td>GRADY</td>\n",
       "      <td>OKLAHOMA</td>\n",
       "      <td>73002</td>\n",
       "      <td>34.92</td>\n",
       "      <td>-97.77</td>\n",
       "      <td>7b</td>\n",
       "      <td>3063.0</td>\n",
       "      <td>2834000</td>\n",
       "      <td>0.3</td>\n",
       "      <td>40</td>\n",
       "      <td>CENTRAL</td>\n",
       "      <td>50</td>\n",
       "      <td>GRADYOKLAHOMA2022</td>\n",
       "    </tr>\n",
       "    <tr>\n",
       "      <th>2</th>\n",
       "      <td>2022</td>\n",
       "      <td>MCCLAIN</td>\n",
       "      <td>OKLAHOMA</td>\n",
       "      <td>73010</td>\n",
       "      <td>35.14</td>\n",
       "      <td>-97.65</td>\n",
       "      <td>7b</td>\n",
       "      <td>3167.0</td>\n",
       "      <td>1941000</td>\n",
       "      <td>0.3</td>\n",
       "      <td>40</td>\n",
       "      <td>CENTRAL</td>\n",
       "      <td>50</td>\n",
       "      <td>MCCLAINOKLAHOMA2022</td>\n",
       "    </tr>\n",
       "    <tr>\n",
       "      <th>3</th>\n",
       "      <td>2022</td>\n",
       "      <td>PAYNE</td>\n",
       "      <td>OKLAHOMA</td>\n",
       "      <td>74023</td>\n",
       "      <td>35.97</td>\n",
       "      <td>-96.76</td>\n",
       "      <td>7b</td>\n",
       "      <td>401.0</td>\n",
       "      <td>237000</td>\n",
       "      <td>0.3</td>\n",
       "      <td>40</td>\n",
       "      <td>CENTRAL</td>\n",
       "      <td>50</td>\n",
       "      <td>PAYNEOKLAHOMA2022</td>\n",
       "    </tr>\n",
       "    <tr>\n",
       "      <th>4</th>\n",
       "      <td>2022</td>\n",
       "      <td>MAJOR</td>\n",
       "      <td>OKLAHOMA</td>\n",
       "      <td>73718</td>\n",
       "      <td>36.24</td>\n",
       "      <td>-98.18</td>\n",
       "      <td>7a</td>\n",
       "      <td>4449.0</td>\n",
       "      <td>7794000</td>\n",
       "      <td>0.3</td>\n",
       "      <td>40</td>\n",
       "      <td>NORTH CENTRAL</td>\n",
       "      <td>40</td>\n",
       "      <td>MAJOROKLAHOMA2022</td>\n",
       "    </tr>\n",
       "  </tbody>\n",
       "</table>\n",
       "</div>"
      ],
      "text/plain": [
       "   Year   County     State Zip code  Latitude  Longitude PHZ  \\\n",
       "0  2022    CREEK  OKLAHOMA    74010     35.83     -96.39  7b   \n",
       "1  2022    GRADY  OKLAHOMA    73002     34.92     -97.77  7b   \n",
       "2  2022  MCCLAIN  OKLAHOMA    73010     35.14     -97.65  7b   \n",
       "3  2022    PAYNE  OKLAHOMA    74023     35.97     -96.76  7b   \n",
       "4  2022    MAJOR  OKLAHOMA    73718     36.24     -98.18  7a   \n",
       "\n",
       "   Corn Acres Harvested    Sales   CV  ANSI    Ag District  Ag District Code  \\\n",
       "0                 244.0    71000  0.3    40        CENTRAL                50   \n",
       "1                3063.0  2834000  0.3    40        CENTRAL                50   \n",
       "2                3167.0  1941000  0.3    40        CENTRAL                50   \n",
       "3                 401.0   237000  0.3    40        CENTRAL                50   \n",
       "4                4449.0  7794000  0.3    40  NORTH CENTRAL                40   \n",
       "\n",
       "  Concatenated County, State, Year  \n",
       "0                CREEKOKLAHOMA2022  \n",
       "1                GRADYOKLAHOMA2022  \n",
       "2              MCCLAINOKLAHOMA2022  \n",
       "3                PAYNEOKLAHOMA2022  \n",
       "4                MAJOROKLAHOMA2022  "
      ]
     },
     "execution_count": 82,
     "metadata": {},
     "output_type": "execute_result"
    }
   ],
   "source": [
    "df_dropdatacomm.head(5)"
   ]
  },
  {
   "cell_type": "code",
   "execution_count": 84,
   "id": "008e2227-bcc3-42e4-afbc-4c35cccef320",
   "metadata": {
    "scrolled": true
   },
   "outputs": [
    {
     "data": {
      "text/plain": [
       "(5165, 14)"
      ]
     },
     "execution_count": 84,
     "metadata": {},
     "output_type": "execute_result"
    }
   ],
   "source": [
    "df_dropdatacomm.shape"
   ]
  },
  {
   "cell_type": "code",
   "execution_count": 86,
   "id": "358a941c-1acc-473a-8fe4-d8d71ee124f3",
   "metadata": {},
   "outputs": [
    {
     "name": "stdout",
     "output_type": "stream",
     "text": [
      "Year                                0\n",
      "County                              0\n",
      "State                               0\n",
      "Zip code                            0\n",
      "Latitude                            0\n",
      "Longitude                           0\n",
      "PHZ                                 0\n",
      "Corn Acres Harvested                0\n",
      "Sales                               0\n",
      "CV                                  0\n",
      "ANSI                                0\n",
      "Ag District                         0\n",
      "Ag District Code                    0\n",
      "Concatenated County, State, Year    0\n",
      "dtype: int64\n"
     ]
    }
   ],
   "source": [
    "# checking for nulls\n",
    "null_counts = df_dropdatacomm.isnull().sum()\n",
    "print(null_counts)"
   ]
  },
  {
   "cell_type": "markdown",
   "id": "da95bf50-f18b-4cee-b7fd-dcbb5469e63f",
   "metadata": {},
   "source": [
    "#### no null values"
   ]
  },
  {
   "cell_type": "code",
   "execution_count": 89,
   "id": "0a3e6df6-3ee0-4fab-951c-2398a7cbc698",
   "metadata": {},
   "outputs": [],
   "source": [
    "# renaming Concatenated\n",
    "df_dropdatacomm.rename(columns = {'Concatenated County, State, Year' : 'Concatenated'}, inplace = True)"
   ]
  },
  {
   "cell_type": "code",
   "execution_count": 91,
   "id": "7354b9d2-2479-4185-8d64-e388f1cfe0c8",
   "metadata": {},
   "outputs": [
    {
     "data": {
      "text/html": [
       "<div>\n",
       "<style scoped>\n",
       "    .dataframe tbody tr th:only-of-type {\n",
       "        vertical-align: middle;\n",
       "    }\n",
       "\n",
       "    .dataframe tbody tr th {\n",
       "        vertical-align: top;\n",
       "    }\n",
       "\n",
       "    .dataframe thead th {\n",
       "        text-align: right;\n",
       "    }\n",
       "</style>\n",
       "<table border=\"1\" class=\"dataframe\">\n",
       "  <thead>\n",
       "    <tr style=\"text-align: right;\">\n",
       "      <th></th>\n",
       "      <th>Year</th>\n",
       "      <th>County</th>\n",
       "      <th>State</th>\n",
       "      <th>Zip code</th>\n",
       "      <th>Latitude</th>\n",
       "      <th>Longitude</th>\n",
       "      <th>PHZ</th>\n",
       "      <th>Corn Acres Harvested</th>\n",
       "      <th>Sales</th>\n",
       "      <th>CV</th>\n",
       "      <th>ANSI</th>\n",
       "      <th>Ag District</th>\n",
       "      <th>Ag District Code</th>\n",
       "      <th>Concatenated</th>\n",
       "    </tr>\n",
       "  </thead>\n",
       "  <tbody>\n",
       "    <tr>\n",
       "      <th>0</th>\n",
       "      <td>2022</td>\n",
       "      <td>CREEK</td>\n",
       "      <td>OKLAHOMA</td>\n",
       "      <td>74010</td>\n",
       "      <td>35.83</td>\n",
       "      <td>-96.39</td>\n",
       "      <td>7b</td>\n",
       "      <td>244.0</td>\n",
       "      <td>71000</td>\n",
       "      <td>0.3</td>\n",
       "      <td>40</td>\n",
       "      <td>CENTRAL</td>\n",
       "      <td>50</td>\n",
       "      <td>CREEKOKLAHOMA2022</td>\n",
       "    </tr>\n",
       "    <tr>\n",
       "      <th>1</th>\n",
       "      <td>2022</td>\n",
       "      <td>GRADY</td>\n",
       "      <td>OKLAHOMA</td>\n",
       "      <td>73002</td>\n",
       "      <td>34.92</td>\n",
       "      <td>-97.77</td>\n",
       "      <td>7b</td>\n",
       "      <td>3063.0</td>\n",
       "      <td>2834000</td>\n",
       "      <td>0.3</td>\n",
       "      <td>40</td>\n",
       "      <td>CENTRAL</td>\n",
       "      <td>50</td>\n",
       "      <td>GRADYOKLAHOMA2022</td>\n",
       "    </tr>\n",
       "    <tr>\n",
       "      <th>2</th>\n",
       "      <td>2022</td>\n",
       "      <td>MCCLAIN</td>\n",
       "      <td>OKLAHOMA</td>\n",
       "      <td>73010</td>\n",
       "      <td>35.14</td>\n",
       "      <td>-97.65</td>\n",
       "      <td>7b</td>\n",
       "      <td>3167.0</td>\n",
       "      <td>1941000</td>\n",
       "      <td>0.3</td>\n",
       "      <td>40</td>\n",
       "      <td>CENTRAL</td>\n",
       "      <td>50</td>\n",
       "      <td>MCCLAINOKLAHOMA2022</td>\n",
       "    </tr>\n",
       "    <tr>\n",
       "      <th>3</th>\n",
       "      <td>2022</td>\n",
       "      <td>PAYNE</td>\n",
       "      <td>OKLAHOMA</td>\n",
       "      <td>74023</td>\n",
       "      <td>35.97</td>\n",
       "      <td>-96.76</td>\n",
       "      <td>7b</td>\n",
       "      <td>401.0</td>\n",
       "      <td>237000</td>\n",
       "      <td>0.3</td>\n",
       "      <td>40</td>\n",
       "      <td>CENTRAL</td>\n",
       "      <td>50</td>\n",
       "      <td>PAYNEOKLAHOMA2022</td>\n",
       "    </tr>\n",
       "    <tr>\n",
       "      <th>4</th>\n",
       "      <td>2022</td>\n",
       "      <td>MAJOR</td>\n",
       "      <td>OKLAHOMA</td>\n",
       "      <td>73718</td>\n",
       "      <td>36.24</td>\n",
       "      <td>-98.18</td>\n",
       "      <td>7a</td>\n",
       "      <td>4449.0</td>\n",
       "      <td>7794000</td>\n",
       "      <td>0.3</td>\n",
       "      <td>40</td>\n",
       "      <td>NORTH CENTRAL</td>\n",
       "      <td>40</td>\n",
       "      <td>MAJOROKLAHOMA2022</td>\n",
       "    </tr>\n",
       "  </tbody>\n",
       "</table>\n",
       "</div>"
      ],
      "text/plain": [
       "   Year   County     State Zip code  Latitude  Longitude PHZ  \\\n",
       "0  2022    CREEK  OKLAHOMA    74010     35.83     -96.39  7b   \n",
       "1  2022    GRADY  OKLAHOMA    73002     34.92     -97.77  7b   \n",
       "2  2022  MCCLAIN  OKLAHOMA    73010     35.14     -97.65  7b   \n",
       "3  2022    PAYNE  OKLAHOMA    74023     35.97     -96.76  7b   \n",
       "4  2022    MAJOR  OKLAHOMA    73718     36.24     -98.18  7a   \n",
       "\n",
       "   Corn Acres Harvested    Sales   CV  ANSI    Ag District  Ag District Code  \\\n",
       "0                 244.0    71000  0.3    40        CENTRAL                50   \n",
       "1                3063.0  2834000  0.3    40        CENTRAL                50   \n",
       "2                3167.0  1941000  0.3    40        CENTRAL                50   \n",
       "3                 401.0   237000  0.3    40        CENTRAL                50   \n",
       "4                4449.0  7794000  0.3    40  NORTH CENTRAL                40   \n",
       "\n",
       "          Concatenated  \n",
       "0    CREEKOKLAHOMA2022  \n",
       "1    GRADYOKLAHOMA2022  \n",
       "2  MCCLAINOKLAHOMA2022  \n",
       "3    PAYNEOKLAHOMA2022  \n",
       "4    MAJOROKLAHOMA2022  "
      ]
     },
     "execution_count": 91,
     "metadata": {},
     "output_type": "execute_result"
    }
   ],
   "source": [
    "df_dropdatacomm.head()"
   ]
  },
  {
   "cell_type": "code",
   "execution_count": 93,
   "id": "901566b9-41be-4c76-99b4-8a4d7d293c2a",
   "metadata": {
    "scrolled": true
   },
   "outputs": [
    {
     "data": {
      "text/html": [
       "<div>\n",
       "<style scoped>\n",
       "    .dataframe tbody tr th:only-of-type {\n",
       "        vertical-align: middle;\n",
       "    }\n",
       "\n",
       "    .dataframe tbody tr th {\n",
       "        vertical-align: top;\n",
       "    }\n",
       "\n",
       "    .dataframe thead th {\n",
       "        text-align: right;\n",
       "    }\n",
       "</style>\n",
       "<table border=\"1\" class=\"dataframe\">\n",
       "  <thead>\n",
       "    <tr style=\"text-align: right;\">\n",
       "      <th></th>\n",
       "      <th>Year</th>\n",
       "      <th>Latitude</th>\n",
       "      <th>Longitude</th>\n",
       "      <th>Corn Acres Harvested</th>\n",
       "      <th>Sales</th>\n",
       "      <th>CV</th>\n",
       "      <th>ANSI</th>\n",
       "      <th>Ag District Code</th>\n",
       "    </tr>\n",
       "  </thead>\n",
       "  <tbody>\n",
       "    <tr>\n",
       "      <th>count</th>\n",
       "      <td>5165.000000</td>\n",
       "      <td>5165.000000</td>\n",
       "      <td>5165.000000</td>\n",
       "      <td>5165.000000</td>\n",
       "      <td>5.165000e+03</td>\n",
       "      <td>5165.000000</td>\n",
       "      <td>5165.000000</td>\n",
       "      <td>5165.000000</td>\n",
       "    </tr>\n",
       "    <tr>\n",
       "      <th>mean</th>\n",
       "      <td>2017.554695</td>\n",
       "      <td>38.375597</td>\n",
       "      <td>-90.903293</td>\n",
       "      <td>35702.855518</td>\n",
       "      <td>2.988467e+07</td>\n",
       "      <td>15.408589</td>\n",
       "      <td>30.448403</td>\n",
       "      <td>48.874153</td>\n",
       "    </tr>\n",
       "    <tr>\n",
       "      <th>std</th>\n",
       "      <td>4.969617</td>\n",
       "      <td>4.654419</td>\n",
       "      <td>10.177359</td>\n",
       "      <td>50209.115825</td>\n",
       "      <td>5.192729e+07</td>\n",
       "      <td>11.361837</td>\n",
       "      <td>14.550664</td>\n",
       "      <td>25.239704</td>\n",
       "    </tr>\n",
       "    <tr>\n",
       "      <th>min</th>\n",
       "      <td>2012.000000</td>\n",
       "      <td>24.820000</td>\n",
       "      <td>-124.150000</td>\n",
       "      <td>3.000000</td>\n",
       "      <td>0.000000e+00</td>\n",
       "      <td>0.000000</td>\n",
       "      <td>1.000000</td>\n",
       "      <td>10.000000</td>\n",
       "    </tr>\n",
       "    <tr>\n",
       "      <th>25%</th>\n",
       "      <td>2012.000000</td>\n",
       "      <td>35.030000</td>\n",
       "      <td>-96.840000</td>\n",
       "      <td>1922.000000</td>\n",
       "      <td>4.290000e+05</td>\n",
       "      <td>8.400000</td>\n",
       "      <td>19.000000</td>\n",
       "      <td>30.000000</td>\n",
       "    </tr>\n",
       "    <tr>\n",
       "      <th>50%</th>\n",
       "      <td>2022.000000</td>\n",
       "      <td>38.460000</td>\n",
       "      <td>-89.440000</td>\n",
       "      <td>13149.000000</td>\n",
       "      <td>6.112000e+06</td>\n",
       "      <td>13.200000</td>\n",
       "      <td>29.000000</td>\n",
       "      <td>50.000000</td>\n",
       "    </tr>\n",
       "    <tr>\n",
       "      <th>75%</th>\n",
       "      <td>2022.000000</td>\n",
       "      <td>41.660000</td>\n",
       "      <td>-83.570000</td>\n",
       "      <td>49546.000000</td>\n",
       "      <td>3.387600e+07</td>\n",
       "      <td>18.200000</td>\n",
       "      <td>45.000000</td>\n",
       "      <td>70.000000</td>\n",
       "    </tr>\n",
       "    <tr>\n",
       "      <th>max</th>\n",
       "      <td>2022.000000</td>\n",
       "      <td>48.990000</td>\n",
       "      <td>-67.760000</td>\n",
       "      <td>353558.000000</td>\n",
       "      <td>3.937870e+08</td>\n",
       "      <td>64.700000</td>\n",
       "      <td>56.000000</td>\n",
       "      <td>97.000000</td>\n",
       "    </tr>\n",
       "  </tbody>\n",
       "</table>\n",
       "</div>"
      ],
      "text/plain": [
       "              Year     Latitude    Longitude  Corn Acres Harvested  \\\n",
       "count  5165.000000  5165.000000  5165.000000           5165.000000   \n",
       "mean   2017.554695    38.375597   -90.903293          35702.855518   \n",
       "std       4.969617     4.654419    10.177359          50209.115825   \n",
       "min    2012.000000    24.820000  -124.150000              3.000000   \n",
       "25%    2012.000000    35.030000   -96.840000           1922.000000   \n",
       "50%    2022.000000    38.460000   -89.440000          13149.000000   \n",
       "75%    2022.000000    41.660000   -83.570000          49546.000000   \n",
       "max    2022.000000    48.990000   -67.760000         353558.000000   \n",
       "\n",
       "              Sales           CV         ANSI  Ag District Code  \n",
       "count  5.165000e+03  5165.000000  5165.000000       5165.000000  \n",
       "mean   2.988467e+07    15.408589    30.448403         48.874153  \n",
       "std    5.192729e+07    11.361837    14.550664         25.239704  \n",
       "min    0.000000e+00     0.000000     1.000000         10.000000  \n",
       "25%    4.290000e+05     8.400000    19.000000         30.000000  \n",
       "50%    6.112000e+06    13.200000    29.000000         50.000000  \n",
       "75%    3.387600e+07    18.200000    45.000000         70.000000  \n",
       "max    3.937870e+08    64.700000    56.000000         97.000000  "
      ]
     },
     "execution_count": 93,
     "metadata": {},
     "output_type": "execute_result"
    }
   ],
   "source": [
    "df_dropdatacomm.describe()"
   ]
  },
  {
   "cell_type": "markdown",
   "id": "2cdf62b1-b858-44cc-9d8d-43283c1dc3b2",
   "metadata": {},
   "source": [
    "## 4 Addressing Duplicates"
   ]
  },
  {
   "cell_type": "code",
   "execution_count": 95,
   "id": "b18c195b-f40e-46df-a253-8a76ff62666c",
   "metadata": {},
   "outputs": [
    {
     "data": {
      "text/plain": [
       "(109, 16)"
      ]
     },
     "execution_count": 95,
     "metadata": {},
     "output_type": "execute_result"
    }
   ],
   "source": [
    "df_dups.shape"
   ]
  },
  {
   "cell_type": "code",
   "execution_count": 97,
   "id": "ced888ed-d047-4e26-9429-beca55ad0202",
   "metadata": {},
   "outputs": [
    {
     "name": "stdout",
     "output_type": "stream",
     "text": [
      "      Year       County          State Zip code  Latitude  Longitude PHZ  \\\n",
      "4925  2022       GREENE        ALABAMA    35443     32.75     -88.02  8b   \n",
      "4930  2022      YAVAPAI        ARIZONA    85324     34.13    -112.13  9a   \n",
      "4931  2022     GREENLEE        ARIZONA    85533     33.27    -109.27  8a   \n",
      "4938  2022        CLARK       ARKANSAS    71721     33.89     -93.21  8a   \n",
      "4947  2022       PLACER     CALIFORNIA    95602     39.00    -121.09  9b   \n",
      "...    ...          ...            ...      ...       ...        ...  ..   \n",
      "5192  2022      WHATCOM     WASHINGTON    98220     48.70    -122.19  8a   \n",
      "5193  2022     HARRISON  WEST VIRGINIA    26301     39.28     -80.33  6b   \n",
      "5195  2022      RITCHIE  WEST VIRGINIA    26148     39.07     -81.18  6b   \n",
      "5204  2022  HOT SPRINGS        WYOMING    82430     43.82    -108.18  4b   \n",
      "5205  2022       ALBANY        WYOMING    82051     41.58    -105.69  4a   \n",
      "\n",
      "     Corn Acres Harvested    Sales   CV  ANSI       Ag District  \\\n",
      "4925                  (D)        0  (D)     1        BLACK BELT   \n",
      "4930                  (D)        0  (D)     4          NORTHERN   \n",
      "4931                  (D)   261000  (D)     4          SOUTHERN   \n",
      "4938                  (D)        0  (D)     5     SOUTH CENTRAL   \n",
      "4947                  (D)        0  (D)     6  SIERRA MOUNTAINS   \n",
      "...                   ...      ...  ...   ...               ...   \n",
      "5192                  (D)  2698000  (D)    53           WESTERN   \n",
      "5193                  (D)   104000  (D)    54         NORTHWEST   \n",
      "5195                  (D)        0  (D)    54         NORTHWEST   \n",
      "5204                  (D)        0  (D)    56         NORTHWEST   \n",
      "5205                  (D)        0  (D)    56     SOUTH CENTRAL   \n",
      "\n",
      "      Ag District Code Commodity                            Data Item  \\\n",
      "4925                40      CORN  CORN, GRAIN - ACRES HARVESTED TOTAL   \n",
      "4930                10      CORN  CORN, GRAIN - ACRES HARVESTED TOTAL   \n",
      "4931                80      CORN  CORN, GRAIN - ACRES HARVESTED TOTAL   \n",
      "4938                80      CORN  CORN, GRAIN - ACRES HARVESTED TOTAL   \n",
      "4947                60      CORN  CORN, GRAIN - ACRES HARVESTED TOTAL   \n",
      "...                ...       ...                                  ...   \n",
      "5192                10      CORN  CORN, GRAIN - ACRES HARVESTED TOTAL   \n",
      "5193                20      CORN  CORN, GRAIN - ACRES HARVESTED TOTAL   \n",
      "5195                20      CORN  CORN, GRAIN - ACRES HARVESTED TOTAL   \n",
      "5204                10      CORN  CORN, GRAIN - ACRES HARVESTED TOTAL   \n",
      "5205                40      CORN  CORN, GRAIN - ACRES HARVESTED TOTAL   \n",
      "\n",
      "     Concatenated County, State, Year  \n",
      "4925                GREENEALABAMA2022  \n",
      "4930               YAVAPAIARIZONA2022  \n",
      "4931              GREENLEEARIZONA2022  \n",
      "4938                CLARKARKANSAS2022  \n",
      "4947             PLACERCALIFORNIA2022  \n",
      "...                               ...  \n",
      "5192            WHATCOMWASHINGTON2022  \n",
      "5193         HARRISONWESTVIRGINIA2022  \n",
      "5195          RITCHIEWESTVIRGINIA2022  \n",
      "5204            HOTSPRINGSWYOMING2022  \n",
      "5205                ALBANYWYOMING2022  \n",
      "\n",
      "[109 rows x 16 columns]\n"
     ]
    }
   ],
   "source": [
    "print(df_dups)"
   ]
  },
  {
   "cell_type": "code",
   "execution_count": 99,
   "id": "e94b95c7-6c58-4b46-9998-801d57466fda",
   "metadata": {},
   "outputs": [
    {
     "data": {
      "text/plain": [
       "0.021103581800580834"
      ]
     },
     "execution_count": 99,
     "metadata": {},
     "output_type": "execute_result"
    }
   ],
   "source": [
    "109/5165"
   ]
  },
  {
   "cell_type": "markdown",
   "id": "1861d1a5-4933-4701-b126-127474e4fa8a",
   "metadata": {},
   "source": [
    "### keep first instance of duplicate, drop the other"
   ]
  },
  {
   "cell_type": "code",
   "execution_count": 102,
   "id": "1da06b38-26ad-4476-bacb-9e0937fde631",
   "metadata": {},
   "outputs": [],
   "source": [
    "df_nodups = df_dropdatacomm.drop_duplicates(keep='first')"
   ]
  },
  {
   "cell_type": "code",
   "execution_count": 106,
   "id": "810151a6-b403-4ffc-ab0e-d45e31f53b06",
   "metadata": {},
   "outputs": [
    {
     "name": "stderr",
     "output_type": "stream",
     "text": [
      "C:\\Users\\Noah\\AppData\\Local\\Temp\\ipykernel_16056\\3197100540.py:1: UserWarning: Boolean Series key will be reindexed to match DataFrame index.\n",
      "  df_nodups_test = df_nodups[df.duplicated()]\n"
     ]
    }
   ],
   "source": [
    "df_nodups_test = df_nodups[df.duplicated()]\n",
    "#no output means no duplicates"
   ]
  },
  {
   "cell_type": "code",
   "execution_count": 110,
   "id": "8ab93e25-a57c-48bf-b85c-afa5102b76b0",
   "metadata": {},
   "outputs": [
    {
     "data": {
      "text/html": [
       "<div>\n",
       "<style scoped>\n",
       "    .dataframe tbody tr th:only-of-type {\n",
       "        vertical-align: middle;\n",
       "    }\n",
       "\n",
       "    .dataframe tbody tr th {\n",
       "        vertical-align: top;\n",
       "    }\n",
       "\n",
       "    .dataframe thead th {\n",
       "        text-align: right;\n",
       "    }\n",
       "</style>\n",
       "<table border=\"1\" class=\"dataframe\">\n",
       "  <thead>\n",
       "    <tr style=\"text-align: right;\">\n",
       "      <th></th>\n",
       "      <th>Year</th>\n",
       "      <th>Latitude</th>\n",
       "      <th>Longitude</th>\n",
       "      <th>Corn Acres Harvested</th>\n",
       "      <th>Sales</th>\n",
       "      <th>CV</th>\n",
       "      <th>ANSI</th>\n",
       "      <th>Ag District Code</th>\n",
       "    </tr>\n",
       "  </thead>\n",
       "  <tbody>\n",
       "    <tr>\n",
       "      <th>count</th>\n",
       "      <td>0.0</td>\n",
       "      <td>0.0</td>\n",
       "      <td>0.0</td>\n",
       "      <td>0.0</td>\n",
       "      <td>0.0</td>\n",
       "      <td>0.0</td>\n",
       "      <td>0.0</td>\n",
       "      <td>0.0</td>\n",
       "    </tr>\n",
       "    <tr>\n",
       "      <th>mean</th>\n",
       "      <td>NaN</td>\n",
       "      <td>NaN</td>\n",
       "      <td>NaN</td>\n",
       "      <td>NaN</td>\n",
       "      <td>NaN</td>\n",
       "      <td>NaN</td>\n",
       "      <td>NaN</td>\n",
       "      <td>NaN</td>\n",
       "    </tr>\n",
       "    <tr>\n",
       "      <th>std</th>\n",
       "      <td>NaN</td>\n",
       "      <td>NaN</td>\n",
       "      <td>NaN</td>\n",
       "      <td>NaN</td>\n",
       "      <td>NaN</td>\n",
       "      <td>NaN</td>\n",
       "      <td>NaN</td>\n",
       "      <td>NaN</td>\n",
       "    </tr>\n",
       "    <tr>\n",
       "      <th>min</th>\n",
       "      <td>NaN</td>\n",
       "      <td>NaN</td>\n",
       "      <td>NaN</td>\n",
       "      <td>NaN</td>\n",
       "      <td>NaN</td>\n",
       "      <td>NaN</td>\n",
       "      <td>NaN</td>\n",
       "      <td>NaN</td>\n",
       "    </tr>\n",
       "    <tr>\n",
       "      <th>25%</th>\n",
       "      <td>NaN</td>\n",
       "      <td>NaN</td>\n",
       "      <td>NaN</td>\n",
       "      <td>NaN</td>\n",
       "      <td>NaN</td>\n",
       "      <td>NaN</td>\n",
       "      <td>NaN</td>\n",
       "      <td>NaN</td>\n",
       "    </tr>\n",
       "    <tr>\n",
       "      <th>50%</th>\n",
       "      <td>NaN</td>\n",
       "      <td>NaN</td>\n",
       "      <td>NaN</td>\n",
       "      <td>NaN</td>\n",
       "      <td>NaN</td>\n",
       "      <td>NaN</td>\n",
       "      <td>NaN</td>\n",
       "      <td>NaN</td>\n",
       "    </tr>\n",
       "    <tr>\n",
       "      <th>75%</th>\n",
       "      <td>NaN</td>\n",
       "      <td>NaN</td>\n",
       "      <td>NaN</td>\n",
       "      <td>NaN</td>\n",
       "      <td>NaN</td>\n",
       "      <td>NaN</td>\n",
       "      <td>NaN</td>\n",
       "      <td>NaN</td>\n",
       "    </tr>\n",
       "    <tr>\n",
       "      <th>max</th>\n",
       "      <td>NaN</td>\n",
       "      <td>NaN</td>\n",
       "      <td>NaN</td>\n",
       "      <td>NaN</td>\n",
       "      <td>NaN</td>\n",
       "      <td>NaN</td>\n",
       "      <td>NaN</td>\n",
       "      <td>NaN</td>\n",
       "    </tr>\n",
       "  </tbody>\n",
       "</table>\n",
       "</div>"
      ],
      "text/plain": [
       "       Year  Latitude  Longitude  Corn Acres Harvested  Sales   CV  ANSI  \\\n",
       "count   0.0       0.0        0.0                   0.0    0.0  0.0   0.0   \n",
       "mean    NaN       NaN        NaN                   NaN    NaN  NaN   NaN   \n",
       "std     NaN       NaN        NaN                   NaN    NaN  NaN   NaN   \n",
       "min     NaN       NaN        NaN                   NaN    NaN  NaN   NaN   \n",
       "25%     NaN       NaN        NaN                   NaN    NaN  NaN   NaN   \n",
       "50%     NaN       NaN        NaN                   NaN    NaN  NaN   NaN   \n",
       "75%     NaN       NaN        NaN                   NaN    NaN  NaN   NaN   \n",
       "max     NaN       NaN        NaN                   NaN    NaN  NaN   NaN   \n",
       "\n",
       "       Ag District Code  \n",
       "count               0.0  \n",
       "mean                NaN  \n",
       "std                 NaN  \n",
       "min                 NaN  \n",
       "25%                 NaN  \n",
       "50%                 NaN  \n",
       "75%                 NaN  \n",
       "max                 NaN  "
      ]
     },
     "execution_count": 110,
     "metadata": {},
     "output_type": "execute_result"
    }
   ],
   "source": [
    "df_nodups_test.describe()"
   ]
  },
  {
   "cell_type": "code",
   "execution_count": 112,
   "id": "900860af-392c-43e0-98bf-3a4d64f5ff93",
   "metadata": {},
   "outputs": [
    {
     "data": {
      "text/html": [
       "<div>\n",
       "<style scoped>\n",
       "    .dataframe tbody tr th:only-of-type {\n",
       "        vertical-align: middle;\n",
       "    }\n",
       "\n",
       "    .dataframe tbody tr th {\n",
       "        vertical-align: top;\n",
       "    }\n",
       "\n",
       "    .dataframe thead th {\n",
       "        text-align: right;\n",
       "    }\n",
       "</style>\n",
       "<table border=\"1\" class=\"dataframe\">\n",
       "  <thead>\n",
       "    <tr style=\"text-align: right;\">\n",
       "      <th></th>\n",
       "      <th>Year</th>\n",
       "      <th>Latitude</th>\n",
       "      <th>Longitude</th>\n",
       "      <th>Corn Acres Harvested</th>\n",
       "      <th>Sales</th>\n",
       "      <th>CV</th>\n",
       "      <th>ANSI</th>\n",
       "      <th>Ag District Code</th>\n",
       "    </tr>\n",
       "  </thead>\n",
       "  <tbody>\n",
       "    <tr>\n",
       "      <th>count</th>\n",
       "      <td>5064.000000</td>\n",
       "      <td>5064.000000</td>\n",
       "      <td>5064.000000</td>\n",
       "      <td>5064.000000</td>\n",
       "      <td>5.064000e+03</td>\n",
       "      <td>5064.000000</td>\n",
       "      <td>5064.000000</td>\n",
       "      <td>5064.000000</td>\n",
       "    </tr>\n",
       "    <tr>\n",
       "      <th>mean</th>\n",
       "      <td>2017.466035</td>\n",
       "      <td>38.420087</td>\n",
       "      <td>-90.786556</td>\n",
       "      <td>35800.449520</td>\n",
       "      <td>3.047040e+07</td>\n",
       "      <td>15.393912</td>\n",
       "      <td>30.382504</td>\n",
       "      <td>48.925750</td>\n",
       "    </tr>\n",
       "    <tr>\n",
       "      <th>std</th>\n",
       "      <td>4.978725</td>\n",
       "      <td>4.625367</td>\n",
       "      <td>10.063754</td>\n",
       "      <td>50604.362720</td>\n",
       "      <td>5.227278e+07</td>\n",
       "      <td>11.464410</td>\n",
       "      <td>14.510079</td>\n",
       "      <td>25.229518</td>\n",
       "    </tr>\n",
       "    <tr>\n",
       "      <th>min</th>\n",
       "      <td>2012.000000</td>\n",
       "      <td>24.820000</td>\n",
       "      <td>-124.150000</td>\n",
       "      <td>3.000000</td>\n",
       "      <td>0.000000e+00</td>\n",
       "      <td>0.000000</td>\n",
       "      <td>1.000000</td>\n",
       "      <td>10.000000</td>\n",
       "    </tr>\n",
       "    <tr>\n",
       "      <th>25%</th>\n",
       "      <td>2012.000000</td>\n",
       "      <td>35.115000</td>\n",
       "      <td>-96.740000</td>\n",
       "      <td>1899.750000</td>\n",
       "      <td>5.335000e+05</td>\n",
       "      <td>8.400000</td>\n",
       "      <td>19.000000</td>\n",
       "      <td>30.000000</td>\n",
       "    </tr>\n",
       "    <tr>\n",
       "      <th>50%</th>\n",
       "      <td>2022.000000</td>\n",
       "      <td>38.510000</td>\n",
       "      <td>-89.370000</td>\n",
       "      <td>12834.000000</td>\n",
       "      <td>6.652500e+06</td>\n",
       "      <td>12.600000</td>\n",
       "      <td>29.000000</td>\n",
       "      <td>50.000000</td>\n",
       "    </tr>\n",
       "    <tr>\n",
       "      <th>75%</th>\n",
       "      <td>2022.000000</td>\n",
       "      <td>41.680000</td>\n",
       "      <td>-83.537500</td>\n",
       "      <td>49619.929412</td>\n",
       "      <td>3.491400e+07</td>\n",
       "      <td>18.557692</td>\n",
       "      <td>42.000000</td>\n",
       "      <td>70.000000</td>\n",
       "    </tr>\n",
       "    <tr>\n",
       "      <th>max</th>\n",
       "      <td>2022.000000</td>\n",
       "      <td>48.990000</td>\n",
       "      <td>-67.760000</td>\n",
       "      <td>353558.000000</td>\n",
       "      <td>3.937870e+08</td>\n",
       "      <td>64.700000</td>\n",
       "      <td>56.000000</td>\n",
       "      <td>97.000000</td>\n",
       "    </tr>\n",
       "  </tbody>\n",
       "</table>\n",
       "</div>"
      ],
      "text/plain": [
       "              Year     Latitude    Longitude  Corn Acres Harvested  \\\n",
       "count  5064.000000  5064.000000  5064.000000           5064.000000   \n",
       "mean   2017.466035    38.420087   -90.786556          35800.449520   \n",
       "std       4.978725     4.625367    10.063754          50604.362720   \n",
       "min    2012.000000    24.820000  -124.150000              3.000000   \n",
       "25%    2012.000000    35.115000   -96.740000           1899.750000   \n",
       "50%    2022.000000    38.510000   -89.370000          12834.000000   \n",
       "75%    2022.000000    41.680000   -83.537500          49619.929412   \n",
       "max    2022.000000    48.990000   -67.760000         353558.000000   \n",
       "\n",
       "              Sales           CV         ANSI  Ag District Code  \n",
       "count  5.064000e+03  5064.000000  5064.000000       5064.000000  \n",
       "mean   3.047040e+07    15.393912    30.382504         48.925750  \n",
       "std    5.227278e+07    11.464410    14.510079         25.229518  \n",
       "min    0.000000e+00     0.000000     1.000000         10.000000  \n",
       "25%    5.335000e+05     8.400000    19.000000         30.000000  \n",
       "50%    6.652500e+06    12.600000    29.000000         50.000000  \n",
       "75%    3.491400e+07    18.557692    42.000000         70.000000  \n",
       "max    3.937870e+08    64.700000    56.000000         97.000000  "
      ]
     },
     "execution_count": 112,
     "metadata": {},
     "output_type": "execute_result"
    }
   ],
   "source": [
    "df_nodups.describe()"
   ]
  },
  {
   "cell_type": "code",
   "execution_count": 114,
   "id": "0e29c4fb-5d3b-405b-b70d-a50a8e2030ce",
   "metadata": {},
   "outputs": [
    {
     "data": {
      "text/plain": [
       "Year                      int64\n",
       "County                   object\n",
       "State                    object\n",
       "Zip code                 object\n",
       "Latitude                float64\n",
       "Longitude               float64\n",
       "PHZ                      object\n",
       "Corn Acres Harvested    float64\n",
       "Sales                     int64\n",
       "CV                      float64\n",
       "ANSI                      int64\n",
       "Ag District              object\n",
       "Ag District Code          int64\n",
       "Concatenated             object\n",
       "dtype: object"
      ]
     },
     "execution_count": 114,
     "metadata": {},
     "output_type": "execute_result"
    }
   ],
   "source": [
    "df_nodups.dtypes"
   ]
  },
  {
   "cell_type": "markdown",
   "id": "345ca4ab-e731-4f3d-ba25-f58c77fb0614",
   "metadata": {},
   "source": [
    "#### counts are good, all lines have same number\n",
    "#### year data is good- only two values available\n",
    "#### Corn Acres Harvested has no null values\n",
    "#### sales data is good, no null no errors\n",
    "#### Coefficient of Variation is integer\n",
    "#### CV, ANSI and District codes are aligned with data"
   ]
  },
  {
   "cell_type": "markdown",
   "id": "28649954-c8fe-48b3-8900-2494ad25968b",
   "metadata": {},
   "source": [
    "### rename data set"
   ]
  },
  {
   "cell_type": "code",
   "execution_count": 120,
   "id": "f2b36435-7854-4f05-b382-e006f6a76e26",
   "metadata": {},
   "outputs": [],
   "source": [
    "df_corn_analysis = df_nodups"
   ]
  },
  {
   "cell_type": "code",
   "execution_count": 122,
   "id": "f5c6f38a-5d88-4d7d-b428-675c09186dac",
   "metadata": {},
   "outputs": [
    {
     "name": "stdout",
     "output_type": "stream",
     "text": [
      "      Year    County          State Zip code  Latitude  Longitude PHZ  \\\n",
      "0     2022     CREEK       OKLAHOMA    74010     35.83     -96.39  7b   \n",
      "1     2022     GRADY       OKLAHOMA    73002     34.92     -97.77  7b   \n",
      "2     2022   MCCLAIN       OKLAHOMA    73010     35.14     -97.65  7b   \n",
      "3     2022     PAYNE       OKLAHOMA    74023     35.97     -96.76  7b   \n",
      "4     2022     MAJOR       OKLAHOMA    73718     36.24     -98.18  7a   \n",
      "...    ...       ...            ...      ...       ...        ...  ..   \n",
      "5293  2022   KANAWHA  WEST VIRGINIA    25015     38.23     -81.53  7a   \n",
      "5294  2022   LINCOLN  WEST VIRGINIA    25003     38.28     -81.84  7a   \n",
      "5295  2022   ASHLAND      WISCONSIN    54514     46.01     -90.49  4a   \n",
      "5296  2022   NATRONA        WYOMING    82601     42.83    -106.32  5a   \n",
      "5297  2022  NIOBRARA        WYOMING    82222     43.20    -104.65  4b   \n",
      "\n",
      "      Corn Acres Harvested    Sales   CV  ANSI    Ag District  \\\n",
      "0                    244.0    71000  0.3    40        CENTRAL   \n",
      "1                   3063.0  2834000  0.3    40        CENTRAL   \n",
      "2                   3167.0  1941000  0.3    40        CENTRAL   \n",
      "3                    401.0   237000  0.3    40        CENTRAL   \n",
      "4                   4449.0  7794000  0.3    40  NORTH CENTRAL   \n",
      "...                    ...      ...  ...   ...            ...   \n",
      "5293                   5.0     2000  0.0    54      SOUTHWEST   \n",
      "5294                   6.0     2000  0.0    54      SOUTHWEST   \n",
      "5295                1796.0   918000  0.0    55  NORTH CENTRAL   \n",
      "5296                 638.0  1536000  0.0    56  SOUTH CENTRAL   \n",
      "5297                1064.0  1758000  0.0    56      SOUTHEAST   \n",
      "\n",
      "      Ag District Code             Concatenated  \n",
      "0                   50        CREEKOKLAHOMA2022  \n",
      "1                   50        GRADYOKLAHOMA2022  \n",
      "2                   50      MCCLAINOKLAHOMA2022  \n",
      "3                   50        PAYNEOKLAHOMA2022  \n",
      "4                   40        MAJOROKLAHOMA2022  \n",
      "...                ...                      ...  \n",
      "5293                40  KANAWHAWESTVIRGINIA2022  \n",
      "5294                40  LINCOLNWESTVIRGINIA2022  \n",
      "5295                20     ASHLANDWISCONSIN2022  \n",
      "5296                40       NATRONAWYOMING2022  \n",
      "5297                50      NIOBRARAWYOMING2022  \n",
      "\n",
      "[5064 rows x 14 columns]\n"
     ]
    }
   ],
   "source": [
    "print(df_corn_analysis)"
   ]
  },
  {
   "cell_type": "markdown",
   "id": "40c8791c-d282-4a30-ab37-7a24bb015bee",
   "metadata": {},
   "source": [
    "## 5. Exporting Cleaned Data Set"
   ]
  },
  {
   "cell_type": "code",
   "execution_count": 86,
   "id": "1651ff51-2ff8-405c-9440-49d81c575df2",
   "metadata": {},
   "outputs": [],
   "source": [
    "df_corn_analysis.to_csv(os.path.join(path, '02 Data','Cleaned', 'df_corn_analysis.csv'))"
   ]
  },
  {
   "cell_type": "code",
   "execution_count": null,
   "id": "8ffc9cd7-b80d-4353-afc4-0bb1e5a4ab40",
   "metadata": {},
   "outputs": [],
   "source": []
  }
 ],
 "metadata": {
  "kernelspec": {
   "display_name": "Python 3 (ipykernel)",
   "language": "python",
   "name": "python3"
  },
  "language_info": {
   "codemirror_mode": {
    "name": "ipython",
    "version": 3
   },
   "file_extension": ".py",
   "mimetype": "text/x-python",
   "name": "python",
   "nbconvert_exporter": "python",
   "pygments_lexer": "ipython3",
   "version": "3.11.7"
  }
 },
 "nbformat": 4,
 "nbformat_minor": 5
}
