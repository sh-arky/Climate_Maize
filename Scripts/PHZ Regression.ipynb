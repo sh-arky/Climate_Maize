{
 "cells": [
  {
   "cell_type": "markdown",
   "id": "80fa0bdc-21ca-4e50-85a7-d1a3a1252c00",
   "metadata": {},
   "source": [
    "# PHZ Porject Regression Analysis"
   ]
  },
  {
   "cell_type": "markdown",
   "id": "1abc4e0f-17f4-4be9-bb07-6d4bac17560e",
   "metadata": {
    "jp-MarkdownHeadingCollapsed": true
   },
   "source": [
    "## This script contains the following:\n",
    "### 1 Importing Libraries and Data\n",
    "### 2 Data Cleaning\n",
    "### 3 Data Analysis\n",
    "### 4 Regression Analysis\n",
    "### 5 Outlier Removal\n",
    "### 6 Retesting with Outliers Removed\n",
    "### 7 Logarithmic Transformations\n",
    "### 8 Logarithmic Regression Analysis\n",
    "### 9 Repeating Log Reg Analysis Without Zero Values\n",
    "### 10 Reflections"
   ]
  },
  {
   "cell_type": "markdown",
   "id": "beb75819-660e-4cd0-80cf-89139fb9b74d",
   "metadata": {
    "jp-MarkdownHeadingCollapsed": true
   },
   "source": [
    "w."
   ]
  },
  {
   "cell_type": "markdown",
   "id": "dfdf6c28-c583-4810-b0fc-00f5538519a3",
   "metadata": {
    "jp-MarkdownHeadingCollapsed": true
   },
   "source": [
    "## 1 Importing Libraries and Data"
   ]
  },
  {
   "cell_type": "code",
   "execution_count": 5,
   "id": "63db6a1b-8231-46dc-9568-6d824c60939c",
   "metadata": {},
   "outputs": [],
   "source": [
    "#importing libs\n",
    "import pandas as pd\n",
    "import numpy as np\n",
    "import seaborn as sns\n",
    "import matplotlib\n",
    "import matplotlib.pyplot as plt\n",
    "import os\n",
    "import sklearn\n",
    "from sklearn.model_selection import train_test_split \n",
    "from sklearn.linear_model import LinearRegression\n",
    "from sklearn.metrics import mean_squared_error, r2_score"
   ]
  },
  {
   "cell_type": "code",
   "execution_count": 6,
   "id": "8025bedf-a459-4fdc-b41d-f2e41d943901",
   "metadata": {},
   "outputs": [],
   "source": [
    "# ensure graphs are displayed within notebook without having to call them\n",
    "%matplotlib inline"
   ]
  },
  {
   "cell_type": "code",
   "execution_count": 7,
   "id": "aa4a7d6a-99a4-49a0-aec9-72b161af8f85",
   "metadata": {},
   "outputs": [],
   "source": [
    "path = r\"C:\\Users\\Noah\\Achievement 6\""
   ]
  },
  {
   "cell_type": "code",
   "execution_count": 8,
   "id": "ee0cdacd-709e-4835-a56a-e79e4f9ad2cf",
   "metadata": {},
   "outputs": [],
   "source": [
    "df = pd.read_csv(os.path.join(path, '02 Data', 'CLEANED', 'df_corn_analysis.csv'))"
   ]
  },
  {
   "cell_type": "markdown",
   "id": "8f03a015-406b-4903-8162-450e06be6a9b",
   "metadata": {
    "jp-MarkdownHeadingCollapsed": true
   },
   "source": [
    "## 2 Data Cleaning"
   ]
  },
  {
   "cell_type": "code",
   "execution_count": 10,
   "id": "9ba57e7e-8961-4fa1-b8cb-4e51389ef936",
   "metadata": {},
   "outputs": [
    {
     "data": {
      "text/html": [
       "<div>\n",
       "<style scoped>\n",
       "    .dataframe tbody tr th:only-of-type {\n",
       "        vertical-align: middle;\n",
       "    }\n",
       "\n",
       "    .dataframe tbody tr th {\n",
       "        vertical-align: top;\n",
       "    }\n",
       "\n",
       "    .dataframe thead th {\n",
       "        text-align: right;\n",
       "    }\n",
       "</style>\n",
       "<table border=\"1\" class=\"dataframe\">\n",
       "  <thead>\n",
       "    <tr style=\"text-align: right;\">\n",
       "      <th></th>\n",
       "      <th>Unnamed: 0</th>\n",
       "      <th>Year</th>\n",
       "      <th>County</th>\n",
       "      <th>State</th>\n",
       "      <th>Zip code</th>\n",
       "      <th>latitude</th>\n",
       "      <th>longitude</th>\n",
       "      <th>Plant Hardiness Zone</th>\n",
       "      <th>Corn Acres Harvested</th>\n",
       "      <th>Sales ($)</th>\n",
       "      <th>CV</th>\n",
       "      <th>State ANSI</th>\n",
       "      <th>Ag District</th>\n",
       "      <th>Ag District Code</th>\n",
       "      <th>Concatenated</th>\n",
       "    </tr>\n",
       "  </thead>\n",
       "  <tbody>\n",
       "    <tr>\n",
       "      <th>0</th>\n",
       "      <td>0</td>\n",
       "      <td>2022</td>\n",
       "      <td>CREEK</td>\n",
       "      <td>OKLAHOMA</td>\n",
       "      <td>74010</td>\n",
       "      <td>35.83</td>\n",
       "      <td>-96.39</td>\n",
       "      <td>7b</td>\n",
       "      <td>244.0</td>\n",
       "      <td>71000</td>\n",
       "      <td>0.3</td>\n",
       "      <td>40</td>\n",
       "      <td>CENTRAL</td>\n",
       "      <td>50</td>\n",
       "      <td>CREEKOKLAHOMA2022</td>\n",
       "    </tr>\n",
       "    <tr>\n",
       "      <th>1</th>\n",
       "      <td>1</td>\n",
       "      <td>2022</td>\n",
       "      <td>GRADY</td>\n",
       "      <td>OKLAHOMA</td>\n",
       "      <td>73002</td>\n",
       "      <td>34.92</td>\n",
       "      <td>-97.77</td>\n",
       "      <td>7b</td>\n",
       "      <td>3063.0</td>\n",
       "      <td>2834000</td>\n",
       "      <td>0.3</td>\n",
       "      <td>40</td>\n",
       "      <td>CENTRAL</td>\n",
       "      <td>50</td>\n",
       "      <td>GRADYOKLAHOMA2022</td>\n",
       "    </tr>\n",
       "    <tr>\n",
       "      <th>2</th>\n",
       "      <td>2</td>\n",
       "      <td>2022</td>\n",
       "      <td>MCCLAIN</td>\n",
       "      <td>OKLAHOMA</td>\n",
       "      <td>73010</td>\n",
       "      <td>35.14</td>\n",
       "      <td>-97.65</td>\n",
       "      <td>7b</td>\n",
       "      <td>3167.0</td>\n",
       "      <td>1941000</td>\n",
       "      <td>0.3</td>\n",
       "      <td>40</td>\n",
       "      <td>CENTRAL</td>\n",
       "      <td>50</td>\n",
       "      <td>MCCLAINOKLAHOMA2022</td>\n",
       "    </tr>\n",
       "    <tr>\n",
       "      <th>3</th>\n",
       "      <td>3</td>\n",
       "      <td>2022</td>\n",
       "      <td>PAYNE</td>\n",
       "      <td>OKLAHOMA</td>\n",
       "      <td>74023</td>\n",
       "      <td>35.97</td>\n",
       "      <td>-96.76</td>\n",
       "      <td>7b</td>\n",
       "      <td>401.0</td>\n",
       "      <td>237000</td>\n",
       "      <td>0.3</td>\n",
       "      <td>40</td>\n",
       "      <td>CENTRAL</td>\n",
       "      <td>50</td>\n",
       "      <td>PAYNEOKLAHOMA2022</td>\n",
       "    </tr>\n",
       "    <tr>\n",
       "      <th>4</th>\n",
       "      <td>4</td>\n",
       "      <td>2022</td>\n",
       "      <td>MAJOR</td>\n",
       "      <td>OKLAHOMA</td>\n",
       "      <td>73718</td>\n",
       "      <td>36.24</td>\n",
       "      <td>-98.18</td>\n",
       "      <td>7a</td>\n",
       "      <td>4449.0</td>\n",
       "      <td>7794000</td>\n",
       "      <td>0.3</td>\n",
       "      <td>40</td>\n",
       "      <td>NORTH CENTRAL</td>\n",
       "      <td>40</td>\n",
       "      <td>MAJOROKLAHOMA2022</td>\n",
       "    </tr>\n",
       "  </tbody>\n",
       "</table>\n",
       "</div>"
      ],
      "text/plain": [
       "   Unnamed: 0  Year   County     State  Zip code  latitude  longitude  \\\n",
       "0           0  2022    CREEK  OKLAHOMA     74010     35.83     -96.39   \n",
       "1           1  2022    GRADY  OKLAHOMA     73002     34.92     -97.77   \n",
       "2           2  2022  MCCLAIN  OKLAHOMA     73010     35.14     -97.65   \n",
       "3           3  2022    PAYNE  OKLAHOMA     74023     35.97     -96.76   \n",
       "4           4  2022    MAJOR  OKLAHOMA     73718     36.24     -98.18   \n",
       "\n",
       "  Plant Hardiness Zone  Corn Acres Harvested  Sales ($)   CV  State ANSI  \\\n",
       "0                   7b                 244.0      71000  0.3          40   \n",
       "1                   7b                3063.0    2834000  0.3          40   \n",
       "2                   7b                3167.0    1941000  0.3          40   \n",
       "3                   7b                 401.0     237000  0.3          40   \n",
       "4                   7a                4449.0    7794000  0.3          40   \n",
       "\n",
       "     Ag District  Ag District Code         Concatenated  \n",
       "0        CENTRAL                50    CREEKOKLAHOMA2022  \n",
       "1        CENTRAL                50    GRADYOKLAHOMA2022  \n",
       "2        CENTRAL                50  MCCLAINOKLAHOMA2022  \n",
       "3        CENTRAL                50    PAYNEOKLAHOMA2022  \n",
       "4  NORTH CENTRAL                40    MAJOROKLAHOMA2022  "
      ]
     },
     "execution_count": 10,
     "metadata": {},
     "output_type": "execute_result"
    }
   ],
   "source": [
    "df.head()"
   ]
  },
  {
   "cell_type": "code",
   "execution_count": 11,
   "id": "d07e6f57-a75d-466e-98ee-2a6032518cd1",
   "metadata": {},
   "outputs": [],
   "source": [
    "# renaming columns\n",
    "df.rename(columns = {'Zip code' : 'Zip', 'latitude' : 'Latitude', 'longitude' : 'Longitude', 'Sales ($)' : 'Sales', 'Plant Hardiness Zone' : 'PHZ'}, inplace = True)"
   ]
  },
  {
   "cell_type": "code",
   "execution_count": 12,
   "id": "6e3dd42d-9dfc-41cf-a617-69a3665868b5",
   "metadata": {},
   "outputs": [
    {
     "data": {
      "text/html": [
       "<div>\n",
       "<style scoped>\n",
       "    .dataframe tbody tr th:only-of-type {\n",
       "        vertical-align: middle;\n",
       "    }\n",
       "\n",
       "    .dataframe tbody tr th {\n",
       "        vertical-align: top;\n",
       "    }\n",
       "\n",
       "    .dataframe thead th {\n",
       "        text-align: right;\n",
       "    }\n",
       "</style>\n",
       "<table border=\"1\" class=\"dataframe\">\n",
       "  <thead>\n",
       "    <tr style=\"text-align: right;\">\n",
       "      <th></th>\n",
       "      <th>Unnamed: 0</th>\n",
       "      <th>Year</th>\n",
       "      <th>County</th>\n",
       "      <th>State</th>\n",
       "      <th>Zip</th>\n",
       "      <th>Latitude</th>\n",
       "      <th>Longitude</th>\n",
       "      <th>PHZ</th>\n",
       "      <th>Corn Acres Harvested</th>\n",
       "      <th>Sales</th>\n",
       "      <th>CV</th>\n",
       "      <th>State ANSI</th>\n",
       "      <th>Ag District</th>\n",
       "      <th>Ag District Code</th>\n",
       "      <th>Concatenated</th>\n",
       "    </tr>\n",
       "  </thead>\n",
       "  <tbody>\n",
       "    <tr>\n",
       "      <th>0</th>\n",
       "      <td>0</td>\n",
       "      <td>2022</td>\n",
       "      <td>CREEK</td>\n",
       "      <td>OKLAHOMA</td>\n",
       "      <td>74010</td>\n",
       "      <td>35.83</td>\n",
       "      <td>-96.39</td>\n",
       "      <td>7b</td>\n",
       "      <td>244.0</td>\n",
       "      <td>71000</td>\n",
       "      <td>0.3</td>\n",
       "      <td>40</td>\n",
       "      <td>CENTRAL</td>\n",
       "      <td>50</td>\n",
       "      <td>CREEKOKLAHOMA2022</td>\n",
       "    </tr>\n",
       "    <tr>\n",
       "      <th>1</th>\n",
       "      <td>1</td>\n",
       "      <td>2022</td>\n",
       "      <td>GRADY</td>\n",
       "      <td>OKLAHOMA</td>\n",
       "      <td>73002</td>\n",
       "      <td>34.92</td>\n",
       "      <td>-97.77</td>\n",
       "      <td>7b</td>\n",
       "      <td>3063.0</td>\n",
       "      <td>2834000</td>\n",
       "      <td>0.3</td>\n",
       "      <td>40</td>\n",
       "      <td>CENTRAL</td>\n",
       "      <td>50</td>\n",
       "      <td>GRADYOKLAHOMA2022</td>\n",
       "    </tr>\n",
       "    <tr>\n",
       "      <th>2</th>\n",
       "      <td>2</td>\n",
       "      <td>2022</td>\n",
       "      <td>MCCLAIN</td>\n",
       "      <td>OKLAHOMA</td>\n",
       "      <td>73010</td>\n",
       "      <td>35.14</td>\n",
       "      <td>-97.65</td>\n",
       "      <td>7b</td>\n",
       "      <td>3167.0</td>\n",
       "      <td>1941000</td>\n",
       "      <td>0.3</td>\n",
       "      <td>40</td>\n",
       "      <td>CENTRAL</td>\n",
       "      <td>50</td>\n",
       "      <td>MCCLAINOKLAHOMA2022</td>\n",
       "    </tr>\n",
       "    <tr>\n",
       "      <th>3</th>\n",
       "      <td>3</td>\n",
       "      <td>2022</td>\n",
       "      <td>PAYNE</td>\n",
       "      <td>OKLAHOMA</td>\n",
       "      <td>74023</td>\n",
       "      <td>35.97</td>\n",
       "      <td>-96.76</td>\n",
       "      <td>7b</td>\n",
       "      <td>401.0</td>\n",
       "      <td>237000</td>\n",
       "      <td>0.3</td>\n",
       "      <td>40</td>\n",
       "      <td>CENTRAL</td>\n",
       "      <td>50</td>\n",
       "      <td>PAYNEOKLAHOMA2022</td>\n",
       "    </tr>\n",
       "    <tr>\n",
       "      <th>4</th>\n",
       "      <td>4</td>\n",
       "      <td>2022</td>\n",
       "      <td>MAJOR</td>\n",
       "      <td>OKLAHOMA</td>\n",
       "      <td>73718</td>\n",
       "      <td>36.24</td>\n",
       "      <td>-98.18</td>\n",
       "      <td>7a</td>\n",
       "      <td>4449.0</td>\n",
       "      <td>7794000</td>\n",
       "      <td>0.3</td>\n",
       "      <td>40</td>\n",
       "      <td>NORTH CENTRAL</td>\n",
       "      <td>40</td>\n",
       "      <td>MAJOROKLAHOMA2022</td>\n",
       "    </tr>\n",
       "  </tbody>\n",
       "</table>\n",
       "</div>"
      ],
      "text/plain": [
       "   Unnamed: 0  Year   County     State    Zip  Latitude  Longitude PHZ  \\\n",
       "0           0  2022    CREEK  OKLAHOMA  74010     35.83     -96.39  7b   \n",
       "1           1  2022    GRADY  OKLAHOMA  73002     34.92     -97.77  7b   \n",
       "2           2  2022  MCCLAIN  OKLAHOMA  73010     35.14     -97.65  7b   \n",
       "3           3  2022    PAYNE  OKLAHOMA  74023     35.97     -96.76  7b   \n",
       "4           4  2022    MAJOR  OKLAHOMA  73718     36.24     -98.18  7a   \n",
       "\n",
       "   Corn Acres Harvested    Sales   CV  State ANSI    Ag District  \\\n",
       "0                 244.0    71000  0.3          40        CENTRAL   \n",
       "1                3063.0  2834000  0.3          40        CENTRAL   \n",
       "2                3167.0  1941000  0.3          40        CENTRAL   \n",
       "3                 401.0   237000  0.3          40        CENTRAL   \n",
       "4                4449.0  7794000  0.3          40  NORTH CENTRAL   \n",
       "\n",
       "   Ag District Code         Concatenated  \n",
       "0                50    CREEKOKLAHOMA2022  \n",
       "1                50    GRADYOKLAHOMA2022  \n",
       "2                50  MCCLAINOKLAHOMA2022  \n",
       "3                50    PAYNEOKLAHOMA2022  \n",
       "4                40    MAJOROKLAHOMA2022  "
      ]
     },
     "execution_count": 12,
     "metadata": {},
     "output_type": "execute_result"
    }
   ],
   "source": [
    "df.head()"
   ]
  },
  {
   "cell_type": "code",
   "execution_count": 13,
   "id": "e82aa04a-82eb-4566-bea4-12c39fdecdd4",
   "metadata": {},
   "outputs": [],
   "source": [
    "# create a mapping function for converting Plant Hardiness Zone to number for correlation\n",
    "def convert_alphanumeric(value):\n",
    "    # Extract the numeric part and the letter part\n",
    "    if pd.isna(value):\n",
    "        return None  # Handle NaN values\n",
    "    num_part = int(value[:-1])\n",
    "    letter_part = value[-1].lower()\n",
    "    \n",
    "    # Create a mapping for letters\n",
    "    letter_mapping = {'a': 0.1, 'b': 0.2}\n",
    "    \n",
    "    # Convert the value to a float\n",
    "    return num_part + letter_mapping.get(letter_part, 0)\n",
    "\n",
    "# converting to alphanumeric PHZ\n",
    "df['PHZ'] = df['PHZ'].apply(convert_alphanumeric)"
   ]
  },
  {
   "cell_type": "code",
   "execution_count": 14,
   "id": "878225e3-8f00-4e46-89d3-a72887f806d6",
   "metadata": {},
   "outputs": [
    {
     "data": {
      "text/html": [
       "<div>\n",
       "<style scoped>\n",
       "    .dataframe tbody tr th:only-of-type {\n",
       "        vertical-align: middle;\n",
       "    }\n",
       "\n",
       "    .dataframe tbody tr th {\n",
       "        vertical-align: top;\n",
       "    }\n",
       "\n",
       "    .dataframe thead th {\n",
       "        text-align: right;\n",
       "    }\n",
       "</style>\n",
       "<table border=\"1\" class=\"dataframe\">\n",
       "  <thead>\n",
       "    <tr style=\"text-align: right;\">\n",
       "      <th></th>\n",
       "      <th>Unnamed: 0</th>\n",
       "      <th>Year</th>\n",
       "      <th>County</th>\n",
       "      <th>State</th>\n",
       "      <th>Zip</th>\n",
       "      <th>Latitude</th>\n",
       "      <th>Longitude</th>\n",
       "      <th>PHZ</th>\n",
       "      <th>Corn Acres Harvested</th>\n",
       "      <th>Sales</th>\n",
       "      <th>CV</th>\n",
       "      <th>State ANSI</th>\n",
       "      <th>Ag District</th>\n",
       "      <th>Ag District Code</th>\n",
       "      <th>Concatenated</th>\n",
       "    </tr>\n",
       "  </thead>\n",
       "  <tbody>\n",
       "    <tr>\n",
       "      <th>0</th>\n",
       "      <td>0</td>\n",
       "      <td>2022</td>\n",
       "      <td>CREEK</td>\n",
       "      <td>OKLAHOMA</td>\n",
       "      <td>74010</td>\n",
       "      <td>35.83</td>\n",
       "      <td>-96.39</td>\n",
       "      <td>7.2</td>\n",
       "      <td>244.0</td>\n",
       "      <td>71000</td>\n",
       "      <td>0.3</td>\n",
       "      <td>40</td>\n",
       "      <td>CENTRAL</td>\n",
       "      <td>50</td>\n",
       "      <td>CREEKOKLAHOMA2022</td>\n",
       "    </tr>\n",
       "    <tr>\n",
       "      <th>1</th>\n",
       "      <td>1</td>\n",
       "      <td>2022</td>\n",
       "      <td>GRADY</td>\n",
       "      <td>OKLAHOMA</td>\n",
       "      <td>73002</td>\n",
       "      <td>34.92</td>\n",
       "      <td>-97.77</td>\n",
       "      <td>7.2</td>\n",
       "      <td>3063.0</td>\n",
       "      <td>2834000</td>\n",
       "      <td>0.3</td>\n",
       "      <td>40</td>\n",
       "      <td>CENTRAL</td>\n",
       "      <td>50</td>\n",
       "      <td>GRADYOKLAHOMA2022</td>\n",
       "    </tr>\n",
       "    <tr>\n",
       "      <th>2</th>\n",
       "      <td>2</td>\n",
       "      <td>2022</td>\n",
       "      <td>MCCLAIN</td>\n",
       "      <td>OKLAHOMA</td>\n",
       "      <td>73010</td>\n",
       "      <td>35.14</td>\n",
       "      <td>-97.65</td>\n",
       "      <td>7.2</td>\n",
       "      <td>3167.0</td>\n",
       "      <td>1941000</td>\n",
       "      <td>0.3</td>\n",
       "      <td>40</td>\n",
       "      <td>CENTRAL</td>\n",
       "      <td>50</td>\n",
       "      <td>MCCLAINOKLAHOMA2022</td>\n",
       "    </tr>\n",
       "    <tr>\n",
       "      <th>3</th>\n",
       "      <td>3</td>\n",
       "      <td>2022</td>\n",
       "      <td>PAYNE</td>\n",
       "      <td>OKLAHOMA</td>\n",
       "      <td>74023</td>\n",
       "      <td>35.97</td>\n",
       "      <td>-96.76</td>\n",
       "      <td>7.2</td>\n",
       "      <td>401.0</td>\n",
       "      <td>237000</td>\n",
       "      <td>0.3</td>\n",
       "      <td>40</td>\n",
       "      <td>CENTRAL</td>\n",
       "      <td>50</td>\n",
       "      <td>PAYNEOKLAHOMA2022</td>\n",
       "    </tr>\n",
       "    <tr>\n",
       "      <th>4</th>\n",
       "      <td>4</td>\n",
       "      <td>2022</td>\n",
       "      <td>MAJOR</td>\n",
       "      <td>OKLAHOMA</td>\n",
       "      <td>73718</td>\n",
       "      <td>36.24</td>\n",
       "      <td>-98.18</td>\n",
       "      <td>7.1</td>\n",
       "      <td>4449.0</td>\n",
       "      <td>7794000</td>\n",
       "      <td>0.3</td>\n",
       "      <td>40</td>\n",
       "      <td>NORTH CENTRAL</td>\n",
       "      <td>40</td>\n",
       "      <td>MAJOROKLAHOMA2022</td>\n",
       "    </tr>\n",
       "  </tbody>\n",
       "</table>\n",
       "</div>"
      ],
      "text/plain": [
       "   Unnamed: 0  Year   County     State    Zip  Latitude  Longitude  PHZ  \\\n",
       "0           0  2022    CREEK  OKLAHOMA  74010     35.83     -96.39  7.2   \n",
       "1           1  2022    GRADY  OKLAHOMA  73002     34.92     -97.77  7.2   \n",
       "2           2  2022  MCCLAIN  OKLAHOMA  73010     35.14     -97.65  7.2   \n",
       "3           3  2022    PAYNE  OKLAHOMA  74023     35.97     -96.76  7.2   \n",
       "4           4  2022    MAJOR  OKLAHOMA  73718     36.24     -98.18  7.1   \n",
       "\n",
       "   Corn Acres Harvested    Sales   CV  State ANSI    Ag District  \\\n",
       "0                 244.0    71000  0.3          40        CENTRAL   \n",
       "1                3063.0  2834000  0.3          40        CENTRAL   \n",
       "2                3167.0  1941000  0.3          40        CENTRAL   \n",
       "3                 401.0   237000  0.3          40        CENTRAL   \n",
       "4                4449.0  7794000  0.3          40  NORTH CENTRAL   \n",
       "\n",
       "   Ag District Code         Concatenated  \n",
       "0                50    CREEKOKLAHOMA2022  \n",
       "1                50    GRADYOKLAHOMA2022  \n",
       "2                50  MCCLAINOKLAHOMA2022  \n",
       "3                50    PAYNEOKLAHOMA2022  \n",
       "4                40    MAJOROKLAHOMA2022  "
      ]
     },
     "execution_count": 14,
     "metadata": {},
     "output_type": "execute_result"
    }
   ],
   "source": [
    "df.head(5)"
   ]
  },
  {
   "cell_type": "code",
   "execution_count": 15,
   "id": "4c666e19-2e5a-4577-87d2-ff225a623f69",
   "metadata": {},
   "outputs": [
    {
     "data": {
      "text/plain": [
       "(5064, 15)"
      ]
     },
     "execution_count": 15,
     "metadata": {},
     "output_type": "execute_result"
    }
   ],
   "source": [
    "df.shape"
   ]
  },
  {
   "cell_type": "code",
   "execution_count": 16,
   "id": "0d399328-51b0-4659-8208-5d644696170c",
   "metadata": {},
   "outputs": [
    {
     "data": {
      "text/plain": [
       "Unnamed: 0              0\n",
       "Year                    0\n",
       "County                  0\n",
       "State                   0\n",
       "Zip                     0\n",
       "Latitude                0\n",
       "Longitude               0\n",
       "PHZ                     0\n",
       "Corn Acres Harvested    0\n",
       "Sales                   0\n",
       "CV                      0\n",
       "State ANSI              0\n",
       "Ag District             0\n",
       "Ag District Code        0\n",
       "Concatenated            0\n",
       "dtype: int64"
      ]
     },
     "execution_count": 16,
     "metadata": {},
     "output_type": "execute_result"
    }
   ],
   "source": [
    "# check for missing\n",
    "\n",
    "df.isnull().sum()"
   ]
  },
  {
   "cell_type": "code",
   "execution_count": 17,
   "id": "a6640bb0-0431-4250-afff-1b21e6d9b743",
   "metadata": {},
   "outputs": [
    {
     "data": {
      "text/plain": [
       "(5064,)"
      ]
     },
     "execution_count": 17,
     "metadata": {},
     "output_type": "execute_result"
    }
   ],
   "source": [
    "# check for dups\n",
    "dups = df.duplicated()\n",
    "dups.shape"
   ]
  },
  {
   "cell_type": "code",
   "execution_count": 18,
   "id": "b6c0b903-4ad0-4b79-96f0-c8ceec718734",
   "metadata": {},
   "outputs": [
    {
     "name": "stderr",
     "output_type": "stream",
     "text": [
      "C:\\Users\\Noah\\AppData\\Local\\Temp\\ipykernel_26464\\299955813.py:1: UserWarning: \n",
      "\n",
      "`distplot` is a deprecated function and will be removed in seaborn v0.14.0.\n",
      "\n",
      "Please adapt your code to use either `displot` (a figure-level function with\n",
      "similar flexibility) or `histplot` (an axes-level function for histograms).\n",
      "\n",
      "For a guide to updating your code to use the new functions, please see\n",
      "https://gist.github.com/mwaskom/de44147ed2974457ad6372750bbe5751\n",
      "\n",
      "  sns.distplot(df['Corn Acres Harvested'], bins=25) # Shows extreme values\n"
     ]
    },
    {
     "data": {
      "text/plain": [
       "<Axes: xlabel='Corn Acres Harvested', ylabel='Density'>"
      ]
     },
     "execution_count": 18,
     "metadata": {},
     "output_type": "execute_result"
    },
    {
     "data": {
      "image/png": "[encoded data removed]",
      "text/plain": [
       "<Figure size 640x480 with 1 Axes>"
      ]
     },
     "metadata": {},
     "output_type": "display_data"
    }
   ],
   "source": [
    "sns.distplot(df['Corn Acres Harvested'], bins=25) # Shows extreme values\n"
   ]
  },
  {
   "cell_type": "markdown",
   "id": "00f2f54b-7f21-447e-a5da-9c682864e0ff",
   "metadata": {},
   "source": [
    "Extreme values are present. Since I am using them in the geographic analysis, I want to leave these values in the regression analysis too. Megafarms are a part of the landscape when it comes to crop production in the US"
   ]
  },
  {
   "cell_type": "code",
   "execution_count": 20,
   "id": "b5915049-8376-47b4-8cb3-be10da6c3641",
   "metadata": {},
   "outputs": [],
   "source": [
    "# also creating separate subsets for 2012 and 2022\n",
    "\n",
    "df_2012=df[df['Year'] == 2012]\n",
    "df_2022=df[df['Year'] == 2022]\n",
    "\n",
    "df_12 = df_2012[['Year','County','State','Zip','Latitude','Longitude','PHZ','Corn Acres Harvested','Sales','CV','State ANSI','Ag District','Ag District Code','Concatenated']]\n",
    "df_22 = df_2022[['Year','County','State','Zip','Latitude','Longitude','PHZ','Corn Acres Harvested','Sales','CV','State ANSI','Ag District','Ag District Code','Concatenated']]\n"
   ]
  },
  {
   "cell_type": "code",
   "execution_count": 21,
   "id": "0335052a-8a2f-4bfa-b6f0-227ed64c9115",
   "metadata": {},
   "outputs": [
    {
     "name": "stdout",
     "output_type": "stream",
     "text": [
      "      Year      County       State    Zip  Latitude  Longitude  PHZ  \\\n",
      "12    2012       UNION  NEW MEXICO  88410     35.91    -103.15  6.2   \n",
      "13    2012  RIO ARRIBA  NEW MEXICO  87012     36.11    -106.66  6.1   \n",
      "14    2012    SANDOVAL  NEW MEXICO  87001     35.38    -106.47  7.2   \n",
      "15    2012    SANTA FE  NEW MEXICO  87010     35.37    -106.14  7.1   \n",
      "16    2012        TAOS  NEW MEXICO  87512     36.94    -105.45  5.2   \n",
      "...    ...         ...         ...    ...       ...        ...  ...   \n",
      "4370  2012     COCHISE     ARIZONA  85602     32.19    -110.38  8.2   \n",
      "4371  2012      GRAHAM     ARIZONA  85530     33.07    -110.25  8.2   \n",
      "4372  2012    MARICOPA     ARIZONA  85001     33.45    -112.06  9.2   \n",
      "4373  2012       PINAL     ARIZONA  85117     33.42    -111.54  9.2   \n",
      "4374  2012        YUMA     ARIZONA  85333     32.94    -113.34  9.2   \n",
      "\n",
      "      Corn Acres Harvested     Sales    CV  State ANSI Ag District  \\\n",
      "12                  9824.0  12110000   2.5          35   NORTHEAST   \n",
      "13                   130.0     64000   2.5          35   NORTHWEST   \n",
      "14                    17.0         0   2.5          35   NORTHWEST   \n",
      "15                    17.0         0   2.5          35   NORTHWEST   \n",
      "16                    16.0      1000   2.5          35   NORTHWEST   \n",
      "...                    ...       ...   ...         ...         ...   \n",
      "4370               18776.0  27027000  45.5           4    SOUTHERN   \n",
      "4371                5570.0   9809000  45.5           4    SOUTHERN   \n",
      "4372                1374.0  14937000  45.5           4    SOUTHERN   \n",
      "4373                2983.0  21445000  45.5           4    SOUTHERN   \n",
      "4374                 295.0         0  45.5           4    SOUTHERN   \n",
      "\n",
      "      Ag District Code            Concatenated  \n",
      "12                  30      UNIONNEWMEXICO2012  \n",
      "13                  10  RIOARRIBANEWMEXICO2012  \n",
      "14                  10   SANDOVALNEWMEXICO2012  \n",
      "15                  10    SANTAFENEWMEXICO2012  \n",
      "16                  10       TAOSNEWMEXICO2012  \n",
      "...                ...                     ...  \n",
      "4370                80      COCHISEARIZONA2012  \n",
      "4371                80       GRAHAMARIZONA2012  \n",
      "4372                80     MARICOPAARIZONA2012  \n",
      "4373                80        PINALARIZONA2012  \n",
      "4374                80         YUMAARIZONA2012  \n",
      "\n",
      "[2296 rows x 14 columns]\n"
     ]
    }
   ],
   "source": [
    "print(df_12)"
   ]
  },
  {
   "cell_type": "code",
   "execution_count": 22,
   "id": "8ef863f1-b4c6-4058-b9d4-d632d9e0b56b",
   "metadata": {},
   "outputs": [
    {
     "name": "stdout",
     "output_type": "stream",
     "text": [
      "      Year    County          State    Zip  Latitude  Longitude  PHZ  \\\n",
      "0     2022     CREEK       OKLAHOMA  74010     35.83     -96.39  7.2   \n",
      "1     2022     GRADY       OKLAHOMA  73002     34.92     -97.77  7.2   \n",
      "2     2022   MCCLAIN       OKLAHOMA  73010     35.14     -97.65  7.2   \n",
      "3     2022     PAYNE       OKLAHOMA  74023     35.97     -96.76  7.2   \n",
      "4     2022     MAJOR       OKLAHOMA  73718     36.24     -98.18  7.1   \n",
      "...    ...       ...            ...    ...       ...        ...  ...   \n",
      "5059  2022   KANAWHA  WEST VIRGINIA  25015     38.23     -81.53  7.1   \n",
      "5060  2022   LINCOLN  WEST VIRGINIA  25003     38.28     -81.84  7.1   \n",
      "5061  2022   ASHLAND      WISCONSIN  54514     46.01     -90.49  4.1   \n",
      "5062  2022   NATRONA        WYOMING  82601     42.83    -106.32  5.1   \n",
      "5063  2022  NIOBRARA        WYOMING  82222     43.20    -104.65  4.2   \n",
      "\n",
      "      Corn Acres Harvested    Sales   CV  State ANSI    Ag District  \\\n",
      "0                    244.0    71000  0.3          40        CENTRAL   \n",
      "1                   3063.0  2834000  0.3          40        CENTRAL   \n",
      "2                   3167.0  1941000  0.3          40        CENTRAL   \n",
      "3                    401.0   237000  0.3          40        CENTRAL   \n",
      "4                   4449.0  7794000  0.3          40  NORTH CENTRAL   \n",
      "...                    ...      ...  ...         ...            ...   \n",
      "5059                   5.0     2000  0.0          54      SOUTHWEST   \n",
      "5060                   6.0     2000  0.0          54      SOUTHWEST   \n",
      "5061                1796.0   918000  0.0          55  NORTH CENTRAL   \n",
      "5062                 638.0  1536000  0.0          56  SOUTH CENTRAL   \n",
      "5063                1064.0  1758000  0.0          56      SOUTHEAST   \n",
      "\n",
      "      Ag District Code             Concatenated  \n",
      "0                   50        CREEKOKLAHOMA2022  \n",
      "1                   50        GRADYOKLAHOMA2022  \n",
      "2                   50      MCCLAINOKLAHOMA2022  \n",
      "3                   50        PAYNEOKLAHOMA2022  \n",
      "4                   40        MAJOROKLAHOMA2022  \n",
      "...                ...                      ...  \n",
      "5059                40  KANAWHAWESTVIRGINIA2022  \n",
      "5060                40  LINCOLNWESTVIRGINIA2022  \n",
      "5061                20     ASHLANDWISCONSIN2022  \n",
      "5062                40       NATRONAWYOMING2022  \n",
      "5063                50      NIOBRARAWYOMING2022  \n",
      "\n",
      "[2768 rows x 14 columns]\n"
     ]
    }
   ],
   "source": [
    "print(df_22)"
   ]
  },
  {
   "cell_type": "markdown",
   "id": "19c46a73-16dd-45c4-8a83-8ada7e043c1b",
   "metadata": {
    "jp-MarkdownHeadingCollapsed": true
   },
   "source": [
    "## 3 Data Analysis"
   ]
  },
  {
   "cell_type": "code",
   "execution_count": 24,
   "id": "5516dfca-ada8-4a67-8848-7e8ab73f53e8",
   "metadata": {},
   "outputs": [
    {
     "data": {
      "text/plain": [
       "35800.44952017648"
      ]
     },
     "execution_count": 24,
     "metadata": {},
     "output_type": "execute_result"
    }
   ],
   "source": [
    "df['Corn Acres Harvested'].mean() # Check the mean"
   ]
  },
  {
   "cell_type": "code",
   "execution_count": 25,
   "id": "bbdeee04-c25d-471f-9727-21ecde13de52",
   "metadata": {},
   "outputs": [
    {
     "data": {
      "text/plain": [
       "12834.0"
      ]
     },
     "execution_count": 25,
     "metadata": {},
     "output_type": "execute_result"
    }
   ],
   "source": [
    "df['Corn Acres Harvested'].median() # Check the median"
   ]
  },
  {
   "cell_type": "code",
   "execution_count": 26,
   "id": "561ed9f3-760f-49d5-8c0c-ef70792a38c3",
   "metadata": {},
   "outputs": [
    {
     "data": {
      "text/plain": [
       "3.0"
      ]
     },
     "execution_count": 26,
     "metadata": {},
     "output_type": "execute_result"
    }
   ],
   "source": [
    "df['Corn Acres Harvested'].min() # Check the min"
   ]
  },
  {
   "cell_type": "code",
   "execution_count": 27,
   "id": "2af269d4-2f78-4e96-a4e6-e4587ef056a8",
   "metadata": {},
   "outputs": [
    {
     "data": {
      "text/plain": [
       "353558.0"
      ]
     },
     "execution_count": 27,
     "metadata": {},
     "output_type": "execute_result"
    }
   ],
   "source": [
    "df['Corn Acres Harvested'].max() # Check the max"
   ]
  },
  {
   "cell_type": "code",
   "execution_count": 28,
   "id": "2fbb4797-e6c6-428d-a017-7dff9fe8a7ef",
   "metadata": {},
   "outputs": [
    {
     "data": {
      "text/plain": [
       "37858.099738675955"
      ]
     },
     "execution_count": 28,
     "metadata": {},
     "output_type": "execute_result"
    }
   ],
   "source": [
    "df_12['Corn Acres Harvested'].mean() # Check the mean 2012"
   ]
  },
  {
   "cell_type": "code",
   "execution_count": 29,
   "id": "d7d4476a-c31c-445f-bf62-bf57a831c4e3",
   "metadata": {},
   "outputs": [
    {
     "data": {
      "text/plain": [
       "34093.67029269281"
      ]
     },
     "execution_count": 29,
     "metadata": {},
     "output_type": "execute_result"
    }
   ],
   "source": [
    "df_22['Corn Acres Harvested'].mean() # Check the mean 2022"
   ]
  },
  {
   "cell_type": "markdown",
   "id": "ec4d7f39-8357-4856-ad0c-9b839a783a8f",
   "metadata": {},
   "source": [
    "#### mean is lower in 2022. Is less production due to climate change?"
   ]
  },
  {
   "cell_type": "code",
   "execution_count": 31,
   "id": "347cce7c-0bf8-4d1c-81dc-5f99866517d1",
   "metadata": {},
   "outputs": [
    {
     "data": {
      "text/plain": [
       "11018.0"
      ]
     },
     "execution_count": 31,
     "metadata": {},
     "output_type": "execute_result"
    }
   ],
   "source": [
    "df_12['Corn Acres Harvested'].median()"
   ]
  },
  {
   "cell_type": "code",
   "execution_count": 32,
   "id": "bfdba00e-1c8b-4d2f-ab7a-073a311d32f1",
   "metadata": {},
   "outputs": [
    {
     "data": {
      "text/plain": [
       "14234.5"
      ]
     },
     "execution_count": 32,
     "metadata": {},
     "output_type": "execute_result"
    }
   ],
   "source": [
    "df_22['Corn Acres Harvested'].median()"
   ]
  },
  {
   "cell_type": "markdown",
   "id": "0f368df5-4bc3-492a-afcb-617e39ec78ad",
   "metadata": {},
   "source": [
    "#### median in 2022 is higher... could mean more megafarms in 2012? more data points in 2022?"
   ]
  },
  {
   "cell_type": "code",
   "execution_count": 34,
   "id": "fcfd91e3-c6d6-41ab-b0f3-cba39a3486c5",
   "metadata": {},
   "outputs": [
    {
     "data": {
      "text/plain": [
       "353558.0"
      ]
     },
     "execution_count": 34,
     "metadata": {},
     "output_type": "execute_result"
    }
   ],
   "source": [
    "df_12['Corn Acres Harvested'].max()"
   ]
  },
  {
   "cell_type": "code",
   "execution_count": 35,
   "id": "f49e1abd-7c14-4415-b2ec-9e2b4936dc15",
   "metadata": {},
   "outputs": [
    {
     "data": {
      "text/plain": [
       "304340.0"
      ]
     },
     "execution_count": 35,
     "metadata": {},
     "output_type": "execute_result"
    }
   ],
   "source": [
    "df_22['Corn Acres Harvested'].max()"
   ]
  },
  {
   "cell_type": "markdown",
   "id": "cab9c3be-5538-4b74-a1ba-dfd730c73c52",
   "metadata": {},
   "source": [
    "#### lower max data in 2022 as well."
   ]
  },
  {
   "cell_type": "code",
   "execution_count": 37,
   "id": "d8ac3fd7-88d5-4068-87d6-81305d917f59",
   "metadata": {},
   "outputs": [
    {
     "data": {
      "image/png": "[encoded data removed]",
      "text/plain": [
       "<Figure size 640x480 with 1 Axes>"
      ]
     },
     "metadata": {},
     "output_type": "display_data"
    }
   ],
   "source": [
    "# Create a scatterplot using matplotlib for another look at how the chosen variables plot against each other.\n",
    "\n",
    "df.plot(x = 'Corn Acres Harvested', y='Sales',style='o') # The style option creates a scatterplot; without it, we only have lines.\n",
    "plt.title('Acres Hrvested to Sales')  \n",
    "plt.xlabel('Acres Harvested')  \n",
    "plt.ylabel('Sales')  \n",
    "plt.show()"
   ]
  },
  {
   "cell_type": "markdown",
   "id": "b86fcd04-7585-4ff9-8552-d5badf9d7e84",
   "metadata": {},
   "source": [
    "### the obvious hypothesis is that sales increase as more acres of corn are harvested..."
   ]
  },
  {
   "cell_type": "code",
   "execution_count": 39,
   "id": "bd3f050a-8028-4f91-9809-320d8555565e",
   "metadata": {},
   "outputs": [
    {
     "data": {
      "image/png": "[encoded data removed]",
      "text/plain": [
       "<Figure size 640x480 with 1 Axes>"
      ]
     },
     "metadata": {},
     "output_type": "display_data"
    }
   ],
   "source": [
    "df.plot(x = 'PHZ', y='Sales',style='o') # The style option creates a scatterplot; without it, we only have lines.\n",
    "plt.title('PHZ Sales')  \n",
    "plt.xlabel('PHZ')  \n",
    "plt.ylabel('Sales ($)')  \n",
    "plt.show()"
   ]
  },
  {
   "cell_type": "markdown",
   "id": "bbdaab62-73e9-482f-9228-2cae94c0c889",
   "metadata": {},
   "source": [
    "### I hypothesize that there are ideal regions for growing and that the further south (increasing PHZ) the worse crop sales become."
   ]
  },
  {
   "cell_type": "code",
   "execution_count": null,
   "id": "8861e7fd-8654-4173-8b69-a8078770e39c",
   "metadata": {},
   "outputs": [],
   "source": []
  },
  {
   "cell_type": "code",
   "execution_count": 41,
   "id": "5fe2440d-9bbd-4de7-923b-8c230e99c92e",
   "metadata": {},
   "outputs": [],
   "source": [
    "# Reshape the variables into NumPy arrays and put them into separate objects.\n",
    "\n",
    "X = df['Corn Acres Harvested'].values.reshape(-1,1)\n",
    "y = df['Sales'].values.reshape(-1,1)"
   ]
  },
  {
   "cell_type": "code",
   "execution_count": 42,
   "id": "0e607000-7c7f-4807-af6e-eea119a500e2",
   "metadata": {},
   "outputs": [
    {
     "data": {
      "text/plain": [
       "array([[ 244.],\n",
       "       [3063.],\n",
       "       [3167.],\n",
       "       ...,\n",
       "       [1796.],\n",
       "       [ 638.],\n",
       "       [1064.]])"
      ]
     },
     "execution_count": 42,
     "metadata": {},
     "output_type": "execute_result"
    }
   ],
   "source": [
    "X"
   ]
  },
  {
   "cell_type": "code",
   "execution_count": 43,
   "id": "8751650a-1348-497f-b313-29b7bd3a008b",
   "metadata": {},
   "outputs": [
    {
     "data": {
      "text/plain": [
       "array([[  71000],\n",
       "       [2834000],\n",
       "       [1941000],\n",
       "       ...,\n",
       "       [ 918000],\n",
       "       [1536000],\n",
       "       [1758000]], dtype=int64)"
      ]
     },
     "execution_count": 43,
     "metadata": {},
     "output_type": "execute_result"
    }
   ],
   "source": [
    "y"
   ]
  },
  {
   "cell_type": "code",
   "execution_count": 44,
   "id": "dbd6c797-d5ae-4418-b7d0-fbf588b5f4cc",
   "metadata": {},
   "outputs": [
    {
     "data": {
      "text/plain": [
       "(5064, 1)"
      ]
     },
     "execution_count": 44,
     "metadata": {},
     "output_type": "execute_result"
    }
   ],
   "source": [
    "X.shape"
   ]
  },
  {
   "cell_type": "code",
   "execution_count": 45,
   "id": "6da4a2f5-d323-45dc-b25b-220b6367366d",
   "metadata": {},
   "outputs": [
    {
     "data": {
      "text/plain": [
       "(5064, 1)"
      ]
     },
     "execution_count": 45,
     "metadata": {},
     "output_type": "execute_result"
    }
   ],
   "source": [
    "y.shape"
   ]
  },
  {
   "cell_type": "code",
   "execution_count": 46,
   "id": "a4a5fb7d-6258-4817-b7d9-c0f1b3cd3ff9",
   "metadata": {},
   "outputs": [],
   "source": [
    "# Split data into a training set and a test set.\n",
    "\n",
    "X_train, X_test, y_train, y_test = train_test_split(X, y, test_size=0.3, random_state=0)"
   ]
  },
  {
   "cell_type": "markdown",
   "id": "10b9a2eb-3994-4103-bf77-35af7db59518",
   "metadata": {
    "jp-MarkdownHeadingCollapsed": true
   },
   "source": [
    "## 4. Regression Analysis"
   ]
  },
  {
   "cell_type": "markdown",
   "id": "35d54121-9268-4010-b478-f3c5b560f60e",
   "metadata": {},
   "source": [
    "#### creating a regression model with Sales and Corn Acres Harvested Data"
   ]
  },
  {
   "cell_type": "code",
   "execution_count": 49,
   "id": "2f71011d-9e35-4c1e-9124-47541ff0c513",
   "metadata": {},
   "outputs": [],
   "source": [
    "# Create a regression object.\n",
    "\n",
    "regression = LinearRegression()  #  will be fit onto the training set."
   ]
  },
  {
   "cell_type": "code",
   "execution_count": 50,
   "id": "3ecfa30f-992f-427d-ad99-8fb85296ed1d",
   "metadata": {},
   "outputs": [
    {
     "data": {
      "text/html": [
       "<style>#sk-container-id-1 {color: black;background-color: white;}#sk-container-id-1 pre{padding: 0;}#sk-container-id-1 div.sk-toggleable {background-color: white;}#sk-container-id-1 label.sk-toggleable__label {cursor: pointer;display: block;width: 100%;margin-bottom: 0;padding: 0.3em;box-sizing: border-box;text-align: center;}#sk-container-id-1 label.sk-toggleable__label-arrow:before {content: \"▸\";float: left;margin-right: 0.25em;color: #696969;}#sk-container-id-1 label.sk-toggleable__label-arrow:hover:before {color: black;}#sk-container-id-1 div.sk-estimator:hover label.sk-toggleable__label-arrow:before {color: black;}#sk-container-id-1 div.sk-toggleable__content {max-height: 0;max-width: 0;overflow: hidden;text-align: left;background-color: #f0f8ff;}#sk-container-id-1 div.sk-toggleable__content pre {margin: 0.2em;color: black;border-radius: 0.25em;background-color: #f0f8ff;}#sk-container-id-1 input.sk-toggleable__control:checked~div.sk-toggleable__content {max-height: 200px;max-width: 100%;overflow: auto;}#sk-container-id-1 input.sk-toggleable__control:checked~label.sk-toggleable__label-arrow:before {content: \"▾\";}#sk-container-id-1 div.sk-estimator input.sk-toggleable__control:checked~label.sk-toggleable__label {background-color: #d4ebff;}#sk-container-id-1 div.sk-label input.sk-toggleable__control:checked~label.sk-toggleable__label {background-color: #d4ebff;}#sk-container-id-1 input.sk-hidden--visually {border: 0;clip: rect(1px 1px 1px 1px);clip: rect(1px, 1px, 1px, 1px);height: 1px;margin: -1px;overflow: hidden;padding: 0;position: absolute;width: 1px;}#sk-container-id-1 div.sk-estimator {font-family: monospace;background-color: #f0f8ff;border: 1px dotted black;border-radius: 0.25em;box-sizing: border-box;margin-bottom: 0.5em;}#sk-container-id-1 div.sk-estimator:hover {background-color: #d4ebff;}#sk-container-id-1 div.sk-parallel-item::after {content: \"\";width: 100%;border-bottom: 1px solid gray;flex-grow: 1;}#sk-container-id-1 div.sk-label:hover label.sk-toggleable__label {background-color: #d4ebff;}#sk-container-id-1 div.sk-serial::before {content: \"\";position: absolute;border-left: 1px solid gray;box-sizing: border-box;top: 0;bottom: 0;left: 50%;z-index: 0;}#sk-container-id-1 div.sk-serial {display: flex;flex-direction: column;align-items: center;background-color: white;padding-right: 0.2em;padding-left: 0.2em;position: relative;}#sk-container-id-1 div.sk-item {position: relative;z-index: 1;}#sk-container-id-1 div.sk-parallel {display: flex;align-items: stretch;justify-content: center;background-color: white;position: relative;}#sk-container-id-1 div.sk-item::before, #sk-container-id-1 div.sk-parallel-item::before {content: \"\";position: absolute;border-left: 1px solid gray;box-sizing: border-box;top: 0;bottom: 0;left: 50%;z-index: -1;}#sk-container-id-1 div.sk-parallel-item {display: flex;flex-direction: column;z-index: 1;position: relative;background-color: white;}#sk-container-id-1 div.sk-parallel-item:first-child::after {align-self: flex-end;width: 50%;}#sk-container-id-1 div.sk-parallel-item:last-child::after {align-self: flex-start;width: 50%;}#sk-container-id-1 div.sk-parallel-item:only-child::after {width: 0;}#sk-container-id-1 div.sk-dashed-wrapped {border: 1px dashed gray;margin: 0 0.4em 0.5em 0.4em;box-sizing: border-box;padding-bottom: 0.4em;background-color: white;}#sk-container-id-1 div.sk-label label {font-family: monospace;font-weight: bold;display: inline-block;line-height: 1.2em;}#sk-container-id-1 div.sk-label-container {text-align: center;}#sk-container-id-1 div.sk-container {/* jupyter's `normalize.less` sets `[hidden] { display: none; }` but bootstrap.min.css set `[hidden] { display: none !important; }` so we also need the `!important` here to be able to override the default hidden behavior on the sphinx rendered scikit-learn.org. See: https://github.com/scikit-learn/scikit-learn/issues/21755 */display: inline-block !important;position: relative;}#sk-container-id-1 div.sk-text-repr-fallback {display: none;}</style><div id=\"sk-container-id-1\" class=\"sk-top-container\"><div class=\"sk-text-repr-fallback\"><pre>LinearRegression()</pre><b>In a Jupyter environment, please rerun this cell to show the HTML representation or trust the notebook. <br />On GitHub, the HTML representation is unable to render, please try loading this page with nbviewer.org.</b></div><div class=\"sk-container\" hidden><div class=\"sk-item\"><div class=\"sk-estimator sk-toggleable\"><input class=\"sk-toggleable__control sk-hidden--visually\" id=\"sk-estimator-id-1\" type=\"checkbox\" checked><label for=\"sk-estimator-id-1\" class=\"sk-toggleable__label sk-toggleable__label-arrow\">LinearRegression</label><div class=\"sk-toggleable__content\"><pre>LinearRegression()</pre></div></div></div></div></div>"
      ],
      "text/plain": [
       "LinearRegression()"
      ]
     },
     "execution_count": 50,
     "metadata": {},
     "output_type": "execute_result"
    }
   ],
   "source": [
    "# Fit the regression object onto the training set.\n",
    "\n",
    "regression.fit(X_train, y_train)"
   ]
  },
  {
   "cell_type": "code",
   "execution_count": 51,
   "id": "a7e837e4-7189-462f-a830-c4a999269ebb",
   "metadata": {},
   "outputs": [],
   "source": [
    "# Predict the values of y using X.\n",
    "\n",
    "y_predicted = regression.predict(X_test)"
   ]
  },
  {
   "cell_type": "code",
   "execution_count": 52,
   "id": "337aadaf-26cb-4a8e-a4a1-8049d70a857b",
   "metadata": {},
   "outputs": [
    {
     "data": {
      "image/png": "[encoded data removed]",
      "text/plain": [
       "<Figure size 640x480 with 1 Axes>"
      ]
     },
     "metadata": {},
     "output_type": "display_data"
    }
   ],
   "source": [
    "# Create a plot that shows the regression line from the model on the test set.\n",
    "\n",
    "plot_test = plt\n",
    "plot_test.scatter(X_test, y_test, color='gray', s = 15)\n",
    "plot_test.plot(X_test, y_predicted, color='red', linewidth =3)\n",
    "plot_test.title('Predicting Sales Using Acres Harvested')\n",
    "plot_test.xlabel('Corn Acres Harvested')\n",
    "plot_test.ylabel('Sales')\n",
    "plot_test.show()"
   ]
  },
  {
   "cell_type": "code",
   "execution_count": 53,
   "id": "04db6c5b-cd3e-40bf-a9f1-28b3872237bc",
   "metadata": {},
   "outputs": [],
   "source": [
    "# Create objects that contain the model summary statistics.\n",
    "\n",
    "rmse = mean_squared_error(y_test, y_predicted) # This is the mean squared error\n",
    "r2 = r2_score(y_test, y_predicted) # This is the R2 score."
   ]
  },
  {
   "cell_type": "code",
   "execution_count": 54,
   "id": "5beb430b-8750-4e17-aec2-01a3526eeeb5",
   "metadata": {},
   "outputs": [
    {
     "name": "stdout",
     "output_type": "stream",
     "text": [
      "Slope: [[958.81908497]]\n",
      "Mean squared error:  387274836278982.1\n",
      "R2 score:  0.8560645512766707\n"
     ]
    }
   ],
   "source": [
    "# Print the model summary statistics. This is where you evaluate the performance of the model.\n",
    "\n",
    "print('Slope:' ,regression.coef_)\n",
    "print('Mean squared error: ', rmse)\n",
    "print('R2 score: ', r2)"
   ]
  },
  {
   "cell_type": "markdown",
   "id": "4626cab3-9872-4946-a005-655b5ee14f69",
   "metadata": {},
   "source": [
    "### absolutely massive MSE... maybe including extremes not a good idea as it skews the prediction?"
   ]
  },
  {
   "cell_type": "markdown",
   "id": "76a026ab-5e5c-4b98-bd43-8f9d7b1edf9d",
   "metadata": {
    "jp-MarkdownHeadingCollapsed": true
   },
   "source": [
    "## 5 Outlier Removal"
   ]
  },
  {
   "cell_type": "code",
   "execution_count": 57,
   "id": "bc558e33-ce14-4d03-b5f0-1b0838ac2598",
   "metadata": {},
   "outputs": [
    {
     "name": "stdout",
     "output_type": "stream",
     "text": [
      "0       0.702705\n",
      "1       0.646993\n",
      "2       0.644938\n",
      "3       0.699603\n",
      "4       0.619602\n",
      "          ...   \n",
      "5059    0.707429\n",
      "5060    0.707409\n",
      "5061    0.672033\n",
      "5062    0.694919\n",
      "5063    0.686500\n",
      "Name: Corn Acres Harvested, Length: 5064, dtype: float64\n"
     ]
    }
   ],
   "source": [
    "# importing library for z-score to find outliers\n",
    "from scipy import stats\n",
    "z = np.abs(stats.zscore(df['Corn Acres Harvested']))\n",
    "print(z)"
   ]
  },
  {
   "cell_type": "code",
   "execution_count": 58,
   "id": "21f77150-97d8-41f3-9308-fc5ff2a42015",
   "metadata": {},
   "outputs": [
    {
     "name": "stdout",
     "output_type": "stream",
     "text": [
      "Original DataFrame Shape: (5064, 15)\n",
      "DataFrame Shape after Removing Outliers: (4748, 15)\n"
     ]
    }
   ],
   "source": [
    "# zcore greater than two is outlier\n",
    "threshold_z = 2\n",
    " # creating no outlier df\n",
    "outlier_indices = np.where(z > threshold_z)[0]\n",
    "no_outliers = df.drop(outlier_indices)\n",
    "print(\"Original DataFrame Shape:\", df.shape)\n",
    "print(\"DataFrame Shape after Removing Outliers:\", no_outliers.shape)"
   ]
  },
  {
   "cell_type": "code",
   "execution_count": 59,
   "id": "a0dc2554-8aba-4390-ad9e-e6efdafca1c0",
   "metadata": {},
   "outputs": [
    {
     "name": "stdout",
     "output_type": "stream",
     "text": [
      "      Unnamed: 0  Year    County          State    Zip  Latitude  Longitude  \\\n",
      "0              0  2022     CREEK       OKLAHOMA  74010     35.83     -96.39   \n",
      "1              1  2022     GRADY       OKLAHOMA  73002     34.92     -97.77   \n",
      "2              2  2022   MCCLAIN       OKLAHOMA  73010     35.14     -97.65   \n",
      "3              3  2022     PAYNE       OKLAHOMA  74023     35.97     -96.76   \n",
      "4              4  2022     MAJOR       OKLAHOMA  73718     36.24     -98.18   \n",
      "...          ...   ...       ...            ...    ...       ...        ...   \n",
      "5059        5293  2022   KANAWHA  WEST VIRGINIA  25015     38.23     -81.53   \n",
      "5060        5294  2022   LINCOLN  WEST VIRGINIA  25003     38.28     -81.84   \n",
      "5061        5295  2022   ASHLAND      WISCONSIN  54514     46.01     -90.49   \n",
      "5062        5296  2022   NATRONA        WYOMING  82601     42.83    -106.32   \n",
      "5063        5297  2022  NIOBRARA        WYOMING  82222     43.20    -104.65   \n",
      "\n",
      "      PHZ  Corn Acres Harvested    Sales   CV  State ANSI    Ag District  \\\n",
      "0     7.2                 244.0    71000  0.3          40        CENTRAL   \n",
      "1     7.2                3063.0  2834000  0.3          40        CENTRAL   \n",
      "2     7.2                3167.0  1941000  0.3          40        CENTRAL   \n",
      "3     7.2                 401.0   237000  0.3          40        CENTRAL   \n",
      "4     7.1                4449.0  7794000  0.3          40  NORTH CENTRAL   \n",
      "...   ...                   ...      ...  ...         ...            ...   \n",
      "5059  7.1                   5.0     2000  0.0          54      SOUTHWEST   \n",
      "5060  7.1                   6.0     2000  0.0          54      SOUTHWEST   \n",
      "5061  4.1                1796.0   918000  0.0          55  NORTH CENTRAL   \n",
      "5062  5.1                 638.0  1536000  0.0          56  SOUTH CENTRAL   \n",
      "5063  4.2                1064.0  1758000  0.0          56      SOUTHEAST   \n",
      "\n",
      "      Ag District Code             Concatenated  \n",
      "0                   50        CREEKOKLAHOMA2022  \n",
      "1                   50        GRADYOKLAHOMA2022  \n",
      "2                   50      MCCLAINOKLAHOMA2022  \n",
      "3                   50        PAYNEOKLAHOMA2022  \n",
      "4                   40        MAJOROKLAHOMA2022  \n",
      "...                ...                      ...  \n",
      "5059                40  KANAWHAWESTVIRGINIA2022  \n",
      "5060                40  LINCOLNWESTVIRGINIA2022  \n",
      "5061                20     ASHLANDWISCONSIN2022  \n",
      "5062                40       NATRONAWYOMING2022  \n",
      "5063                50      NIOBRARAWYOMING2022  \n",
      "\n",
      "[4748 rows x 15 columns]\n"
     ]
    }
   ],
   "source": [
    "print(no_outliers)"
   ]
  },
  {
   "cell_type": "markdown",
   "id": "754f6640-ceec-455a-9322-db6867c69007",
   "metadata": {},
   "source": [
    "#### outliers found, now to regression testing"
   ]
  },
  {
   "cell_type": "markdown",
   "id": "31f90ce0-6288-4449-be03-24b84c25de2d",
   "metadata": {
    "jp-MarkdownHeadingCollapsed": true
   },
   "source": [
    "## 6 Retesting with Outliers Removed"
   ]
  },
  {
   "cell_type": "code",
   "execution_count": 62,
   "id": "86fd1b6b-5d3f-4db1-b897-32748da3590b",
   "metadata": {},
   "outputs": [],
   "source": [
    "# Reshape the variables into NumPy arrays and put them into separate objects.\n",
    "\n",
    "Xout = no_outliers['Corn Acres Harvested'].values.reshape(-1,1)\n",
    "yout = no_outliers['Sales'].values.reshape(-1,1)"
   ]
  },
  {
   "cell_type": "code",
   "execution_count": 63,
   "id": "b9b584bf-6c47-4f42-aab1-16d01793a836",
   "metadata": {},
   "outputs": [],
   "source": [
    "# Split data into a training set and a test set.\n",
    "\n",
    "Xout_train, Xout_test, yout_train, yout_test = train_test_split(Xout, yout, test_size=0.3, random_state=0)"
   ]
  },
  {
   "cell_type": "code",
   "execution_count": 64,
   "id": "7e599baf-3858-4477-a170-cd2036586821",
   "metadata": {},
   "outputs": [
    {
     "data": {
      "text/html": [
       "<style>#sk-container-id-2 {color: black;background-color: white;}#sk-container-id-2 pre{padding: 0;}#sk-container-id-2 div.sk-toggleable {background-color: white;}#sk-container-id-2 label.sk-toggleable__label {cursor: pointer;display: block;width: 100%;margin-bottom: 0;padding: 0.3em;box-sizing: border-box;text-align: center;}#sk-container-id-2 label.sk-toggleable__label-arrow:before {content: \"▸\";float: left;margin-right: 0.25em;color: #696969;}#sk-container-id-2 label.sk-toggleable__label-arrow:hover:before {color: black;}#sk-container-id-2 div.sk-estimator:hover label.sk-toggleable__label-arrow:before {color: black;}#sk-container-id-2 div.sk-toggleable__content {max-height: 0;max-width: 0;overflow: hidden;text-align: left;background-color: #f0f8ff;}#sk-container-id-2 div.sk-toggleable__content pre {margin: 0.2em;color: black;border-radius: 0.25em;background-color: #f0f8ff;}#sk-container-id-2 input.sk-toggleable__control:checked~div.sk-toggleable__content {max-height: 200px;max-width: 100%;overflow: auto;}#sk-container-id-2 input.sk-toggleable__control:checked~label.sk-toggleable__label-arrow:before {content: \"▾\";}#sk-container-id-2 div.sk-estimator input.sk-toggleable__control:checked~label.sk-toggleable__label {background-color: #d4ebff;}#sk-container-id-2 div.sk-label input.sk-toggleable__control:checked~label.sk-toggleable__label {background-color: #d4ebff;}#sk-container-id-2 input.sk-hidden--visually {border: 0;clip: rect(1px 1px 1px 1px);clip: rect(1px, 1px, 1px, 1px);height: 1px;margin: -1px;overflow: hidden;padding: 0;position: absolute;width: 1px;}#sk-container-id-2 div.sk-estimator {font-family: monospace;background-color: #f0f8ff;border: 1px dotted black;border-radius: 0.25em;box-sizing: border-box;margin-bottom: 0.5em;}#sk-container-id-2 div.sk-estimator:hover {background-color: #d4ebff;}#sk-container-id-2 div.sk-parallel-item::after {content: \"\";width: 100%;border-bottom: 1px solid gray;flex-grow: 1;}#sk-container-id-2 div.sk-label:hover label.sk-toggleable__label {background-color: #d4ebff;}#sk-container-id-2 div.sk-serial::before {content: \"\";position: absolute;border-left: 1px solid gray;box-sizing: border-box;top: 0;bottom: 0;left: 50%;z-index: 0;}#sk-container-id-2 div.sk-serial {display: flex;flex-direction: column;align-items: center;background-color: white;padding-right: 0.2em;padding-left: 0.2em;position: relative;}#sk-container-id-2 div.sk-item {position: relative;z-index: 1;}#sk-container-id-2 div.sk-parallel {display: flex;align-items: stretch;justify-content: center;background-color: white;position: relative;}#sk-container-id-2 div.sk-item::before, #sk-container-id-2 div.sk-parallel-item::before {content: \"\";position: absolute;border-left: 1px solid gray;box-sizing: border-box;top: 0;bottom: 0;left: 50%;z-index: -1;}#sk-container-id-2 div.sk-parallel-item {display: flex;flex-direction: column;z-index: 1;position: relative;background-color: white;}#sk-container-id-2 div.sk-parallel-item:first-child::after {align-self: flex-end;width: 50%;}#sk-container-id-2 div.sk-parallel-item:last-child::after {align-self: flex-start;width: 50%;}#sk-container-id-2 div.sk-parallel-item:only-child::after {width: 0;}#sk-container-id-2 div.sk-dashed-wrapped {border: 1px dashed gray;margin: 0 0.4em 0.5em 0.4em;box-sizing: border-box;padding-bottom: 0.4em;background-color: white;}#sk-container-id-2 div.sk-label label {font-family: monospace;font-weight: bold;display: inline-block;line-height: 1.2em;}#sk-container-id-2 div.sk-label-container {text-align: center;}#sk-container-id-2 div.sk-container {/* jupyter's `normalize.less` sets `[hidden] { display: none; }` but bootstrap.min.css set `[hidden] { display: none !important; }` so we also need the `!important` here to be able to override the default hidden behavior on the sphinx rendered scikit-learn.org. See: https://github.com/scikit-learn/scikit-learn/issues/21755 */display: inline-block !important;position: relative;}#sk-container-id-2 div.sk-text-repr-fallback {display: none;}</style><div id=\"sk-container-id-2\" class=\"sk-top-container\"><div class=\"sk-text-repr-fallback\"><pre>LinearRegression()</pre><b>In a Jupyter environment, please rerun this cell to show the HTML representation or trust the notebook. <br />On GitHub, the HTML representation is unable to render, please try loading this page with nbviewer.org.</b></div><div class=\"sk-container\" hidden><div class=\"sk-item\"><div class=\"sk-estimator sk-toggleable\"><input class=\"sk-toggleable__control sk-hidden--visually\" id=\"sk-estimator-id-2\" type=\"checkbox\" checked><label for=\"sk-estimator-id-2\" class=\"sk-toggleable__label sk-toggleable__label-arrow\">LinearRegression</label><div class=\"sk-toggleable__content\"><pre>LinearRegression()</pre></div></div></div></div></div>"
      ],
      "text/plain": [
       "LinearRegression()"
      ]
     },
     "execution_count": 64,
     "metadata": {},
     "output_type": "execute_result"
    }
   ],
   "source": [
    "regression.fit(Xout_train,yout_train)"
   ]
  },
  {
   "cell_type": "code",
   "execution_count": 65,
   "id": "102a4384-7b76-4b65-9183-02c13ddd07b7",
   "metadata": {},
   "outputs": [],
   "source": [
    "# Predict the values of y using X.\n",
    "\n",
    "yout_predicted = regression.predict(Xout_test)"
   ]
  },
  {
   "cell_type": "code",
   "execution_count": 66,
   "id": "1d0cf660-769b-4e10-b5aa-be1634b54d73",
   "metadata": {},
   "outputs": [
    {
     "data": {
      "image/png": "[encoded data removed]",
      "text/plain": [
       "<Figure size 640x480 with 1 Axes>"
      ]
     },
     "metadata": {},
     "output_type": "display_data"
    }
   ],
   "source": [
    "# Create a plot that shows the regression line from the model on the test set.\n",
    "\n",
    "plot_testOut = plt\n",
    "plot_testOut.scatter(Xout_test, yout_test, color='gray', s = 15)\n",
    "plot_testOut.plot(Xout_test, yout_predicted, color='red', linewidth =3)\n",
    "plot_testOut.title('Acres to Sales Test Set, No Outliers')\n",
    "plot_testOut.xlabel('Corn Acres Harvested')\n",
    "plot_testOut.ylabel('Sales')\n",
    "plot_testOut.show()"
   ]
  },
  {
   "cell_type": "code",
   "execution_count": 67,
   "id": "b5f0df2c-7159-4d72-8ed8-dca7bc8f0f3a",
   "metadata": {},
   "outputs": [],
   "source": [
    "# Create objects that contain the model summary statistics.\n",
    "\n",
    "rmseout = mean_squared_error(yout_test, yout_predicted) # This is the mean squared error without outliers\n",
    "r2out = r2_score(yout_test, yout_predicted) # This is the R2 score without outliers"
   ]
  },
  {
   "cell_type": "code",
   "execution_count": 68,
   "id": "1fda4882-6ebc-45ca-aeed-2073e9391344",
   "metadata": {},
   "outputs": [
    {
     "name": "stdout",
     "output_type": "stream",
     "text": [
      "Slope: [[843.22547896]]\n",
      "Mean squared error:  229628256344671.94\n",
      "R2 score:  0.7606497064860795\n"
     ]
    }
   ],
   "source": [
    "# Print the model summary statistics.\n",
    "\n",
    "print('Slope:' ,regression.coef_)\n",
    "print('Mean squared error: ', rmseout)\n",
    "print('R2 score: ', r2out)"
   ]
  },
  {
   "cell_type": "code",
   "execution_count": 69,
   "id": "61efabe5-699e-47c1-838a-0909cbb7c65d",
   "metadata": {},
   "outputs": [
    {
     "data": {
      "text/plain": [
       "array([[-1685074.07778435],\n",
       "       [33970715.29989046],\n",
       "       [  670897.91042006],\n",
       "       ...,\n",
       "       [  390103.82592755],\n",
       "       [-1361275.49386506],\n",
       "       [ 6350021.51119196]])"
      ]
     },
     "execution_count": 69,
     "metadata": {},
     "output_type": "execute_result"
    }
   ],
   "source": [
    "yout_predicted"
   ]
  },
  {
   "cell_type": "code",
   "execution_count": 70,
   "id": "fc7a5cb5-85a7-4960-b28c-adc6ddff7e4a",
   "metadata": {},
   "outputs": [
    {
     "data": {
      "text/html": [
       "<div>\n",
       "<style scoped>\n",
       "    .dataframe tbody tr th:only-of-type {\n",
       "        vertical-align: middle;\n",
       "    }\n",
       "\n",
       "    .dataframe tbody tr th {\n",
       "        vertical-align: top;\n",
       "    }\n",
       "\n",
       "    .dataframe thead th {\n",
       "        text-align: right;\n",
       "    }\n",
       "</style>\n",
       "<table border=\"1\" class=\"dataframe\">\n",
       "  <thead>\n",
       "    <tr style=\"text-align: right;\">\n",
       "      <th></th>\n",
       "      <th>Actual</th>\n",
       "      <th>Predicted</th>\n",
       "    </tr>\n",
       "  </thead>\n",
       "  <tbody>\n",
       "    <tr>\n",
       "      <th>0</th>\n",
       "      <td>35000</td>\n",
       "      <td>-1.685074e+06</td>\n",
       "    </tr>\n",
       "    <tr>\n",
       "      <th>1</th>\n",
       "      <td>50802000</td>\n",
       "      <td>3.397072e+07</td>\n",
       "    </tr>\n",
       "    <tr>\n",
       "      <th>2</th>\n",
       "      <td>853000</td>\n",
       "      <td>6.708979e+05</td>\n",
       "    </tr>\n",
       "    <tr>\n",
       "      <th>3</th>\n",
       "      <td>94298000</td>\n",
       "      <td>7.117551e+07</td>\n",
       "    </tr>\n",
       "    <tr>\n",
       "      <th>4</th>\n",
       "      <td>31797000</td>\n",
       "      <td>2.926046e+07</td>\n",
       "    </tr>\n",
       "    <tr>\n",
       "      <th>5</th>\n",
       "      <td>50754000</td>\n",
       "      <td>4.980986e+07</td>\n",
       "    </tr>\n",
       "    <tr>\n",
       "      <th>6</th>\n",
       "      <td>4474000</td>\n",
       "      <td>9.117488e+06</td>\n",
       "    </tr>\n",
       "    <tr>\n",
       "      <th>7</th>\n",
       "      <td>86010000</td>\n",
       "      <td>7.451215e+07</td>\n",
       "    </tr>\n",
       "    <tr>\n",
       "      <th>8</th>\n",
       "      <td>262000</td>\n",
       "      <td>-1.294661e+06</td>\n",
       "    </tr>\n",
       "    <tr>\n",
       "      <th>9</th>\n",
       "      <td>619000</td>\n",
       "      <td>-1.032418e+06</td>\n",
       "    </tr>\n",
       "    <tr>\n",
       "      <th>10</th>\n",
       "      <td>132000</td>\n",
       "      <td>-1.534137e+06</td>\n",
       "    </tr>\n",
       "    <tr>\n",
       "      <th>11</th>\n",
       "      <td>92525000</td>\n",
       "      <td>5.963007e+07</td>\n",
       "    </tr>\n",
       "    <tr>\n",
       "      <th>12</th>\n",
       "      <td>1663000</td>\n",
       "      <td>2.341071e+05</td>\n",
       "    </tr>\n",
       "    <tr>\n",
       "      <th>13</th>\n",
       "      <td>41538000</td>\n",
       "      <td>3.577522e+07</td>\n",
       "    </tr>\n",
       "    <tr>\n",
       "      <th>14</th>\n",
       "      <td>3358000</td>\n",
       "      <td>4.504201e+06</td>\n",
       "    </tr>\n",
       "    <tr>\n",
       "      <th>15</th>\n",
       "      <td>11316000</td>\n",
       "      <td>1.756492e+07</td>\n",
       "    </tr>\n",
       "    <tr>\n",
       "      <th>16</th>\n",
       "      <td>20205000</td>\n",
       "      <td>4.745811e+07</td>\n",
       "    </tr>\n",
       "    <tr>\n",
       "      <th>17</th>\n",
       "      <td>73422000</td>\n",
       "      <td>8.343938e+07</td>\n",
       "    </tr>\n",
       "    <tr>\n",
       "      <th>18</th>\n",
       "      <td>859000</td>\n",
       "      <td>1.436547e+06</td>\n",
       "    </tr>\n",
       "    <tr>\n",
       "      <th>19</th>\n",
       "      <td>16044000</td>\n",
       "      <td>5.102411e+07</td>\n",
       "    </tr>\n",
       "    <tr>\n",
       "      <th>20</th>\n",
       "      <td>50404000</td>\n",
       "      <td>5.382277e+07</td>\n",
       "    </tr>\n",
       "    <tr>\n",
       "      <th>21</th>\n",
       "      <td>6665000</td>\n",
       "      <td>3.768065e+06</td>\n",
       "    </tr>\n",
       "    <tr>\n",
       "      <th>22</th>\n",
       "      <td>9058000</td>\n",
       "      <td>4.882809e+06</td>\n",
       "    </tr>\n",
       "    <tr>\n",
       "      <th>23</th>\n",
       "      <td>12821000</td>\n",
       "      <td>2.667766e+07</td>\n",
       "    </tr>\n",
       "    <tr>\n",
       "      <th>24</th>\n",
       "      <td>18941000</td>\n",
       "      <td>2.296494e+07</td>\n",
       "    </tr>\n",
       "    <tr>\n",
       "      <th>25</th>\n",
       "      <td>19000</td>\n",
       "      <td>-1.693506e+06</td>\n",
       "    </tr>\n",
       "    <tr>\n",
       "      <th>26</th>\n",
       "      <td>39507000</td>\n",
       "      <td>1.023139e+07</td>\n",
       "    </tr>\n",
       "    <tr>\n",
       "      <th>27</th>\n",
       "      <td>94165000</td>\n",
       "      <td>6.975552e+07</td>\n",
       "    </tr>\n",
       "    <tr>\n",
       "      <th>28</th>\n",
       "      <td>3113000</td>\n",
       "      <td>2.592609e+06</td>\n",
       "    </tr>\n",
       "    <tr>\n",
       "      <th>29</th>\n",
       "      <td>3573000</td>\n",
       "      <td>9.129036e+05</td>\n",
       "    </tr>\n",
       "  </tbody>\n",
       "</table>\n",
       "</div>"
      ],
      "text/plain": [
       "      Actual     Predicted\n",
       "0      35000 -1.685074e+06\n",
       "1   50802000  3.397072e+07\n",
       "2     853000  6.708979e+05\n",
       "3   94298000  7.117551e+07\n",
       "4   31797000  2.926046e+07\n",
       "5   50754000  4.980986e+07\n",
       "6    4474000  9.117488e+06\n",
       "7   86010000  7.451215e+07\n",
       "8     262000 -1.294661e+06\n",
       "9     619000 -1.032418e+06\n",
       "10    132000 -1.534137e+06\n",
       "11  92525000  5.963007e+07\n",
       "12   1663000  2.341071e+05\n",
       "13  41538000  3.577522e+07\n",
       "14   3358000  4.504201e+06\n",
       "15  11316000  1.756492e+07\n",
       "16  20205000  4.745811e+07\n",
       "17  73422000  8.343938e+07\n",
       "18    859000  1.436547e+06\n",
       "19  16044000  5.102411e+07\n",
       "20  50404000  5.382277e+07\n",
       "21   6665000  3.768065e+06\n",
       "22   9058000  4.882809e+06\n",
       "23  12821000  2.667766e+07\n",
       "24  18941000  2.296494e+07\n",
       "25     19000 -1.693506e+06\n",
       "26  39507000  1.023139e+07\n",
       "27  94165000  6.975552e+07\n",
       "28   3113000  2.592609e+06\n",
       "29   3573000  9.129036e+05"
      ]
     },
     "execution_count": 70,
     "metadata": {},
     "output_type": "execute_result"
    }
   ],
   "source": [
    "# Create a dataframe comparing the actual and predicted values of yout.\n",
    "\n",
    "data_out = pd.DataFrame({'Actual': yout_test.flatten(), 'Predicted': yout_predicted.flatten()})\n",
    "data_out.head(30)"
   ]
  },
  {
   "cell_type": "markdown",
   "id": "235f637e-cd86-46e2-abd0-21409833f473",
   "metadata": {},
   "source": [
    "### even with outliers removed, MSE is way off and there are negative values\n",
    "### This is not a good model for this dataset"
   ]
  },
  {
   "cell_type": "markdown",
   "id": "becc34fa-2cfd-4e3e-ae87-595d2b1d1d82",
   "metadata": {},
   "source": [
    "#### the model and the predicted values are way out of alignment. Looks like this will not be a good method for predicting acres harvested by regression"
   ]
  },
  {
   "cell_type": "markdown",
   "id": "84bb0b2a-aff2-4fc9-8108-583370a88b4c",
   "metadata": {},
   "source": [
    "#### R2 score is closely positively correlated, so we can at least predict that the more acres harvested, the more sales increase."
   ]
  },
  {
   "cell_type": "markdown",
   "id": "2ddb6a9c-54de-4eb7-bb03-da54f0510a74",
   "metadata": {},
   "source": [
    "#### MSE still outrageous\n",
    "#### R2 slightly decreased"
   ]
  },
  {
   "cell_type": "markdown",
   "id": "f737bd5c-aafc-45aa-a634-e79d1243a2fd",
   "metadata": {},
   "source": [
    "#### I believe the reason the MSE is so far off has something to do with it not being limited to positive values, which is all the data set contains.  "
   ]
  },
  {
   "cell_type": "markdown",
   "id": "5dcda306-8ca1-4170-b767-deeb1ba3b252",
   "metadata": {},
   "source": [
    "## 7. Logarithmic Transformation"
   ]
  },
  {
   "cell_type": "markdown",
   "id": "01676925-bc7a-4e35-a65f-69dd46397665",
   "metadata": {},
   "source": [
    "### log transform on this data may make it more viable for regression analysis"
   ]
  },
  {
   "cell_type": "code",
   "execution_count": 78,
   "id": "8a72ea75-8eeb-49e1-8898-e1a58c6a6849",
   "metadata": {},
   "outputs": [
    {
     "name": "stderr",
     "output_type": "stream",
     "text": [
      "C:\\Users\\Noah\\AppData\\Local\\Temp\\ipykernel_26464\\3304711421.py:2: UserWarning: \n",
      "\n",
      "`distplot` is a deprecated function and will be removed in seaborn v0.14.0.\n",
      "\n",
      "Please adapt your code to use either `displot` (a figure-level function with\n",
      "similar flexibility) or `histplot` (an axes-level function for histograms).\n",
      "\n",
      "For a guide to updating your code to use the new functions, please see\n",
      "https://gist.github.com/mwaskom/de44147ed2974457ad6372750bbe5751\n",
      "\n",
      "  sns.distplot(df['Sales'], bins=50)\n"
     ]
    },
    {
     "data": {
      "text/plain": [
       "<Axes: xlabel='Sales', ylabel='Density'>"
      ]
     },
     "execution_count": 78,
     "metadata": {},
     "output_type": "execute_result"
    },
    {
     "data": {
      "image/png": "[encoded data removed]",
      "text/plain": [
       "<Figure size 640x480 with 1 Axes>"
      ]
     },
     "metadata": {},
     "output_type": "display_data"
    }
   ],
   "source": [
    "# show values for sales\n",
    "sns.distplot(df['Sales'], bins=50)"
   ]
  },
  {
   "cell_type": "code",
   "execution_count": 79,
   "id": "5725d68e-1e71-4979-b716-d3d6550fb254",
   "metadata": {},
   "outputs": [
    {
     "name": "stderr",
     "output_type": "stream",
     "text": [
      "C:\\Users\\Noah\\AppData\\Local\\Temp\\ipykernel_26464\\2025990818.py:1: UserWarning: \n",
      "\n",
      "`distplot` is a deprecated function and will be removed in seaborn v0.14.0.\n",
      "\n",
      "Please adapt your code to use either `displot` (a figure-level function with\n",
      "similar flexibility) or `histplot` (an axes-level function for histograms).\n",
      "\n",
      "For a guide to updating your code to use the new functions, please see\n",
      "https://gist.github.com/mwaskom/de44147ed2974457ad6372750bbe5751\n",
      "\n",
      "  sns.distplot(df['Corn Acres Harvested'], bins=50)\n"
     ]
    },
    {
     "data": {
      "text/plain": [
       "<Axes: xlabel='Corn Acres Harvested', ylabel='Density'>"
      ]
     },
     "execution_count": 79,
     "metadata": {},
     "output_type": "execute_result"
    },
    {
     "data": {
      "image/png": "[encoded data removed]",
      "text/plain": [
       "<Figure size 640x480 with 1 Axes>"
      ]
     },
     "metadata": {},
     "output_type": "display_data"
    }
   ],
   "source": [
    "sns.distplot(df['Corn Acres Harvested'], bins=50)"
   ]
  },
  {
   "cell_type": "markdown",
   "id": "05274d5d-e40a-4666-99de-37f25803932a",
   "metadata": {},
   "source": [
    "### big skews due to small or null values."
   ]
  },
  {
   "cell_type": "code",
   "execution_count": 81,
   "id": "1414fcaa-596f-4e10-b442-7667f66bf0fd",
   "metadata": {},
   "outputs": [
    {
     "name": "stdout",
     "output_type": "stream",
     "text": [
      "      Unnamed: 0  Year    County          State    Zip  Latitude  Longitude  \\\n",
      "6              6  2022   WAGONER       OKLAHOMA  74013     36.03     -95.78   \n",
      "14            14  2012  SANDOVAL     NEW MEXICO  87001     35.38    -106.47   \n",
      "15            15  2012  SANTA FE     NEW MEXICO  87010     35.37    -106.14   \n",
      "19            19  2012    SIERRA     NEW MEXICO  87901     33.13    -107.24   \n",
      "20            20  2012   SOCORRO     NEW MEXICO  87006     34.49    -106.84   \n",
      "...          ...   ...       ...            ...    ...       ...        ...   \n",
      "5024        5257  2022    OTTAWA       OKLAHOMA  74335     36.97     -94.85   \n",
      "5035        5268  2022    DENTON          TEXAS  75007     33.01     -96.90   \n",
      "5036        5269  2022   KLEBERG          TEXAS  78363     27.50     -97.86   \n",
      "5057        5291  2022    TUCKER  WEST VIRGINIA  26260     39.13     -79.46   \n",
      "5058        5292  2022    MARION  WEST VIRGINIA  26554     39.48     -80.14   \n",
      "\n",
      "      PHZ  Corn Acres Harvested  Sales   CV  State ANSI   Ag District  \\\n",
      "6     7.2                3810.0      0  0.3          40     NORTHEAST   \n",
      "14    7.2                  17.0      0  2.5          35     NORTHWEST   \n",
      "15    7.1                  17.0      0  2.5          35     NORTHWEST   \n",
      "19    8.1                  12.0      0  2.5          35     SOUTHWEST   \n",
      "20    7.1                 390.0      0  2.5          35     SOUTHWEST   \n",
      "...   ...                   ...    ...  ...         ...           ...   \n",
      "5024  7.1                6695.0      0  0.0          40     NORTHEAST   \n",
      "5035  8.2                2228.0      0  0.0          48    BLACKLANDS   \n",
      "5036  9.2                1140.0      0  0.0          48  COASTAL BEND   \n",
      "5057  6.1                 157.0      0  0.0          54       EASTERN   \n",
      "5058  6.2                  18.0      0  0.0          54     NORTHWEST   \n",
      "\n",
      "      Ag District Code            Concatenated  \n",
      "6                   70     WAGONEROKLAHOMA2022  \n",
      "14                  10   SANDOVALNEWMEXICO2012  \n",
      "15                  10    SANTAFENEWMEXICO2012  \n",
      "19                  70     SIERRANEWMEXICO2012  \n",
      "20                  70    SOCORRONEWMEXICO2012  \n",
      "...                ...                     ...  \n",
      "5024                70      OTTAWAOKLAHOMA2022  \n",
      "5035                40         DENTONTEXAS2022  \n",
      "5036                82        KLEBERGTEXAS2022  \n",
      "5057                60  TUCKERWESTVIRGINIA2022  \n",
      "5058                20  MARIONWESTVIRGINIA2022  \n",
      "\n",
      "[741 rows x 15 columns]\n"
     ]
    }
   ],
   "source": [
    "# using log transformation to normalize data\n",
    "#first replacing zero values with .1\n",
    "\n",
    "zero_instances_sales = df[df['Sales'] == 0]\n",
    "print(zero_instances_sales)"
   ]
  },
  {
   "cell_type": "markdown",
   "id": "36c5a5ea-6338-423f-9b95-9c161b68d9b1",
   "metadata": {},
   "source": [
    "#### 741 data points where corn was grown but not sold"
   ]
  },
  {
   "cell_type": "code",
   "execution_count": 83,
   "id": "60935d1b-ae05-4ff6-9ef4-b91d6ebb9881",
   "metadata": {},
   "outputs": [
    {
     "name": "stdout",
     "output_type": "stream",
     "text": [
      "Empty DataFrame\n",
      "Columns: [Unnamed: 0, Year, County, State, Zip, Latitude, Longitude, PHZ, Corn Acres Harvested, Sales, CV, State ANSI, Ag District, Ag District Code, Concatenated]\n",
      "Index: []\n"
     ]
    }
   ],
   "source": [
    "zero_instances_acres = df[df['Corn Acres Harvested'] == 0]\n",
    "print(zero_instances_acres)"
   ]
  },
  {
   "cell_type": "markdown",
   "id": "780f10ac-e3c6-446d-9d93-c804a93cf476",
   "metadata": {},
   "source": [
    "#### no nulls in acres set"
   ]
  },
  {
   "cell_type": "code",
   "execution_count": 85,
   "id": "ea0b47c3-1eff-41bd-86a3-3ece37607e05",
   "metadata": {},
   "outputs": [],
   "source": [
    "# need no zero values for logaritmic transforms\n",
    "def replace_zeros(x):\n",
    "    return x.replace(0, 0.1)\n",
    "\n",
    "# Apply the function to all rows\n",
    "df_replacezero = df.transform(replace_zeros)"
   ]
  },
  {
   "cell_type": "code",
   "execution_count": 86,
   "id": "797dd1fb-a40e-4d8b-abd3-b05c240678b7",
   "metadata": {},
   "outputs": [],
   "source": [
    "# log tranforming \n",
    "# Apply log transformation to the data\n",
    "log_sales = (np.log(df_replacezero['Sales']))"
   ]
  },
  {
   "cell_type": "code",
   "execution_count": 87,
   "id": "e424c112-9874-40a2-bdc0-d5ff90be9930",
   "metadata": {},
   "outputs": [
    {
     "name": "stdout",
     "output_type": "stream",
     "text": [
      "0       11.170435\n",
      "1       14.857200\n",
      "2       14.478714\n",
      "3       12.375815\n",
      "4       15.868865\n",
      "          ...    \n",
      "5059     7.600902\n",
      "5060     7.600902\n",
      "5061    13.729953\n",
      "5062    14.244692\n",
      "5063    14.379687\n",
      "Name: Sales, Length: 5064, dtype: float64\n"
     ]
    }
   ],
   "source": [
    "c"
   ]
  },
  {
   "cell_type": "code",
   "execution_count": 88,
   "id": "626e5e50-5c78-4a33-ab79-40124ff3eca3",
   "metadata": {},
   "outputs": [
    {
     "data": {
      "image/png": "[encoded data removed]",
      "text/plain": [
       "<Figure size 640x480 with 1 Axes>"
      ]
     },
     "metadata": {},
     "output_type": "display_data"
    }
   ],
   "source": [
    "plt.hist(log_sales, bins=50, label='Log-Transformed Data')\n",
    "plt.xlabel('Sales Logarithmic')\n",
    "plt.ylabel('Count of Farms')\n",
    "plt.legend()\n",
    "plt.show()"
   ]
  },
  {
   "cell_type": "markdown",
   "id": "8064c274-3e84-45de-9cec-4053cf3701dc",
   "metadata": {},
   "source": [
    "### data vastly skewed because of 0 sales data points"
   ]
  },
  {
   "cell_type": "code",
   "execution_count": 90,
   "id": "e5281d6b-cfa4-4e70-9728-e3199c5cb773",
   "metadata": {},
   "outputs": [
    {
     "name": "stderr",
     "output_type": "stream",
     "text": [
      "C:\\Users\\Noah\\AppData\\Local\\Temp\\ipykernel_26464\\1235748821.py:2: UserWarning: \n",
      "\n",
      "`distplot` is a deprecated function and will be removed in seaborn v0.14.0.\n",
      "\n",
      "Please adapt your code to use either `displot` (a figure-level function with\n",
      "similar flexibility) or `histplot` (an axes-level function for histograms).\n",
      "\n",
      "For a guide to updating your code to use the new functions, please see\n",
      "https://gist.github.com/mwaskom/de44147ed2974457ad6372750bbe5751\n",
      "\n",
      "  sns.distplot(log_sales, bins=25)\n"
     ]
    },
    {
     "data": {
      "text/plain": [
       "<Axes: xlabel='Sales', ylabel='Density'>"
      ]
     },
     "execution_count": 90,
     "metadata": {},
     "output_type": "execute_result"
    },
    {
     "data": {
      "image/png": "[encoded data removed]",
      "text/plain": [
       "<Figure size 640x480 with 1 Axes>"
      ]
     },
     "metadata": {},
     "output_type": "display_data"
    }
   ],
   "source": [
    "#plot logaritmic data for sales\n",
    "sns.distplot(log_sales, bins=25)\n"
   ]
  },
  {
   "cell_type": "code",
   "execution_count": 91,
   "id": "e634e9d8-1483-4924-9ed8-58298f902c01",
   "metadata": {},
   "outputs": [
    {
     "name": "stderr",
     "output_type": "stream",
     "text": [
      "C:\\Users\\Noah\\AppData\\Local\\Temp\\ipykernel_26464\\2323132959.py:5: UserWarning: \n",
      "\n",
      "`distplot` is a deprecated function and will be removed in seaborn v0.14.0.\n",
      "\n",
      "Please adapt your code to use either `displot` (a figure-level function with\n",
      "similar flexibility) or `histplot` (an axes-level function for histograms).\n",
      "\n",
      "For a guide to updating your code to use the new functions, please see\n",
      "https://gist.github.com/mwaskom/de44147ed2974457ad6372750bbe5751\n",
      "\n",
      "  sns.distplot(log_corn, bins=25) # Shows extreme values\n"
     ]
    },
    {
     "data": {
      "text/plain": [
       "<Axes: xlabel='Corn Acres Harvested', ylabel='Density'>"
      ]
     },
     "execution_count": 91,
     "metadata": {},
     "output_type": "execute_result"
    },
    {
     "data": {
      "image/png": "[encoded data removed]",
      "text/plain": [
       "<Figure size 640x480 with 1 Axes>"
      ]
     },
     "metadata": {},
     "output_type": "display_data"
    }
   ],
   "source": [
    "# repeat log transform with Corn acres data\n",
    "# log tranforming \n",
    "# Apply log transformation to the data\n",
    "log_corn = np.log(df['Corn Acres Harvested'])\n",
    "sns.distplot(log_corn, bins=25) # Shows extreme values"
   ]
  },
  {
   "cell_type": "markdown",
   "id": "d7c14d79-a67a-47ef-bbcd-ad446178f93e",
   "metadata": {},
   "source": [
    "#### conundrum... do we want to map zipcodes that have no sales but have acres harvested?"
   ]
  },
  {
   "cell_type": "markdown",
   "id": "069625fe-43fb-4dff-9b7a-033c7e84f78e",
   "metadata": {},
   "source": [
    "#### yes, but we want a map without those zips too."
   ]
  },
  {
   "cell_type": "markdown",
   "id": "782c9fa8-7935-4339-8d49-80ac69a25116",
   "metadata": {},
   "source": [
    "### Removing 0 sales for log purposes\n"
   ]
  },
  {
   "cell_type": "code",
   "execution_count": 95,
   "id": "883d1904-672f-499c-9fc5-3b8c696b3b27",
   "metadata": {},
   "outputs": [],
   "source": [
    "# Remove rows where the 'Sales' column has a value of 0\n",
    "\n",
    "df_no_zero_sales = df[df['Sales'] != 0]\n"
   ]
  },
  {
   "cell_type": "code",
   "execution_count": 96,
   "id": "f687e738-21a6-4d5c-b796-3be2bf30e6fd",
   "metadata": {},
   "outputs": [],
   "source": [
    "log_sales_nozero = np.log(df_no_zero_sales['Sales'])\n"
   ]
  },
  {
   "cell_type": "code",
   "execution_count": 97,
   "id": "e76a5fbf-2e10-4f25-a4d7-3d80cb0a5750",
   "metadata": {},
   "outputs": [
    {
     "data": {
      "text/plain": [
       "(4323,)"
      ]
     },
     "execution_count": 97,
     "metadata": {},
     "output_type": "execute_result"
    }
   ],
   "source": [
    "log_sales_nozero.shape"
   ]
  },
  {
   "cell_type": "code",
   "execution_count": 98,
   "id": "a256ac06-8a42-452b-914f-664ea2899cc9",
   "metadata": {},
   "outputs": [],
   "source": [
    "# matching acres data to non-zeroed sales data for charting purposes\n",
    "log_corn_nozero = np.log(df_no_zero_sales['Corn Acres Harvested'])\n"
   ]
  },
  {
   "cell_type": "code",
   "execution_count": 99,
   "id": "ac838b91-adcb-4593-b642-a9cf60221a2a",
   "metadata": {},
   "outputs": [
    {
     "data": {
      "text/plain": [
       "(4323,)"
      ]
     },
     "execution_count": 99,
     "metadata": {},
     "output_type": "execute_result"
    }
   ],
   "source": [
    "log_corn_nozero.shape"
   ]
  },
  {
   "cell_type": "code",
   "execution_count": 100,
   "id": "84ee137f-c746-456f-be4b-1c756c20781b",
   "metadata": {},
   "outputs": [
    {
     "data": {
      "image/png": "[encoded data removed]",
      "text/plain": [
       "<Figure size 640x480 with 1 Axes>"
      ]
     },
     "metadata": {},
     "output_type": "display_data"
    }
   ],
   "source": [
    "plt.hist(log_sales_nozero, bins=50, label='Log-Transformed Data')\n",
    "plt.xlabel('Sales')\n",
    "plt.ylabel('Count')\n",
    "plt.legend()\n",
    "plt.show()"
   ]
  },
  {
   "cell_type": "code",
   "execution_count": 101,
   "id": "32c1cdcb-144b-4496-95dc-ed62af060780",
   "metadata": {},
   "outputs": [
    {
     "data": {
      "image/png": "[encoded data removed]",
      "text/plain": [
       "<Figure size 640x480 with 1 Axes>"
      ]
     },
     "metadata": {},
     "output_type": "display_data"
    }
   ],
   "source": [
    "plt.hist(log_corn_nozero, bins=50, label='Log-Transformed Data')\n",
    "plt.xlabel('Sales')\n",
    "plt.ylabel('Count')\n",
    "plt.legend()\n",
    "plt.show()"
   ]
  },
  {
   "cell_type": "code",
   "execution_count": 102,
   "id": "5d55d8c2-6343-4c6c-842d-f5239b4d7795",
   "metadata": {},
   "outputs": [
    {
     "name": "stderr",
     "output_type": "stream",
     "text": [
      "C:\\Users\\Noah\\AppData\\Local\\Temp\\ipykernel_26464\\1976803769.py:1: UserWarning: \n",
      "\n",
      "`distplot` is a deprecated function and will be removed in seaborn v0.14.0.\n",
      "\n",
      "Please adapt your code to use either `displot` (a figure-level function with\n",
      "similar flexibility) or `histplot` (an axes-level function for histograms).\n",
      "\n",
      "For a guide to updating your code to use the new functions, please see\n",
      "https://gist.github.com/mwaskom/de44147ed2974457ad6372750bbe5751\n",
      "\n",
      "  sns.distplot(log_sales_nozero, bins=25)\n"
     ]
    },
    {
     "data": {
      "text/plain": [
       "<Axes: xlabel='Sales', ylabel='Density'>"
      ]
     },
     "execution_count": 102,
     "metadata": {},
     "output_type": "execute_result"
    },
    {
     "data": {
      "image/png": "[encoded data removed]",
      "text/plain": [
       "<Figure size 640x480 with 1 Axes>"
      ]
     },
     "metadata": {},
     "output_type": "display_data"
    }
   ],
   "source": [
    "sns.distplot(log_sales_nozero, bins=25)\n",
    "#log plot of sales data for farms without 0 sales\n"
   ]
  },
  {
   "cell_type": "markdown",
   "id": "16a4992e-d938-43dd-817b-32d482a09519",
   "metadata": {},
   "source": [
    "### distribution looks good. Now we have dataframes for sales and acres both with and without zeroes.\n",
    "### First, regression with zeroes\n",
    "### Following, regression without"
   ]
  },
  {
   "cell_type": "markdown",
   "id": "a0ca17ee-9a8e-4694-9ef0-c82344a73fed",
   "metadata": {
    "jp-MarkdownHeadingCollapsed": true
   },
   "source": [
    "## 8. Logarithmic Regression Analysis"
   ]
  },
  {
   "cell_type": "markdown",
   "id": "0725275c-b4ad-402a-8752-b0a18da73c9b",
   "metadata": {},
   "source": [
    "### First with zeroes"
   ]
  },
  {
   "cell_type": "code",
   "execution_count": 106,
   "id": "2039760e-b03b-41c3-852d-3849c685d209",
   "metadata": {},
   "outputs": [
    {
     "data": {
      "text/plain": [
       "13.20702417579088"
      ]
     },
     "execution_count": 106,
     "metadata": {},
     "output_type": "execute_result"
    }
   ],
   "source": [
    " # Check the mean and exponent to reverse logarithm\n",
    "(log_sales.mean())"
   ]
  },
  {
   "cell_type": "code",
   "execution_count": 107,
   "id": "ce25fb48-d8e0-4190-902c-ac89162da081",
   "metadata": {},
   "outputs": [
    {
     "data": {
      "text/plain": [
       "15.710503053050132"
      ]
     },
     "execution_count": 107,
     "metadata": {},
     "output_type": "execute_result"
    }
   ],
   "source": [
    " # Check the median\n",
    "log_sales.median()"
   ]
  },
  {
   "cell_type": "code",
   "execution_count": 108,
   "id": "8b8c2edc-9225-432f-8661-54d3c638172c",
   "metadata": {},
   "outputs": [
    {
     "data": {
      "text/plain": [
       "-2.3025850929940455"
      ]
     },
     "execution_count": 108,
     "metadata": {},
     "output_type": "execute_result"
    }
   ],
   "source": [
    "log_sales.min()"
   ]
  },
  {
   "cell_type": "code",
   "execution_count": 109,
   "id": "2385ff23-5361-427d-ada1-82533d76c6f0",
   "metadata": {},
   "outputs": [
    {
     "data": {
      "text/plain": [
       "19.791320711943346"
      ]
     },
     "execution_count": 109,
     "metadata": {},
     "output_type": "execute_result"
    }
   ],
   "source": [
    "log_sales.max()"
   ]
  },
  {
   "cell_type": "code",
   "execution_count": 110,
   "id": "382e2164-8472-4f70-834d-bdd8d099581f",
   "metadata": {},
   "outputs": [],
   "source": [
    "# Reshape the variables into NumPy arrays and put them into separate objects.\n",
    "\n",
    "XLS = log_sales.values.reshape(-1,1)\n",
    "yLC = log_corn.values.reshape(-1,1)"
   ]
  },
  {
   "cell_type": "code",
   "execution_count": 111,
   "id": "f103d14c-a4ca-4cd4-8381-79832469cd44",
   "metadata": {},
   "outputs": [
    {
     "data": {
      "text/plain": [
       "array([[11.17043516],\n",
       "       [14.8571997 ],\n",
       "       [14.47871386],\n",
       "       ...,\n",
       "       [13.72995267],\n",
       "       [14.24469219],\n",
       "       [14.37968736]])"
      ]
     },
     "execution_count": 111,
     "metadata": {},
     "output_type": "execute_result"
    }
   ],
   "source": [
    "XLS"
   ]
  },
  {
   "cell_type": "code",
   "execution_count": 112,
   "id": "020009d3-d0a2-428a-b733-bb6cdb13cf59",
   "metadata": {},
   "outputs": [
    {
     "data": {
      "text/plain": [
       "array([[5.49716823],\n",
       "       [8.02715011],\n",
       "       [8.06054005],\n",
       "       ...,\n",
       "       [7.49331725],\n",
       "       [6.45833828],\n",
       "       [6.96979067]])"
      ]
     },
     "execution_count": 112,
     "metadata": {},
     "output_type": "execute_result"
    }
   ],
   "source": [
    "yLC"
   ]
  },
  {
   "cell_type": "code",
   "execution_count": 113,
   "id": "75b87024-5ccd-4990-a06c-86cabebbce09",
   "metadata": {},
   "outputs": [
    {
     "data": {
      "text/plain": [
       "(5064, 1)"
      ]
     },
     "execution_count": 113,
     "metadata": {},
     "output_type": "execute_result"
    }
   ],
   "source": [
    "XLS.shape"
   ]
  },
  {
   "cell_type": "code",
   "execution_count": 114,
   "id": "e60dafa4-f09d-466e-be71-264dc713d3dc",
   "metadata": {},
   "outputs": [
    {
     "data": {
      "text/plain": [
       "(5064, 1)"
      ]
     },
     "execution_count": 114,
     "metadata": {},
     "output_type": "execute_result"
    }
   ],
   "source": [
    "yLC.shape"
   ]
  },
  {
   "cell_type": "code",
   "execution_count": 115,
   "id": "7bb02d67-93e4-48b0-81db-1dc0d0d9ef55",
   "metadata": {},
   "outputs": [],
   "source": [
    "# Split data into a training set and a test set.\n",
    "\n",
    "XLS_train, XLS_test, yLC_train, yLC_test = train_test_split(XLS, yLC, test_size=0.3, random_state=0)"
   ]
  },
  {
   "cell_type": "code",
   "execution_count": 116,
   "id": "ad9bec58-ce61-4629-9d05-5f957d574368",
   "metadata": {},
   "outputs": [],
   "source": [
    "# Create a regression object.\n",
    "\n",
    "regression = LinearRegression()  #  will be fit onto the training set."
   ]
  },
  {
   "cell_type": "code",
   "execution_count": 117,
   "id": "0677e8b7-3b33-48b9-8ab3-61f4f11466c2",
   "metadata": {},
   "outputs": [
    {
     "data": {
      "text/html": [
       "<style>#sk-container-id-3 {color: black;background-color: white;}#sk-container-id-3 pre{padding: 0;}#sk-container-id-3 div.sk-toggleable {background-color: white;}#sk-container-id-3 label.sk-toggleable__label {cursor: pointer;display: block;width: 100%;margin-bottom: 0;padding: 0.3em;box-sizing: border-box;text-align: center;}#sk-container-id-3 label.sk-toggleable__label-arrow:before {content: \"▸\";float: left;margin-right: 0.25em;color: #696969;}#sk-container-id-3 label.sk-toggleable__label-arrow:hover:before {color: black;}#sk-container-id-3 div.sk-estimator:hover label.sk-toggleable__label-arrow:before {color: black;}#sk-container-id-3 div.sk-toggleable__content {max-height: 0;max-width: 0;overflow: hidden;text-align: left;background-color: #f0f8ff;}#sk-container-id-3 div.sk-toggleable__content pre {margin: 0.2em;color: black;border-radius: 0.25em;background-color: #f0f8ff;}#sk-container-id-3 input.sk-toggleable__control:checked~div.sk-toggleable__content {max-height: 200px;max-width: 100%;overflow: auto;}#sk-container-id-3 input.sk-toggleable__control:checked~label.sk-toggleable__label-arrow:before {content: \"▾\";}#sk-container-id-3 div.sk-estimator input.sk-toggleable__control:checked~label.sk-toggleable__label {background-color: #d4ebff;}#sk-container-id-3 div.sk-label input.sk-toggleable__control:checked~label.sk-toggleable__label {background-color: #d4ebff;}#sk-container-id-3 input.sk-hidden--visually {border: 0;clip: rect(1px 1px 1px 1px);clip: rect(1px, 1px, 1px, 1px);height: 1px;margin: -1px;overflow: hidden;padding: 0;position: absolute;width: 1px;}#sk-container-id-3 div.sk-estimator {font-family: monospace;background-color: #f0f8ff;border: 1px dotted black;border-radius: 0.25em;box-sizing: border-box;margin-bottom: 0.5em;}#sk-container-id-3 div.sk-estimator:hover {background-color: #d4ebff;}#sk-container-id-3 div.sk-parallel-item::after {content: \"\";width: 100%;border-bottom: 1px solid gray;flex-grow: 1;}#sk-container-id-3 div.sk-label:hover label.sk-toggleable__label {background-color: #d4ebff;}#sk-container-id-3 div.sk-serial::before {content: \"\";position: absolute;border-left: 1px solid gray;box-sizing: border-box;top: 0;bottom: 0;left: 50%;z-index: 0;}#sk-container-id-3 div.sk-serial {display: flex;flex-direction: column;align-items: center;background-color: white;padding-right: 0.2em;padding-left: 0.2em;position: relative;}#sk-container-id-3 div.sk-item {position: relative;z-index: 1;}#sk-container-id-3 div.sk-parallel {display: flex;align-items: stretch;justify-content: center;background-color: white;position: relative;}#sk-container-id-3 div.sk-item::before, #sk-container-id-3 div.sk-parallel-item::before {content: \"\";position: absolute;border-left: 1px solid gray;box-sizing: border-box;top: 0;bottom: 0;left: 50%;z-index: -1;}#sk-container-id-3 div.sk-parallel-item {display: flex;flex-direction: column;z-index: 1;position: relative;background-color: white;}#sk-container-id-3 div.sk-parallel-item:first-child::after {align-self: flex-end;width: 50%;}#sk-container-id-3 div.sk-parallel-item:last-child::after {align-self: flex-start;width: 50%;}#sk-container-id-3 div.sk-parallel-item:only-child::after {width: 0;}#sk-container-id-3 div.sk-dashed-wrapped {border: 1px dashed gray;margin: 0 0.4em 0.5em 0.4em;box-sizing: border-box;padding-bottom: 0.4em;background-color: white;}#sk-container-id-3 div.sk-label label {font-family: monospace;font-weight: bold;display: inline-block;line-height: 1.2em;}#sk-container-id-3 div.sk-label-container {text-align: center;}#sk-container-id-3 div.sk-container {/* jupyter's `normalize.less` sets `[hidden] { display: none; }` but bootstrap.min.css set `[hidden] { display: none !important; }` so we also need the `!important` here to be able to override the default hidden behavior on the sphinx rendered scikit-learn.org. See: https://github.com/scikit-learn/scikit-learn/issues/21755 */display: inline-block !important;position: relative;}#sk-container-id-3 div.sk-text-repr-fallback {display: none;}</style><div id=\"sk-container-id-3\" class=\"sk-top-container\"><div class=\"sk-text-repr-fallback\"><pre>LinearRegression()</pre><b>In a Jupyter environment, please rerun this cell to show the HTML representation or trust the notebook. <br />On GitHub, the HTML representation is unable to render, please try loading this page with nbviewer.org.</b></div><div class=\"sk-container\" hidden><div class=\"sk-item\"><div class=\"sk-estimator sk-toggleable\"><input class=\"sk-toggleable__control sk-hidden--visually\" id=\"sk-estimator-id-3\" type=\"checkbox\" checked><label for=\"sk-estimator-id-3\" class=\"sk-toggleable__label sk-toggleable__label-arrow\">LinearRegression</label><div class=\"sk-toggleable__content\"><pre>LinearRegression()</pre></div></div></div></div></div>"
      ],
      "text/plain": [
       "LinearRegression()"
      ]
     },
     "execution_count": 117,
     "metadata": {},
     "output_type": "execute_result"
    }
   ],
   "source": [
    "regression.fit(XLS_train, yLC_train)"
   ]
  },
  {
   "cell_type": "code",
   "execution_count": 118,
   "id": "75fb2464-5316-40cd-a1ea-a52f025c83c1",
   "metadata": {},
   "outputs": [],
   "source": [
    "yLC_predicted = regression.predict(XLS_test)"
   ]
  },
  {
   "cell_type": "code",
   "execution_count": 119,
   "id": "0e8201e5-3103-4627-b0b3-2b6ecd3932f5",
   "metadata": {},
   "outputs": [
    {
     "data": {
      "image/png": "[encoded data removed]",
      "text/plain": [
       "<Figure size 640x480 with 1 Axes>"
      ]
     },
     "metadata": {},
     "output_type": "display_data"
    }
   ],
   "source": [
    "# Create a plot that shows the regression line from the model on the test set.\n",
    "\n",
    "plot_test = plt\n",
    "plot_test.scatter(XLS_test, yLC_test, color='gray', s = 15)\n",
    "plot_test.plot(XLS_test, yLC_predicted, color='red', linewidth =1)\n",
    "plot_test.title('Predicting Sales Using Acres Harvested')\n",
    "plot_test.xlabel('Corn Acres Harvested')\n",
    "plot_test.ylabel('Sales')\n",
    "plot_test.show()"
   ]
  },
  {
   "cell_type": "markdown",
   "id": "02170cc5-af07-41cc-b891-f4b452e20be9",
   "metadata": {},
   "source": [
    " #### Our numbers are more normalized but due to zero values from sales data not very useful"
   ]
  },
  {
   "cell_type": "code",
   "execution_count": 121,
   "id": "9eb3b0d3-5de9-494b-a970-c6474259b335",
   "metadata": {},
   "outputs": [],
   "source": [
    "# Create objects that contain the model summary statistics.\n",
    "\n",
    "rmse_log = mean_squared_error(yLC_test, yLC_predicted) # This is the mean squared error for the logarithmic transformed data\n",
    "r2_log = r2_score(yLC_test, yLC_predicted) # This is the R2 score for the Log transformed data"
   ]
  },
  {
   "cell_type": "code",
   "execution_count": 122,
   "id": "3cc4e7a4-f866-493e-9029-f3316a04ed2f",
   "metadata": {},
   "outputs": [
    {
     "name": "stdout",
     "output_type": "stream",
     "text": [
      "Slope: [[0.17281081]]\n",
      "Mean squared error:  4.076358855988447\n",
      "R2 score:  0.23499888322145823\n"
     ]
    }
   ],
   "source": [
    "# Print the model summary statistics. This is where you evaluate the performance of the model.\n",
    "\n",
    "print('Slope:' ,regression.coef_)\n",
    "print('Mean squared error: ', rmse_log)\n",
    "print('R2 score: ', r2_log)"
   ]
  },
  {
   "cell_type": "markdown",
   "id": "0fab3438-d707-4340-aea7-19414775df30",
   "metadata": {},
   "source": [
    "## 9. Repeating Log Reg Analysis Without Zero Values"
   ]
  },
  {
   "cell_type": "markdown",
   "id": "fc26c20f-7a04-4145-9a1e-2e370b8b934f",
   "metadata": {},
   "source": [
    "#### It seems likely that some areas grew corn but either withheld sales data or chose not to sell. \n",
    "#### In this case, we can remove zero values and only look at zip codes that chose to sell corn to see if there is a relationship between acres and sales"
   ]
  },
  {
   "cell_type": "code",
   "execution_count": 125,
   "id": "99054848-037e-4201-b6ea-747d5171788b",
   "metadata": {},
   "outputs": [],
   "source": [
    "XLZ = log_sales_nozero.values.reshape(-1,1)\n",
    "YLZ = log_corn_nozero.values.reshape(-1,1)"
   ]
  },
  {
   "cell_type": "code",
   "execution_count": 126,
   "id": "84045525-85f5-490d-860b-89ed06ef0110",
   "metadata": {},
   "outputs": [
    {
     "data": {
      "text/plain": [
       "array([[11.17043516],\n",
       "       [14.8571997 ],\n",
       "       [14.47871386],\n",
       "       ...,\n",
       "       [13.72995267],\n",
       "       [14.24469219],\n",
       "       [14.37968736]])"
      ]
     },
     "execution_count": 126,
     "metadata": {},
     "output_type": "execute_result"
    }
   ],
   "source": [
    "XLZ"
   ]
  },
  {
   "cell_type": "code",
   "execution_count": 127,
   "id": "7dc2cf63-5561-4848-8ae2-1616c57ad263",
   "metadata": {},
   "outputs": [
    {
     "data": {
      "text/plain": [
       "array([[5.49716823],\n",
       "       [8.02715011],\n",
       "       [8.06054005],\n",
       "       ...,\n",
       "       [7.49331725],\n",
       "       [6.45833828],\n",
       "       [6.96979067]])"
      ]
     },
     "execution_count": 127,
     "metadata": {},
     "output_type": "execute_result"
    }
   ],
   "source": [
    "YLZ"
   ]
  },
  {
   "cell_type": "code",
   "execution_count": 128,
   "id": "7304dbb9-bf76-49bf-9650-4c0506aa1f52",
   "metadata": {},
   "outputs": [
    {
     "data": {
      "text/plain": [
       "(4323, 1)"
      ]
     },
     "execution_count": 128,
     "metadata": {},
     "output_type": "execute_result"
    }
   ],
   "source": [
    "XLZ.shape"
   ]
  },
  {
   "cell_type": "code",
   "execution_count": 129,
   "id": "cf33c39a-859e-46d0-9aab-eb7021bd10d4",
   "metadata": {},
   "outputs": [
    {
     "data": {
      "text/plain": [
       "(4323, 1)"
      ]
     },
     "execution_count": 129,
     "metadata": {},
     "output_type": "execute_result"
    }
   ],
   "source": [
    "YLZ.shape"
   ]
  },
  {
   "cell_type": "code",
   "execution_count": 130,
   "id": "dd054ae6-beb3-423e-a682-235307642eac",
   "metadata": {},
   "outputs": [],
   "source": [
    "# Split data into a training set and a test set.\n",
    "\n",
    "XLZ_train, XLZ_test, YLZ_train, YLZ_test = train_test_split(XLZ, YLZ, test_size=0.3, random_state=0)"
   ]
  },
  {
   "cell_type": "code",
   "execution_count": 131,
   "id": "2c40a396-4505-40bc-872c-7d978b317415",
   "metadata": {},
   "outputs": [],
   "source": [
    "# Create a regression object.\n",
    "\n",
    "regression = LinearRegression()  #  will be fit onto the training set."
   ]
  },
  {
   "cell_type": "code",
   "execution_count": 132,
   "id": "8cac5df2-4a56-4bea-8a17-8c995d839eb7",
   "metadata": {},
   "outputs": [
    {
     "data": {
      "text/html": [
       "<style>#sk-container-id-4 {color: black;background-color: white;}#sk-container-id-4 pre{padding: 0;}#sk-container-id-4 div.sk-toggleable {background-color: white;}#sk-container-id-4 label.sk-toggleable__label {cursor: pointer;display: block;width: 100%;margin-bottom: 0;padding: 0.3em;box-sizing: border-box;text-align: center;}#sk-container-id-4 label.sk-toggleable__label-arrow:before {content: \"▸\";float: left;margin-right: 0.25em;color: #696969;}#sk-container-id-4 label.sk-toggleable__label-arrow:hover:before {color: black;}#sk-container-id-4 div.sk-estimator:hover label.sk-toggleable__label-arrow:before {color: black;}#sk-container-id-4 div.sk-toggleable__content {max-height: 0;max-width: 0;overflow: hidden;text-align: left;background-color: #f0f8ff;}#sk-container-id-4 div.sk-toggleable__content pre {margin: 0.2em;color: black;border-radius: 0.25em;background-color: #f0f8ff;}#sk-container-id-4 input.sk-toggleable__control:checked~div.sk-toggleable__content {max-height: 200px;max-width: 100%;overflow: auto;}#sk-container-id-4 input.sk-toggleable__control:checked~label.sk-toggleable__label-arrow:before {content: \"▾\";}#sk-container-id-4 div.sk-estimator input.sk-toggleable__control:checked~label.sk-toggleable__label {background-color: #d4ebff;}#sk-container-id-4 div.sk-label input.sk-toggleable__control:checked~label.sk-toggleable__label {background-color: #d4ebff;}#sk-container-id-4 input.sk-hidden--visually {border: 0;clip: rect(1px 1px 1px 1px);clip: rect(1px, 1px, 1px, 1px);height: 1px;margin: -1px;overflow: hidden;padding: 0;position: absolute;width: 1px;}#sk-container-id-4 div.sk-estimator {font-family: monospace;background-color: #f0f8ff;border: 1px dotted black;border-radius: 0.25em;box-sizing: border-box;margin-bottom: 0.5em;}#sk-container-id-4 div.sk-estimator:hover {background-color: #d4ebff;}#sk-container-id-4 div.sk-parallel-item::after {content: \"\";width: 100%;border-bottom: 1px solid gray;flex-grow: 1;}#sk-container-id-4 div.sk-label:hover label.sk-toggleable__label {background-color: #d4ebff;}#sk-container-id-4 div.sk-serial::before {content: \"\";position: absolute;border-left: 1px solid gray;box-sizing: border-box;top: 0;bottom: 0;left: 50%;z-index: 0;}#sk-container-id-4 div.sk-serial {display: flex;flex-direction: column;align-items: center;background-color: white;padding-right: 0.2em;padding-left: 0.2em;position: relative;}#sk-container-id-4 div.sk-item {position: relative;z-index: 1;}#sk-container-id-4 div.sk-parallel {display: flex;align-items: stretch;justify-content: center;background-color: white;position: relative;}#sk-container-id-4 div.sk-item::before, #sk-container-id-4 div.sk-parallel-item::before {content: \"\";position: absolute;border-left: 1px solid gray;box-sizing: border-box;top: 0;bottom: 0;left: 50%;z-index: -1;}#sk-container-id-4 div.sk-parallel-item {display: flex;flex-direction: column;z-index: 1;position: relative;background-color: white;}#sk-container-id-4 div.sk-parallel-item:first-child::after {align-self: flex-end;width: 50%;}#sk-container-id-4 div.sk-parallel-item:last-child::after {align-self: flex-start;width: 50%;}#sk-container-id-4 div.sk-parallel-item:only-child::after {width: 0;}#sk-container-id-4 div.sk-dashed-wrapped {border: 1px dashed gray;margin: 0 0.4em 0.5em 0.4em;box-sizing: border-box;padding-bottom: 0.4em;background-color: white;}#sk-container-id-4 div.sk-label label {font-family: monospace;font-weight: bold;display: inline-block;line-height: 1.2em;}#sk-container-id-4 div.sk-label-container {text-align: center;}#sk-container-id-4 div.sk-container {/* jupyter's `normalize.less` sets `[hidden] { display: none; }` but bootstrap.min.css set `[hidden] { display: none !important; }` so we also need the `!important` here to be able to override the default hidden behavior on the sphinx rendered scikit-learn.org. See: https://github.com/scikit-learn/scikit-learn/issues/21755 */display: inline-block !important;position: relative;}#sk-container-id-4 div.sk-text-repr-fallback {display: none;}</style><div id=\"sk-container-id-4\" class=\"sk-top-container\"><div class=\"sk-text-repr-fallback\"><pre>LinearRegression()</pre><b>In a Jupyter environment, please rerun this cell to show the HTML representation or trust the notebook. <br />On GitHub, the HTML representation is unable to render, please try loading this page with nbviewer.org.</b></div><div class=\"sk-container\" hidden><div class=\"sk-item\"><div class=\"sk-estimator sk-toggleable\"><input class=\"sk-toggleable__control sk-hidden--visually\" id=\"sk-estimator-id-4\" type=\"checkbox\" checked><label for=\"sk-estimator-id-4\" class=\"sk-toggleable__label sk-toggleable__label-arrow\">LinearRegression</label><div class=\"sk-toggleable__content\"><pre>LinearRegression()</pre></div></div></div></div></div>"
      ],
      "text/plain": [
       "LinearRegression()"
      ]
     },
     "execution_count": 132,
     "metadata": {},
     "output_type": "execute_result"
    }
   ],
   "source": [
    "# Fit the regression object onto the training set.\n",
    "\n",
    "regression.fit(XLZ_train, YLZ_train)"
   ]
  },
  {
   "cell_type": "code",
   "execution_count": 133,
   "id": "8654a8c4-0f85-4646-97a7-f87aae654949",
   "metadata": {},
   "outputs": [],
   "source": [
    "# Predict the values of y using X.\n",
    "\n",
    "YLZ_predicted = regression.predict(XLZ_test)"
   ]
  },
  {
   "cell_type": "code",
   "execution_count": 134,
   "id": "41bab359-1071-44f1-b5fa-7989f3c79560",
   "metadata": {},
   "outputs": [
    {
     "data": {
      "image/png": "[encoded data removed]",
      "text/plain": [
       "<Figure size 640x480 with 1 Axes>"
      ]
     },
     "metadata": {},
     "output_type": "display_data"
    }
   ],
   "source": [
    "# Create a plot that shows the regression line from the model on the test set.\n",
    "\n",
    "plot_test = plt\n",
    "plot_test.scatter(XLZ_test, YLZ_test, color='gray', s = 15)\n",
    "plot_test.plot(XLZ_test, YLZ_predicted, color='red', linewidth =3)\n",
    "plot_test.title('Predicting Sales Using Acres Harvested, Logarithmic Transform & No Zero')\n",
    "plot_test.xlabel('Sales')\n",
    "plot_test.ylabel('Corn Acres Harvested')\n",
    "plot_test.show()"
   ]
  },
  {
   "cell_type": "code",
   "execution_count": 135,
   "id": "27865ec2-6710-4d14-a3dc-c0e599def58d",
   "metadata": {},
   "outputs": [],
   "source": [
    "# Create objects that contain the model summary statistics.\n",
    "\n",
    "rmseLZ = mean_squared_error(YLZ_test, YLZ_predicted) # This is the mean squared error\n",
    "r2LZ = r2_score(YLZ_test, YLZ_predicted) # This is the R2 score. "
   ]
  },
  {
   "cell_type": "code",
   "execution_count": 136,
   "id": "2f852157-1b75-41cc-9a6b-8a655e94a3c6",
   "metadata": {},
   "outputs": [
    {
     "name": "stdout",
     "output_type": "stream",
     "text": [
      "Slope: [[0.84027542]]\n",
      "Mean squared error:  0.7255020633110785\n",
      "R2 score:  0.8542383304115104\n"
     ]
    }
   ],
   "source": [
    "# Print the model summary statistics. This is where you evaluate the performance of the model.\n",
    "\n",
    "print('Slope:' ,regression.coef_)\n",
    "print('Mean squared error: ', rmseLZ)\n",
    "print('R2 score: ', r2LZ)"
   ]
  },
  {
   "cell_type": "code",
   "execution_count": 137,
   "id": "c4d2767a-1bce-4456-8cfe-95bf2c179445",
   "metadata": {},
   "outputs": [
    {
     "data": {
      "text/html": [
       "<div>\n",
       "<style scoped>\n",
       "    .dataframe tbody tr th:only-of-type {\n",
       "        vertical-align: middle;\n",
       "    }\n",
       "\n",
       "    .dataframe tbody tr th {\n",
       "        vertical-align: top;\n",
       "    }\n",
       "\n",
       "    .dataframe thead th {\n",
       "        text-align: right;\n",
       "    }\n",
       "</style>\n",
       "<table border=\"1\" class=\"dataframe\">\n",
       "  <thead>\n",
       "    <tr style=\"text-align: right;\">\n",
       "      <th></th>\n",
       "      <th>Actual</th>\n",
       "      <th>Predicted</th>\n",
       "    </tr>\n",
       "  </thead>\n",
       "  <tbody>\n",
       "    <tr>\n",
       "      <th>0</th>\n",
       "      <td>8.963800</td>\n",
       "      <td>9.391423</td>\n",
       "    </tr>\n",
       "    <tr>\n",
       "      <th>1</th>\n",
       "      <td>10.726829</td>\n",
       "      <td>10.838181</td>\n",
       "    </tr>\n",
       "    <tr>\n",
       "      <th>2</th>\n",
       "      <td>11.311360</td>\n",
       "      <td>11.390576</td>\n",
       "    </tr>\n",
       "    <tr>\n",
       "      <th>3</th>\n",
       "      <td>5.529429</td>\n",
       "      <td>5.691710</td>\n",
       "    </tr>\n",
       "    <tr>\n",
       "      <th>4</th>\n",
       "      <td>8.200014</td>\n",
       "      <td>8.383330</td>\n",
       "    </tr>\n",
       "    <tr>\n",
       "      <th>5</th>\n",
       "      <td>6.968850</td>\n",
       "      <td>7.120720</td>\n",
       "    </tr>\n",
       "    <tr>\n",
       "      <th>6</th>\n",
       "      <td>5.003946</td>\n",
       "      <td>5.362287</td>\n",
       "    </tr>\n",
       "    <tr>\n",
       "      <th>7</th>\n",
       "      <td>12.342424</td>\n",
       "      <td>12.113524</td>\n",
       "    </tr>\n",
       "    <tr>\n",
       "      <th>8</th>\n",
       "      <td>6.956545</td>\n",
       "      <td>7.907079</td>\n",
       "    </tr>\n",
       "    <tr>\n",
       "      <th>9</th>\n",
       "      <td>11.626290</td>\n",
       "      <td>11.315110</td>\n",
       "    </tr>\n",
       "    <tr>\n",
       "      <th>10</th>\n",
       "      <td>5.575949</td>\n",
       "      <td>7.912483</td>\n",
       "    </tr>\n",
       "    <tr>\n",
       "      <th>11</th>\n",
       "      <td>8.453188</td>\n",
       "      <td>9.073303</td>\n",
       "    </tr>\n",
       "    <tr>\n",
       "      <th>12</th>\n",
       "      <td>8.874308</td>\n",
       "      <td>8.898224</td>\n",
       "    </tr>\n",
       "    <tr>\n",
       "      <th>13</th>\n",
       "      <td>11.508305</td>\n",
       "      <td>11.559933</td>\n",
       "    </tr>\n",
       "    <tr>\n",
       "      <th>14</th>\n",
       "      <td>4.859812</td>\n",
       "      <td>5.279956</td>\n",
       "    </tr>\n",
       "    <tr>\n",
       "      <th>15</th>\n",
       "      <td>11.979737</td>\n",
       "      <td>11.262111</td>\n",
       "    </tr>\n",
       "    <tr>\n",
       "      <th>16</th>\n",
       "      <td>10.756865</td>\n",
       "      <td>6.734586</td>\n",
       "    </tr>\n",
       "    <tr>\n",
       "      <th>17</th>\n",
       "      <td>7.448916</td>\n",
       "      <td>8.132112</td>\n",
       "    </tr>\n",
       "    <tr>\n",
       "      <th>18</th>\n",
       "      <td>5.736572</td>\n",
       "      <td>6.083799</td>\n",
       "    </tr>\n",
       "    <tr>\n",
       "      <th>19</th>\n",
       "      <td>9.206433</td>\n",
       "      <td>9.539465</td>\n",
       "    </tr>\n",
       "    <tr>\n",
       "      <th>20</th>\n",
       "      <td>1.791759</td>\n",
       "      <td>7.319206</td>\n",
       "    </tr>\n",
       "    <tr>\n",
       "      <th>21</th>\n",
       "      <td>8.625150</td>\n",
       "      <td>9.457426</td>\n",
       "    </tr>\n",
       "    <tr>\n",
       "      <th>22</th>\n",
       "      <td>10.016057</td>\n",
       "      <td>10.281903</td>\n",
       "    </tr>\n",
       "    <tr>\n",
       "      <th>23</th>\n",
       "      <td>6.594413</td>\n",
       "      <td>7.523562</td>\n",
       "    </tr>\n",
       "    <tr>\n",
       "      <th>24</th>\n",
       "      <td>11.370959</td>\n",
       "      <td>11.303261</td>\n",
       "    </tr>\n",
       "    <tr>\n",
       "      <th>25</th>\n",
       "      <td>7.054450</td>\n",
       "      <td>7.113781</td>\n",
       "    </tr>\n",
       "    <tr>\n",
       "      <th>26</th>\n",
       "      <td>10.557894</td>\n",
       "      <td>10.402100</td>\n",
       "    </tr>\n",
       "    <tr>\n",
       "      <th>27</th>\n",
       "      <td>9.013474</td>\n",
       "      <td>8.348156</td>\n",
       "    </tr>\n",
       "    <tr>\n",
       "      <th>28</th>\n",
       "      <td>8.625150</td>\n",
       "      <td>8.865601</td>\n",
       "    </tr>\n",
       "    <tr>\n",
       "      <th>29</th>\n",
       "      <td>11.113522</td>\n",
       "      <td>11.010770</td>\n",
       "    </tr>\n",
       "  </tbody>\n",
       "</table>\n",
       "</div>"
      ],
      "text/plain": [
       "       Actual  Predicted\n",
       "0    8.963800   9.391423\n",
       "1   10.726829  10.838181\n",
       "2   11.311360  11.390576\n",
       "3    5.529429   5.691710\n",
       "4    8.200014   8.383330\n",
       "5    6.968850   7.120720\n",
       "6    5.003946   5.362287\n",
       "7   12.342424  12.113524\n",
       "8    6.956545   7.907079\n",
       "9   11.626290  11.315110\n",
       "10   5.575949   7.912483\n",
       "11   8.453188   9.073303\n",
       "12   8.874308   8.898224\n",
       "13  11.508305  11.559933\n",
       "14   4.859812   5.279956\n",
       "15  11.979737  11.262111\n",
       "16  10.756865   6.734586\n",
       "17   7.448916   8.132112\n",
       "18   5.736572   6.083799\n",
       "19   9.206433   9.539465\n",
       "20   1.791759   7.319206\n",
       "21   8.625150   9.457426\n",
       "22  10.016057  10.281903\n",
       "23   6.594413   7.523562\n",
       "24  11.370959  11.303261\n",
       "25   7.054450   7.113781\n",
       "26  10.557894  10.402100\n",
       "27   9.013474   8.348156\n",
       "28   8.625150   8.865601\n",
       "29  11.113522  11.010770"
      ]
     },
     "execution_count": 137,
     "metadata": {},
     "output_type": "execute_result"
    }
   ],
   "source": [
    "dataLZ = pd.DataFrame({'Actual': YLZ_test.flatten(), 'Predicted': YLZ_predicted.flatten()})\n",
    "dataLZ.head(30)"
   ]
  },
  {
   "cell_type": "markdown",
   "id": "147fd8c6-6f53-46d4-875c-7d0b138b15ae",
   "metadata": {},
   "source": [
    "## 10 Reflections"
   ]
  },
  {
   "cell_type": "markdown",
   "id": "4ba56036-2b9a-4b4a-b5e9-b58ca2ae60e7",
   "metadata": {},
   "source": [
    "### Sales data normalized through Logarithm and eliminating zero data."
   ]
  },
  {
   "cell_type": "markdown",
   "id": "bbbbad75-0247-42f2-8925-42446b5fd80a",
   "metadata": {},
   "source": [
    "#### Transformations and eliminations required to reach acceptable regression level for machine analysis\n",
    "#### in the end, it is a pretty good model for machine prediction\n",
    "#### Once the zero values were removed, it became clear there is a strong correlation\n",
    "#### next step would be to analyze based on year- is the correlation stronger in 2012 or 2022?\n",
    "#### also, we could compare other factors like Plant Hardiness Zone to Sales or Latitude to Acres Harvested\n",
    "#### I believe that those data comparisons would have less manipulation required before they are able to be analyzed through machine learning"
   ]
  },
  {
   "cell_type": "code",
   "execution_count": null,
   "id": "67db5926-9c9c-450e-8a0a-d3a59a20445d",
   "metadata": {},
   "outputs": [],
   "source": []
  }
 ],
 "metadata": {
  "kernelspec": {
   "display_name": "Python 3 (ipykernel)",
   "language": "python",
   "name": "python3"
  },
  "language_info": {
   "codemirror_mode": {
    "name": "ipython",
    "version": 3
   },
   "file_extension": ".py",
   "mimetype": "text/x-python",
   "name": "python",
   "nbconvert_exporter": "python",
   "pygments_lexer": "ipython3",
   "version": "3.11.7"
  }
 },
 "nbformat": 4,
 "nbformat_minor": 5
}
